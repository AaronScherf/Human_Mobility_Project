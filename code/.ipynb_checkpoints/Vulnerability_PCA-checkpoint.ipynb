{
 "cells": [
  {
   "cell_type": "markdown",
   "metadata": {},
   "source": [
    "## Importing Data Notebook and Inputting User Metadata"
   ]
  },
  {
   "cell_type": "markdown",
   "metadata": {},
   "source": [
    "Code sources:\n",
    "- https://github.com/dlab-berkeley/Geospatial-Fundamentals-in-Python/blob/master/Geopandas_Intro_F2019_GC.ipynb\n",
    "- https://rasterio.readthedocs.io/en/stable/"
   ]
  },
  {
   "cell_type": "markdown",
   "metadata": {},
   "source": [
    "#### Metadata: operating system and directory"
   ]
  },
  {
   "cell_type": "markdown",
   "metadata": {},
   "source": [
    "Specify operating system:"
   ]
  },
  {
   "cell_type": "code",
   "execution_count": 1,
   "metadata": {},
   "outputs": [
    {
     "name": "stdout",
     "output_type": "stream",
     "text": [
      "What is your operating system?\n",
      "Enter w for Windows and m for Mac.w\n"
     ]
    }
   ],
   "source": [
    "# get operating system (Windows or Mac) from user\n",
    "op_user_input = input(\"What is your operating system?\\nEnter w for Windows and m for Mac.\")\n"
   ]
  },
  {
   "cell_type": "code",
   "execution_count": 2,
   "metadata": {},
   "outputs": [
    {
     "data": {
      "text/plain": [
       "'Windows'"
      ]
     },
     "execution_count": 2,
     "metadata": {},
     "output_type": "execute_result"
    }
   ],
   "source": [
    "# set operating system for workflow\n",
    "op_system_dict = {'w':'Windows', 'm':'Mac'}\n",
    "op_system = op_system_dict[op_user_input]\n",
    "op_system"
   ]
  },
  {
   "cell_type": "markdown",
   "metadata": {},
   "source": [
    "Set path to master directory:"
   ]
  },
  {
   "cell_type": "code",
   "execution_count": 3,
   "metadata": {},
   "outputs": [],
   "source": [
    "# Create an object containing the file path to a master folder with the following folders:\n",
    "    # code\n",
    "        # 1_importing (This import notebook should be within this sub-folder)\n",
    "        # 2_cleaning\n",
    "        # 3_processing\n",
    "        # 4_exploration\n",
    "        # 5_analysis\n",
    "        # 6_output\n",
    "    # data\n",
    "        # raw_data\n",
    "        # processed_data\n",
    "        \n",
    "# Set the object `master` to your local file path of the master folder\n",
    "master = 'C:/Users/theaa/Desktop/Data Science Pedagogy Resources/Python/Human_Mobility_Project/Human_Mobility_Project'\n",
    "# master = '/Users/katewetstone/Desktop/CYPLAN 257 Data Science Human Mobility/Human_Mobility_Project'"
   ]
  },
  {
   "cell_type": "code",
   "execution_count": 4,
   "metadata": {},
   "outputs": [
    {
     "name": "stdout",
     "output_type": "stream",
     "text": [
      "Is this the correct master directory? Type Y or N\n",
      "C:/Users/theaa/Desktop/Data Science Pedagogy Resources/Python/Human_Mobility_Project/Human_Mobility_ProjectY\n"
     ]
    }
   ],
   "source": [
    "user_ans = input('Is this the correct master directory? Type Y or N\\n'+master)"
   ]
  },
  {
   "cell_type": "code",
   "execution_count": 5,
   "metadata": {},
   "outputs": [],
   "source": [
    "if user_ans == 'N':\n",
    "    master = input('Enter the correct path to the master directory')"
   ]
  },
  {
   "cell_type": "markdown",
   "metadata": {},
   "source": [
    "#### Metadata: PCA datasets and files"
   ]
  },
  {
   "cell_type": "markdown",
   "metadata": {},
   "source": [
    "Input metadata about datasets to be used in PCA. Specify the list of PCA datasets to be used and the direction of vulnerability for each in the form of a dictionary. Dictionary format: `{'dataset_zipfile_name':direction of vulnerability}`\n",
    "\n",
    "For direction of vulnerability\n",
    "- 1: higher value indicates higher vulnerability (eg. infant mortality)\n",
    "- -1: lower value indicates higher vulnerability (eg. median income)\n",
    "\n",
    "To get the direction of vulnerability for a given dataset:\n",
    "`pca_data_metadata['pca_data_name']` (eg. `pca_data_metadata['travel_time']` returns 1)"
   ]
  },
  {
   "cell_type": "code",
   "execution_count": 6,
   "metadata": {},
   "outputs": [
    {
     "name": "stdout",
     "output_type": "stream",
     "text": [
      "{'travel_time': 1, 'infant_mort': 1, 'val_prod': -1, 'val_prod_per_ha': -1}\n",
      "['travel_time', 'infant_mort', 'val_prod', 'val_prod_per_ha']\n"
     ]
    }
   ],
   "source": [
    "pca_data_metadata = {'travel_time':1,\n",
    "                     'infant_mort':1,\n",
    "                    'val_prod':-1,\n",
    "                    'val_prod_per_ha':-1}\n",
    "pca_data_names = list(pca_data_metadata.keys())\n",
    "\n",
    "print(pca_data_metadata)\n",
    "print(pca_data_names)"
   ]
  },
  {
   "cell_type": "markdown",
   "metadata": {},
   "source": [
    "Enter a list of zipfile names containing the data required for pca and for country borders:"
   ]
  },
  {
   "cell_type": "code",
   "execution_count": 7,
   "metadata": {},
   "outputs": [],
   "source": [
    "myfiles = ('TravelTime_50k.zip', \n",
    "           'World_Country_Borders.zip', \n",
    "            'PovMap_Global_Infant_Mortality.zip', \n",
    "           'val_prod.zip')"
   ]
  },
  {
   "cell_type": "code",
   "execution_count": 8,
   "metadata": {},
   "outputs": [],
   "source": [
    "# import packages necessary besides geopandas and rasterio\n",
    "from random import randint\n",
    "import numpy as np\n",
    "import math\n",
    "import warnings\n",
    "import sklearn\n",
    "import matplotlib.pyplot as plt"
   ]
  },
  {
   "cell_type": "markdown",
   "metadata": {},
   "source": [
    "### Installing and Importing Necessary Packages"
   ]
  },
  {
   "cell_type": "markdown",
   "metadata": {},
   "source": [
    "Geopandas works for vector data. For raster data, use rasterio (see next section).\n",
    "\n",
    "First, install Homebrew so that the `!brew install spatialindex` command  works. `spatialindex` is a dependency of `rtree`, which is a dependency of `geopandas`. To install Homebrew open a new Terminal window and enter the following command:\n",
    "\n",
    "`!ruby -e \"$(curl -fsSL https://raw.githubusercontent.com/Homebrew/install/master/install)\" < /dev/null 2> /dev/null`\n",
    "\n",
    "When it prompts for your password, type in your computer's password and press Enter. Your password won't show up typed onto the screen but is still being entered."
   ]
  },
  {
   "cell_type": "code",
   "execution_count": 72,
   "metadata": {},
   "outputs": [],
   "source": [
    "# !ruby -e \"$(curl -fsSL https://raw.githubusercontent.com/Homebrew/install/master/install)\" < /dev/null 2> /dev/null"
   ]
  },
  {
   "cell_type": "markdown",
   "metadata": {},
   "source": [
    "Install libraries:"
   ]
  },
  {
   "cell_type": "code",
   "execution_count": 73,
   "metadata": {},
   "outputs": [
    {
     "name": "stdout",
     "output_type": "stream",
     "text": [
      "Requirement already satisfied: wget in /anaconda3/lib/python3.6/site-packages (3.2)\n",
      "Requirement already satisfied: pysal in /anaconda3/lib/python3.6/site-packages (2.1.0)\n",
      "Requirement already satisfied: scipy in /anaconda3/lib/python3.6/site-packages (from pysal) (1.1.0)\n",
      "Requirement already satisfied: tqdm in /anaconda3/lib/python3.6/site-packages (from pysal) (4.37.0)\n",
      "Requirement already satisfied: pandas in /anaconda3/lib/python3.6/site-packages (from pysal) (0.23.0)\n",
      "Requirement already satisfied: geopandas in /anaconda3/lib/python3.6/site-packages (from pysal) (0.6.1+8.g1e37902)\n",
      "Requirement already satisfied: seaborn in /anaconda3/lib/python3.6/site-packages (from pysal) (0.8.1)\n",
      "Requirement already satisfied: scikit-learn in /anaconda3/lib/python3.6/site-packages (from pysal) (0.19.1)\n",
      "Requirement already satisfied: rtree in /anaconda3/lib/python3.6/site-packages (from pysal) (0.8.3)\n",
      "Requirement already satisfied: deprecated in /anaconda3/lib/python3.6/site-packages (from pysal) (1.2.6)\n",
      "Requirement already satisfied: matplotlib in /anaconda3/lib/python3.6/site-packages (from pysal) (2.2.2)\n",
      "Requirement already satisfied: descartes in /anaconda3/lib/python3.6/site-packages (from pysal) (1.1.0)\n",
      "Requirement already satisfied: palettable in /anaconda3/lib/python3.6/site-packages (from pysal) (3.3.0)\n",
      "Requirement already satisfied: python-dateutil>=2.5.0 in /anaconda3/lib/python3.6/site-packages (from pandas->pysal) (2.7.3)\n",
      "Requirement already satisfied: pytz>=2011k in /anaconda3/lib/python3.6/site-packages (from pandas->pysal) (2018.4)\n",
      "Requirement already satisfied: numpy>=1.9.0 in /anaconda3/lib/python3.6/site-packages (from pandas->pysal) (1.14.3)\n",
      "Requirement already satisfied: pyproj in /anaconda3/lib/python3.6/site-packages (from geopandas->pysal) (2.4.1)\n",
      "Requirement already satisfied: shapely in /anaconda3/lib/python3.6/site-packages (from geopandas->pysal) (1.6.4.post2)\n",
      "Requirement already satisfied: fiona in /anaconda3/lib/python3.6/site-packages (from geopandas->pysal) (1.8.9.post2)\n",
      "Requirement already satisfied: setuptools in /anaconda3/lib/python3.6/site-packages (from rtree->pysal) (41.6.0)\n",
      "Requirement already satisfied: wrapt<2,>=1.10 in /anaconda3/lib/python3.6/site-packages (from deprecated->pysal) (1.10.11)\n",
      "Requirement already satisfied: cycler>=0.10 in /anaconda3/lib/python3.6/site-packages (from matplotlib->pysal) (0.10.0)\n",
      "Requirement already satisfied: pyparsing!=2.0.4,!=2.1.2,!=2.1.6,>=2.0.1 in /anaconda3/lib/python3.6/site-packages (from matplotlib->pysal) (2.2.0)\n",
      "Requirement already satisfied: six>=1.10 in /anaconda3/lib/python3.6/site-packages (from matplotlib->pysal) (1.11.0)\n",
      "Requirement already satisfied: kiwisolver>=1.0.1 in /anaconda3/lib/python3.6/site-packages (from matplotlib->pysal) (1.0.1)\n",
      "Requirement already satisfied: munch in /anaconda3/lib/python3.6/site-packages (from fiona->geopandas->pysal) (2.5.0)\n",
      "Requirement already satisfied: attrs>=17 in /anaconda3/lib/python3.6/site-packages (from fiona->geopandas->pysal) (18.1.0)\n",
      "Requirement already satisfied: click-plugins>=1.0 in /anaconda3/lib/python3.6/site-packages (from fiona->geopandas->pysal) (1.1.1)\n",
      "Requirement already satisfied: click<8,>=4.0 in /anaconda3/lib/python3.6/site-packages (from fiona->geopandas->pysal) (6.7)\n",
      "Requirement already satisfied: cligj>=0.5 in /anaconda3/lib/python3.6/site-packages (from fiona->geopandas->pysal) (0.5.0)\n",
      "Requirement already satisfied: mapclassify in /anaconda3/lib/python3.6/site-packages (2.1.1)\n",
      "Requirement already satisfied: pandas in /anaconda3/lib/python3.6/site-packages (from mapclassify) (0.23.0)\n",
      "Requirement already satisfied: numpy>=1.3 in /anaconda3/lib/python3.6/site-packages (from mapclassify) (1.14.3)\n",
      "Requirement already satisfied: scipy>=0.11 in /anaconda3/lib/python3.6/site-packages (from mapclassify) (1.1.0)\n",
      "Requirement already satisfied: deprecated in /anaconda3/lib/python3.6/site-packages (from mapclassify) (1.2.6)\n",
      "Requirement already satisfied: scikit-learn in /anaconda3/lib/python3.6/site-packages (from mapclassify) (0.19.1)\n",
      "Requirement already satisfied: python-dateutil>=2.5.0 in /anaconda3/lib/python3.6/site-packages (from pandas->mapclassify) (2.7.3)\n",
      "Requirement already satisfied: pytz>=2011k in /anaconda3/lib/python3.6/site-packages (from pandas->mapclassify) (2018.4)\n",
      "Requirement already satisfied: wrapt<2,>=1.10 in /anaconda3/lib/python3.6/site-packages (from deprecated->mapclassify) (1.10.11)\n",
      "Requirement already satisfied: six>=1.5 in /anaconda3/lib/python3.6/site-packages (from python-dateutil>=2.5.0->pandas->mapclassify) (1.11.0)\n",
      "Requirement already satisfied: fiona in /anaconda3/lib/python3.6/site-packages (1.8.9.post2)\n",
      "Requirement already satisfied: munch in /anaconda3/lib/python3.6/site-packages (from fiona) (2.5.0)\n",
      "Requirement already satisfied: attrs>=17 in /anaconda3/lib/python3.6/site-packages (from fiona) (18.1.0)\n",
      "Requirement already satisfied: click<8,>=4.0 in /anaconda3/lib/python3.6/site-packages (from fiona) (6.7)\n",
      "Requirement already satisfied: cligj>=0.5 in /anaconda3/lib/python3.6/site-packages (from fiona) (0.5.0)\n",
      "Requirement already satisfied: six>=1.7 in /anaconda3/lib/python3.6/site-packages (from fiona) (1.11.0)\n",
      "Requirement already satisfied: click-plugins>=1.0 in /anaconda3/lib/python3.6/site-packages (from fiona) (1.1.1)\n",
      "Requirement already satisfied: shapely in /anaconda3/lib/python3.6/site-packages (1.6.4.post2)\n",
      "Requirement already satisfied: pyproj in /anaconda3/lib/python3.6/site-packages (2.4.1)\n",
      "\u001b[31mERROR: Could not find a version that satisfies the requirement spatialindex (from versions: none)\u001b[0m\n",
      "\u001b[31mERROR: No matching distribution found for spatialindex\u001b[0m\n",
      "Requirement already satisfied: rtree in /anaconda3/lib/python3.6/site-packages (0.8.3)\n",
      "Requirement already satisfied: setuptools in /anaconda3/lib/python3.6/site-packages (from rtree) (41.6.0)\n",
      "Requirement already satisfied: geopandas in /anaconda3/lib/python3.6/site-packages (0.6.1+8.g1e37902)\n",
      "Requirement already satisfied: fiona in /anaconda3/lib/python3.6/site-packages (from geopandas) (1.8.9.post2)\n",
      "Requirement already satisfied: pyproj in /anaconda3/lib/python3.6/site-packages (from geopandas) (2.4.1)\n",
      "Requirement already satisfied: pandas>=0.23.0 in /anaconda3/lib/python3.6/site-packages (from geopandas) (0.23.0)\n",
      "Requirement already satisfied: shapely in /anaconda3/lib/python3.6/site-packages (from geopandas) (1.6.4.post2)\n",
      "Requirement already satisfied: click<8,>=4.0 in /anaconda3/lib/python3.6/site-packages (from fiona->geopandas) (6.7)\n",
      "Requirement already satisfied: cligj>=0.5 in /anaconda3/lib/python3.6/site-packages (from fiona->geopandas) (0.5.0)\n",
      "Requirement already satisfied: click-plugins>=1.0 in /anaconda3/lib/python3.6/site-packages (from fiona->geopandas) (1.1.1)\n",
      "Requirement already satisfied: attrs>=17 in /anaconda3/lib/python3.6/site-packages (from fiona->geopandas) (18.1.0)\n",
      "Requirement already satisfied: munch in /anaconda3/lib/python3.6/site-packages (from fiona->geopandas) (2.5.0)\n",
      "Requirement already satisfied: six>=1.7 in /anaconda3/lib/python3.6/site-packages (from fiona->geopandas) (1.11.0)\n",
      "Requirement already satisfied: python-dateutil>=2.5.0 in /anaconda3/lib/python3.6/site-packages (from pandas>=0.23.0->geopandas) (2.7.3)\n",
      "Requirement already satisfied: pytz>=2011k in /anaconda3/lib/python3.6/site-packages (from pandas>=0.23.0->geopandas) (2018.4)\n",
      "Requirement already satisfied: numpy>=1.9.0 in /anaconda3/lib/python3.6/site-packages (from pandas>=0.23.0->geopandas) (1.14.3)\n",
      "Requirement already satisfied: descartes in /anaconda3/lib/python3.6/site-packages (1.1.0)\n",
      "Requirement already satisfied: matplotlib in /anaconda3/lib/python3.6/site-packages (from descartes) (2.2.2)\n",
      "Requirement already satisfied: numpy>=1.7.1 in /anaconda3/lib/python3.6/site-packages (from matplotlib->descartes) (1.14.3)\n",
      "Requirement already satisfied: cycler>=0.10 in /anaconda3/lib/python3.6/site-packages (from matplotlib->descartes) (0.10.0)\n",
      "Requirement already satisfied: pyparsing!=2.0.4,!=2.1.2,!=2.1.6,>=2.0.1 in /anaconda3/lib/python3.6/site-packages (from matplotlib->descartes) (2.2.0)\n",
      "Requirement already satisfied: python-dateutil>=2.1 in /anaconda3/lib/python3.6/site-packages (from matplotlib->descartes) (2.7.3)\n",
      "Requirement already satisfied: pytz in /anaconda3/lib/python3.6/site-packages (from matplotlib->descartes) (2018.4)\n",
      "Requirement already satisfied: six>=1.10 in /anaconda3/lib/python3.6/site-packages (from matplotlib->descartes) (1.11.0)\n",
      "Requirement already satisfied: kiwisolver>=1.0.1 in /anaconda3/lib/python3.6/site-packages (from matplotlib->descartes) (1.0.1)\n",
      "Requirement already satisfied: setuptools in /anaconda3/lib/python3.6/site-packages (from kiwisolver>=1.0.1->matplotlib->descartes) (41.6.0)\n"
     ]
    }
   ],
   "source": [
    "# Install os\n",
    "if op_system == 'Windows' :\n",
    "    !pip install os\n",
    "\n",
    "# Install zipfile\n",
    "if op_system == 'Windows' :\n",
    "    !pip install zipfile \n",
    "\n",
    "# Install wget\n",
    "!pip install wget\n",
    "# Install pysal\n",
    "!pip install pysal\n",
    "# Install mapclassify\n",
    "!pip install mapclassify\n",
    "# Install geopy\n",
    "!pip install geopy\n",
    "\n",
    "# Install Geopandas dependencies\n",
    "!pip install fiona \n",
    "!pip install shapely \n",
    "!pip install pyproj \n",
    "!pip install spatialindex\n",
    "!pip install rtree\n",
    "\n",
    "# Install Geopandas\n",
    "!pip install geopandas\n",
    "# Install descartes - Geopandas requirement\n",
    "!pip install descartes"
   ]
  },
  {
   "cell_type": "markdown",
   "metadata": {},
   "source": [
    "Geopandas can also be installed directly from github. This still requires installing geopandas dependencies separately (`pandas fiona shapely pyproj rtree`)\n",
    "\n",
    "To install directly from github: `!pip install git+git://github.com/geopandas/geopandas.git`"
   ]
  },
  {
   "cell_type": "markdown",
   "metadata": {},
   "source": [
    "Import libraries:"
   ]
  },
  {
   "cell_type": "code",
   "execution_count": 124,
   "metadata": {},
   "outputs": [],
   "source": [
    "from __future__ import division\n",
    "\n",
    "# Import os and zipfile for Windows\n",
    "import os\n",
    "import zipfile\n",
    "\n",
    "# Import wget    \n",
    "import wget\n",
    "\n",
    "# geopandas dependencies\n",
    "import pandas as pd\n",
    "import fiona \n",
    "import shapely\n",
    "import pyproj\n",
    "import rtree\n",
    "\n",
    "# Import geopandas, mapclassify, and matplotlib\n",
    "import geopandas as gpd\n",
    "import mapclassify\n",
    "import matplotlib.pyplot as plt\n",
    "from shapely.geometry import Point\n",
    "from shapely.geometry import Polygon\n",
    "from shapely.geometry import mapping\n",
    "from matplotlib import pyplot\n",
    "\n",
    "import matplotlib as mpl\n",
    "from descartes import PolygonPatch\n",
    "import geopy.distance"
   ]
  },
  {
   "cell_type": "markdown",
   "metadata": {},
   "source": [
    "### Installing and Importing Rasterio\n",
    "\n",
    "References: \n",
    "- https://rasterio.readthedocs.io/en/stable/\n",
    "- https://rasterio.readthedocs.io/en/stable/quickstart.html#reading-raster-data\n",
    "\n",
    "Note that geopandas only works for vector data."
   ]
  },
  {
   "cell_type": "code",
   "execution_count": 75,
   "metadata": {},
   "outputs": [
    {
     "name": "stdout",
     "output_type": "stream",
     "text": [
      "Requirement already satisfied: rasterio in /anaconda3/lib/python3.6/site-packages (1.1.0)\n",
      "Requirement already satisfied: click-plugins in /anaconda3/lib/python3.6/site-packages (from rasterio) (1.1.1)\n",
      "Requirement already satisfied: numpy in /anaconda3/lib/python3.6/site-packages (from rasterio) (1.14.3)\n",
      "Requirement already satisfied: click<8,>=4.0 in /anaconda3/lib/python3.6/site-packages (from rasterio) (6.7)\n",
      "Requirement already satisfied: snuggs>=1.4.1 in /anaconda3/lib/python3.6/site-packages (from rasterio) (1.4.7)\n",
      "Requirement already satisfied: attrs in /anaconda3/lib/python3.6/site-packages (from rasterio) (18.1.0)\n",
      "Requirement already satisfied: affine in /anaconda3/lib/python3.6/site-packages (from rasterio) (2.3.0)\n",
      "Requirement already satisfied: cligj>=0.5 in /anaconda3/lib/python3.6/site-packages (from rasterio) (0.5.0)\n",
      "Requirement already satisfied: pyparsing>=2.1.6 in /anaconda3/lib/python3.6/site-packages (from snuggs>=1.4.1->rasterio) (2.2.0)\n"
     ]
    }
   ],
   "source": [
    "if op_system == 'Mac' :\n",
    "    !pip install rasterio"
   ]
  },
  {
   "cell_type": "code",
   "execution_count": 76,
   "metadata": {},
   "outputs": [],
   "source": [
    "if op_system == 'Windows' :\n",
    "    !conda config --add channels conda-forge\n",
    "    !conda install rasterio"
   ]
  },
  {
   "cell_type": "code",
   "execution_count": 119,
   "metadata": {},
   "outputs": [
    {
     "name": "stdout",
     "output_type": "stream",
     "text": [
      "Requirement already satisfied: affine in c:\\users\\theaa\\appdata\\local\\continuum\\anaconda3\\lib\\site-packages (2.3.0)\n",
      "Collecting mercantile\n",
      "  Downloading https://files.pythonhosted.org/packages/9d/1d/80d28ba17e4647bf820e8d5f485d58f9da9c5ca424450489eb49e325ba66/mercantile-1.1.2-py3-none-any.whl\n",
      "Requirement already satisfied: click>=3.0 in c:\\users\\theaa\\appdata\\local\\continuum\\anaconda3\\lib\\site-packages (from mercantile) (7.0)\n",
      "Installing collected packages: mercantile\n",
      "Successfully installed mercantile-1.1.2\n"
     ]
    }
   ],
   "source": [
    "!pip install affine\n",
    "!pip install mercantile"
   ]
  },
  {
   "cell_type": "code",
   "execution_count": 128,
   "metadata": {},
   "outputs": [],
   "source": [
    "import rasterio\n",
    "import rasterio.features\n",
    "import rasterio.warp\n",
    "import rasterio.mask\n",
    "import rasterio.plot\n",
    "from rasterio.enums import Resampling\n",
    "from rasterio.vrt import WarpedVRT\n",
    "from rasterio.crs import CRS\n",
    "from rasterio import shutil as rio_shutil\n",
    "\n",
    "import affine\n",
    "from affine import Affine\n",
    "import mercantile"
   ]
  },
  {
   "cell_type": "markdown",
   "metadata": {},
   "source": [
    "## Fetch and Unzip Raw Data"
   ]
  },
  {
   "cell_type": "markdown",
   "metadata": {},
   "source": [
    "Fetch data files with `wget`"
   ]
  },
  {
   "cell_type": "code",
   "execution_count": 11,
   "metadata": {},
   "outputs": [],
   "source": [
    "# Set our current directory to the master folder\n",
    "os.chdir(master)"
   ]
  },
  {
   "cell_type": "markdown",
   "metadata": {},
   "source": [
    "See the list saved as `myfiles` in the metadata section:"
   ]
  },
  {
   "cell_type": "code",
   "execution_count": 12,
   "metadata": {},
   "outputs": [
    {
     "data": {
      "text/plain": [
       "('TravelTime_50k.zip',\n",
       " 'World_Country_Borders.zip',\n",
       " 'PovMap_Global_Infant_Mortality.zip',\n",
       " 'val_prod.zip')"
      ]
     },
     "execution_count": 12,
     "metadata": {},
     "output_type": "execute_result"
    }
   ],
   "source": [
    "myfiles"
   ]
  },
  {
   "cell_type": "code",
   "execution_count": 13,
   "metadata": {},
   "outputs": [],
   "source": [
    "data_path = 'data/raw_data'"
   ]
  },
  {
   "cell_type": "markdown",
   "metadata": {},
   "source": [
    "FLAG:\n",
    "- This was giving errors  because the folder for raw didn't exist. I made the data/raw_data folder and added a placeholder txt file that we may need to keep in there even when we dump all the other stuff (I think empty folders can't exist on github)\n",
    "- in the wget.download, I had to change the link (see below) for it to download correctly as a zipfile. before it wasn't able to recognize the files as zip files even after they downloaded"
   ]
  },
  {
   "cell_type": "code",
   "execution_count": 14,
   "metadata": {},
   "outputs": [],
   "source": [
    "prefix = 'https://github.com/AaronScherf/Southern_Africa_Data/blob/master/'\n",
    "\n",
    "for f in myfiles:\n",
    "    wget.download(prefix+f+'?raw=true', out = data_path)"
   ]
  },
  {
   "cell_type": "markdown",
   "metadata": {},
   "source": [
    "Unzip the data files"
   ]
  },
  {
   "cell_type": "code",
   "execution_count": 15,
   "metadata": {},
   "outputs": [],
   "source": [
    "for f in myfiles:\n",
    "    with zipfile.ZipFile(data_path+'/'+f, 'r') as zip_ref:\n",
    "        zip_ref.extractall(data_path)"
   ]
  },
  {
   "cell_type": "code",
   "execution_count": 16,
   "metadata": {},
   "outputs": [],
   "source": [
    "if 'CELL5M.zip' in myfiles:\n",
    "    dir_name = master + '/' + data_path + '/CELL5M/Raster'\n",
    "    extension = \".zip\"\n",
    "\n",
    "    os.chdir(dir_name) # change directory from working dir to dir with files\n",
    "\n",
    "    for item in os.listdir(dir_name): # loop through items in dir\n",
    "        if item.endswith(extension): # check for \".zip\" extension\n",
    "            file_name = os.path.abspath(item) # get full path of files\n",
    "            zip_ref = zipfile.ZipFile(file_name) # create zipfile object\n",
    "            zip_ref.extractall(dir_name) # extract file to dir\n",
    "            zip_ref.close() # close file\n",
    "            os.remove(file_name) # delete zipped file"
   ]
  },
  {
   "cell_type": "code",
   "execution_count": 17,
   "metadata": {},
   "outputs": [],
   "source": [
    "# Set our current directory to the master folder\n",
    "os.chdir(master)"
   ]
  },
  {
   "cell_type": "markdown",
   "metadata": {},
   "source": [
    "## Reading in Vector Data with GeoPandas"
   ]
  },
  {
   "cell_type": "markdown",
   "metadata": {},
   "source": [
    "Import the shapefile for country borders. Steps needed:\n",
    "1. Import shapefile (done)\n",
    "2. Change the bounds to only include southern Africa (to do)"
   ]
  },
  {
   "cell_type": "code",
   "execution_count": 18,
   "metadata": {
    "scrolled": true
   },
   "outputs": [
    {
     "data": {
      "text/plain": [
       "<matplotlib.axes._subplots.AxesSubplot at 0x1c53b69e710>"
      ]
     },
     "execution_count": 18,
     "metadata": {},
     "output_type": "execute_result"
    },
    {
     "data": {
      "image/png": "[encoded data removed]",
      "text/plain": [
       "<Figure size 432x288 with 1 Axes>"
      ]
     },
     "metadata": {
      "needs_background": "light"
     },
     "output_type": "display_data"
    }
   ],
   "source": [
    "# read in borders shapefile\n",
    "country_borders = gpd.read_file(data_path+'/'+\n",
    "                                'World_Country_Borders/ne_50m_admin_0_countries.shp') \n",
    "# visualize country borders\n",
    "country_borders.plot()"
   ]
  },
  {
   "cell_type": "code",
   "execution_count": 19,
   "metadata": {},
   "outputs": [
    {
     "name": "stdout",
     "output_type": "stream",
     "text": [
      "Country Borders CRS {'init': 'epsg:4326'}\n"
     ]
    }
   ],
   "source": [
    "print(\"Country Borders CRS\", country_borders.crs)"
   ]
  },
  {
   "cell_type": "code",
   "execution_count": 20,
   "metadata": {},
   "outputs": [
    {
     "data": {
      "text/plain": [
       "True"
      ]
     },
     "execution_count": 20,
     "metadata": {},
     "output_type": "execute_result"
    }
   ],
   "source": [
    "southern_africa_countries = ('South Africa', \n",
    "                             'Angola', \n",
    "                             'Botswana',\n",
    "                             'Lesotho',\n",
    "                             'eSwatini',\n",
    "                             'Namibia',\n",
    "                             'United Republic of Tanzania',\n",
    "                             'Zambia',\n",
    "                             'Zimbabwe',\n",
    "                             'Madagascar',\n",
    "                             'Democratic Republic of the Congo',\n",
    "                             'Mozambique',\n",
    "                             'Malawi'\n",
    "                            )\n",
    "\n",
    "sum(country_borders['ADMIN'].isin(southern_africa_countries)) == len(southern_africa_countries)"
   ]
  },
  {
   "cell_type": "code",
   "execution_count": 21,
   "metadata": {},
   "outputs": [],
   "source": [
    "southern_africa_borders = country_borders[country_borders['ADMIN'].isin(southern_africa_countries)]"
   ]
  },
  {
   "cell_type": "code",
   "execution_count": 22,
   "metadata": {},
   "outputs": [
    {
     "data": {
      "text/plain": [
       "<matplotlib.axes._subplots.AxesSubplot at 0x1c53b6b7390>"
      ]
     },
     "execution_count": 22,
     "metadata": {},
     "output_type": "execute_result"
    },
    {
     "data": {
      "image/png": "[encoded data removed]",
      "text/plain": [
       "<Figure size 432x288 with 1 Axes>"
      ]
     },
     "metadata": {
      "needs_background": "light"
     },
     "output_type": "display_data"
    }
   ],
   "source": [
    "southern_africa_borders.plot()"
   ]
  },
  {
   "cell_type": "code",
   "execution_count": 23,
   "metadata": {},
   "outputs": [],
   "source": [
    "if op_system == 'Windows':\n",
    "    # FLAG: aaron, check that this displays the same way within an if \n",
    "#     statement. also check command three chunks down\n",
    "    southern_africa_borders.unary_union.envelope\n",
    "elif op_system == 'Mac':\n",
    "    print(southern_africa_borders.bounds)"
   ]
  },
  {
   "cell_type": "code",
   "execution_count": 91,
   "metadata": {},
   "outputs": [],
   "source": [
    "max_lat = max(southern_africa_borders.bounds['maxx']) # right bound\n",
    "min_lat = min(southern_africa_borders.bounds['minx']) # left bound\n",
    "max_long = max(southern_africa_borders.bounds['maxy']) # top bound\n",
    "min_long = min(southern_africa_borders.bounds['miny']) # bottom bound"
   ]
  },
  {
   "cell_type": "code",
   "execution_count": 92,
   "metadata": {},
   "outputs": [],
   "source": [
    "upper_left = [min_lat,max_long]\n",
    "upper_right = [max_lat,max_long]\n",
    "lower_right = [max_lat,min_long]\n",
    "lower_left = [min_lat,min_long]"
   ]
  },
  {
   "cell_type": "code",
   "execution_count": 93,
   "metadata": {},
   "outputs": [],
   "source": [
    "if op_system == 'Windows':\n",
    "    southern_africa_borders.unary_union[1] | southern_africa_borders.unary_union[7]"
   ]
  },
  {
   "cell_type": "code",
   "execution_count": 29,
   "metadata": {},
   "outputs": [],
   "source": [
    "if op_system == 'Mac':\n",
    "    southern_africa_box = shapely.geometry.box(\n",
    "        min_lat, min_long, max_lat, max_long, ccw=True)\n",
    "elif op_system == 'Windows':\n",
    "    southern_africa_box = southern_africa_borders.unary_union.envelope"
   ]
  },
  {
   "cell_type": "markdown",
   "metadata": {},
   "source": [
    "FLAG: I changed the code for windows as well so both save the necessary object as 'southern_africa_box', so there are fewer places where we need to split mac and windows for the workflow. before, the object for windows was saved as southern_africa_box.union and border_box.union. I changed it both above and when writing to a new shapefile below.\n",
    "\n",
    "I saved a checkpoint before making the changes so they should still be accessible if it stops working for you."
   ]
  },
  {
   "cell_type": "code",
   "execution_count": 49,
   "metadata": {},
   "outputs": [],
   "source": [
    "# Define a polygon feature geometry with one attribute\n",
    "schema = {\n",
    "    'geometry': 'Polygon',\n",
    "    'properties': {'id': 'int'},\n",
    "}\n",
    "\n",
    "# Write a new Shapefile of the boundary box\n",
    "with fiona.open('data/raw_data/border_box.shp', 'w', 'ESRI Shapefile', schema) as c:\n",
    "  ## If there are multiple geometries, put the \\\"for\\\" loop here\\n\",\n",
    "    c.write({\n",
    "        'geometry': mapping(southern_africa_box),\n",
    "        'properties': {'id': 123},\n",
    "    })"
   ]
  },
  {
   "cell_type": "code",
   "execution_count": 50,
   "metadata": {},
   "outputs": [
    {
     "data": {
      "text/plain": [
       "<matplotlib.axes._subplots.AxesSubplot at 0x1c53b6d6550>"
      ]
     },
     "execution_count": 50,
     "metadata": {},
     "output_type": "execute_result"
    },
    {
     "data": {
      "image/png": "[encoded data removed]",
      "text/plain": [
       "<Figure size 432x288 with 1 Axes>"
      ]
     },
     "metadata": {
      "needs_background": "light"
     },
     "output_type": "display_data"
    }
   ],
   "source": [
    "# read in borders shapefile\n",
    "border_box = gpd.read_file(data_path+'/'+\n",
    "                                'border_box.shp') \n",
    "# visualize country borders\n",
    "border_box.plot()"
   ]
  },
  {
   "cell_type": "markdown",
   "metadata": {},
   "source": [
    "FLAG: for me, this doesn't give an outline of the countries, it just gives a rectangle. was that the case before / is that a problem?\n",
    "\n",
    "No that's the goal."
   ]
  },
  {
   "cell_type": "markdown",
   "metadata": {},
   "source": [
    "## Read in Raster Data with Rasterio"
   ]
  },
  {
   "cell_type": "markdown",
   "metadata": {},
   "source": [
    "Read in the data for variables to use in the principal component analysis."
   ]
  },
  {
   "cell_type": "markdown",
   "metadata": {},
   "source": [
    "FLAG: change the name of the zipfile to the name we want to save the saved version as (will be easier for when we incorporate data processing pipeline)"
   ]
  },
  {
   "cell_type": "code",
   "execution_count": 32,
   "metadata": {},
   "outputs": [
    {
     "data": {
      "text/plain": [
       "['travel_time', 'infant_mort', 'val_prod', 'val_prod_per_ha']"
      ]
     },
     "execution_count": 32,
     "metadata": {},
     "output_type": "execute_result"
    }
   ],
   "source": [
    "# display list of datasets\n",
    "pca_data_names"
   ]
  },
  {
   "cell_type": "code",
   "execution_count": 34,
   "metadata": {},
   "outputs": [
    {
     "data": {
      "text/html": [
       "<div>\n",
       "<style scoped>\n",
       "    .dataframe tbody tr th:only-of-type {\n",
       "        vertical-align: middle;\n",
       "    }\n",
       "\n",
       "    .dataframe tbody tr th {\n",
       "        vertical-align: top;\n",
       "    }\n",
       "\n",
       "    .dataframe thead th {\n",
       "        text-align: right;\n",
       "    }\n",
       "</style>\n",
       "<table border=\"1\" class=\"dataframe\">\n",
       "  <thead>\n",
       "    <tr style=\"text-align: right;\">\n",
       "      <th></th>\n",
       "      <th>path</th>\n",
       "    </tr>\n",
       "  </thead>\n",
       "  <tbody>\n",
       "    <tr>\n",
       "      <th>travel_time</th>\n",
       "      <td>data/raw_data/TravelTime_50k/Traveltime_50k.tif</td>\n",
       "    </tr>\n",
       "    <tr>\n",
       "      <th>infant_mort</th>\n",
       "      <td>data/raw_data/PovMap_Global_Infant_Mortality/p...</td>\n",
       "    </tr>\n",
       "    <tr>\n",
       "      <th>val_prod</th>\n",
       "      <td>data/raw_data/val_prod.tif</td>\n",
       "    </tr>\n",
       "    <tr>\n",
       "      <th>val_prod_per_ha</th>\n",
       "      <td>data/raw_data/val_prod_per_ha.tif</td>\n",
       "    </tr>\n",
       "  </tbody>\n",
       "</table>\n",
       "</div>"
      ],
      "text/plain": [
       "                                                              path\n",
       "travel_time        data/raw_data/TravelTime_50k/Traveltime_50k.tif\n",
       "infant_mort      data/raw_data/PovMap_Global_Infant_Mortality/p...\n",
       "val_prod                                data/raw_data/val_prod.tif\n",
       "val_prod_per_ha                  data/raw_data/val_prod_per_ha.tif"
      ]
     },
     "execution_count": 34,
     "metadata": {},
     "output_type": "execute_result"
    }
   ],
   "source": [
    "# Save paths for all datasets\n",
    "# FLAG: turn into a for loop once the names of paths matches \n",
    "#                   what we want them to be saved as\n",
    "Paths = list()\n",
    "Paths.append(data_path+'/'+'TravelTime_50k/Traveltime_50k.tif')\n",
    "Paths.append(data_path+'/'+\n",
    "             'PovMap_Global_Infant_Mortality/povmap_global_subnational_infant_mortality_rates_v2.tif')\n",
    "Paths.append(data_path+'/'+'val_prod.tif')\n",
    "Paths.append(data_path+'/'+'val_prod_per_ha.tif')\n",
    "\n",
    "# Create a dataframe to store pca data through pipeline\n",
    "pca_data = pd.DataFrame({'path':Paths},\n",
    "                       index = pca_data_names)\n",
    "pca_data"
   ]
  },
  {
   "cell_type": "code",
   "execution_count": 35,
   "metadata": {},
   "outputs": [
    {
     "data": {
      "text/plain": [
       "<open DatasetReader name='data/raw_data/TravelTime_50k/Traveltime_50k.tif' mode='r'>"
      ]
     },
     "execution_count": 35,
     "metadata": {},
     "output_type": "execute_result"
    }
   ],
   "source": [
    "# Create a list with raster data\n",
    "rasters = list()\n",
    "for name in pca_data_names:\n",
    "    rasters.append(rasterio.open(pca_data.loc[name,'path']))\n",
    "\n",
    "# add as a column to the pca dataframe\n",
    "pca_data['raster'] = rasters\n",
    "\n",
    "# To access one raster data file\n",
    "pca_data.loc['travel_time','raster']"
   ]
  },
  {
   "cell_type": "code",
   "execution_count": 36,
   "metadata": {},
   "outputs": [
    {
     "data": {
      "text/plain": [
       "{'driver': 'GTiff', 'dtype': 'float32', 'nodata': -3.4028234663852886e+38, 'width': 828, 'height': 742, 'count': 1, 'crs': CRS.from_dict(init='epsg:4326'), 'transform': Affine(0.08333333333329998, 0.0, -17.499999999666578,\n",
       "       0.0, -0.0833333333333, 26.9999999998646), 'blockxsize': 128, 'blockysize': 128, 'tiled': True, 'interleave': 'band'}"
      ]
     },
     "execution_count": 36,
     "metadata": {},
     "output_type": "execute_result"
    }
   ],
   "source": [
    "# Create a list with raster metadata\n",
    "metadata = list()\n",
    "for name in pca_data_names:\n",
    "    metadata.append(pca_data.loc[name,'raster'].profile)\n",
    "    \n",
    "# add as a column to pca dataframe\n",
    "pca_data['metadata'] = metadata\n",
    "\n",
    "# To access one raster metadata file\n",
    "pca_data.loc['travel_time','metadata']"
   ]
  },
  {
   "cell_type": "code",
   "execution_count": 37,
   "metadata": {
    "scrolled": true
   },
   "outputs": [
    {
     "name": "stdout",
     "output_type": "stream",
     "text": [
      "travel_time\n",
      "infant_mort\n"
     ]
    },
    {
     "name": "stderr",
     "output_type": "stream",
     "text": [
      "C:\\Users\\theaa\\AppData\\Local\\Continuum\\anaconda3\\lib\\site-packages\\matplotlib\\image.py:399: RuntimeWarning: overflow encountered in double_scalars\n",
      "  newmin = vmid - dv * fact\n",
      "C:\\Users\\theaa\\AppData\\Local\\Continuum\\anaconda3\\lib\\site-packages\\matplotlib\\image.py:404: RuntimeWarning: overflow encountered in double_scalars\n",
      "  newmax = vmid + dv * fact\n",
      "C:\\Users\\theaa\\AppData\\Local\\Continuum\\anaconda3\\lib\\site-packages\\matplotlib\\image.py:441: RuntimeWarning: invalid value encountered in multiply\n",
      "  A_resampled *= ((a_max - a_min) / 0.8)\n",
      "C:\\Users\\theaa\\AppData\\Local\\Continuum\\anaconda3\\lib\\site-packages\\matplotlib\\colors.py:512: RuntimeWarning: invalid value encountered in less\n",
      "  xa[xa < 0] = -1\n"
     ]
    },
    {
     "name": "stdout",
     "output_type": "stream",
     "text": [
      "val_prod\n",
      "val_prod_per_ha\n"
     ]
    },
    {
     "data": {
      "image/png": "[encoded data removed]",
      "text/plain": [
       "<Figure size 432x288 with 1 Axes>"
      ]
     },
     "metadata": {
      "needs_background": "light"
     },
     "output_type": "display_data"
    }
   ],
   "source": [
    "for name in pca_data_names:\n",
    "    print(name)\n",
    "    pyplot.imshow(pca_data.loc[name,'raster'].read(1), cmap='pink')\n",
    "    pyplot.savefig(name+'_raw.png')\n",
    "#    pyplot.show()"
   ]
  },
  {
   "cell_type": "markdown",
   "metadata": {},
   "source": [
    "Next step: use dataset.transform to map pixel locations. See https://rasterio.readthedocs.io/en/stable/quickstart.html#reading-raster-data"
   ]
  },
  {
   "cell_type": "markdown",
   "metadata": {},
   "source": [
    "All datasets for PCA should use the same coordinate reference system, `EPSG:4326`."
   ]
  },
  {
   "cell_type": "code",
   "execution_count": 102,
   "metadata": {},
   "outputs": [
    {
     "data": {
      "text/plain": [
       "True"
      ]
     },
     "execution_count": 102,
     "metadata": {},
     "output_type": "execute_result"
    }
   ],
   "source": [
    "def check_crs(datasets, crs='EPSG:4326'):\n",
    "    # Checks that all datasets use the same coordinate reference system\n",
    "    # Returns true if all datasets use the crs specified\n",
    "    check = True\n",
    "    for dataset in datasets:\n",
    "        if dataset.crs != crs:\n",
    "            print(dataset.name)\n",
    "            print(dataset.crs)\n",
    "            check = False\n",
    "    return check\n",
    "\n",
    "check_crs(pca_data['raster'])"
   ]
  },
  {
   "cell_type": "markdown",
   "metadata": {},
   "source": [
    "## Warping Rasters into the Same Resolution and CRS"
   ]
  },
  {
   "cell_type": "code",
   "execution_count": 94,
   "metadata": {},
   "outputs": [
    {
     "data": {
      "text/plain": [
       "<matplotlib.axes._subplots.AxesSubplot at 0x1c53b6f1cc0>"
      ]
     },
     "execution_count": 94,
     "metadata": {},
     "output_type": "execute_result"
    },
    {
     "data": {
      "image/png": "[encoded data removed]",
      "text/plain": [
       "<Figure size 432x288 with 1 Axes>"
      ]
     },
     "metadata": {
      "needs_background": "light"
     },
     "output_type": "display_data"
    }
   ],
   "source": [
    "southern_africa_borders.plot()"
   ]
  },
  {
   "cell_type": "code",
   "execution_count": 93,
   "metadata": {},
   "outputs": [
    {
     "data": {
      "text/html": [
       "<div>\n",
       "<style scoped>\n",
       "    .dataframe tbody tr th:only-of-type {\n",
       "        vertical-align: middle;\n",
       "    }\n",
       "\n",
       "    .dataframe tbody tr th {\n",
       "        vertical-align: top;\n",
       "    }\n",
       "\n",
       "    .dataframe thead th {\n",
       "        text-align: right;\n",
       "    }\n",
       "</style>\n",
       "<table border=\"1\" class=\"dataframe\">\n",
       "  <thead>\n",
       "    <tr style=\"text-align: right;\">\n",
       "      <th></th>\n",
       "      <th>minx</th>\n",
       "      <th>miny</th>\n",
       "      <th>maxx</th>\n",
       "      <th>maxy</th>\n",
       "    </tr>\n",
       "  </thead>\n",
       "  <tbody>\n",
       "    <tr>\n",
       "      <th>0</th>\n",
       "      <td>-17.50000</td>\n",
       "      <td>-34.833333</td>\n",
       "      <td>51.500000</td>\n",
       "      <td>27.000000</td>\n",
       "    </tr>\n",
       "    <tr>\n",
       "      <th>1</th>\n",
       "      <td>-180.00000</td>\n",
       "      <td>-59.481222</td>\n",
       "      <td>180.000000</td>\n",
       "      <td>83.627112</td>\n",
       "    </tr>\n",
       "    <tr>\n",
       "      <th>2</th>\n",
       "      <td>-180.00000</td>\n",
       "      <td>-89.999280</td>\n",
       "      <td>179.998560</td>\n",
       "      <td>90.000000</td>\n",
       "    </tr>\n",
       "    <tr>\n",
       "      <th>3</th>\n",
       "      <td>-180.00000</td>\n",
       "      <td>-89.999280</td>\n",
       "      <td>179.998560</td>\n",
       "      <td>90.000000</td>\n",
       "    </tr>\n",
       "    <tr>\n",
       "      <th>4</th>\n",
       "      <td>11.72168</td>\n",
       "      <td>-46.962891</td>\n",
       "      <td>50.482715</td>\n",
       "      <td>5.312109</td>\n",
       "    </tr>\n",
       "  </tbody>\n",
       "</table>\n",
       "</div>"
      ],
      "text/plain": [
       "        minx       miny        maxx       maxy\n",
       "0  -17.50000 -34.833333   51.500000  27.000000\n",
       "1 -180.00000 -59.481222  180.000000  83.627112\n",
       "2 -180.00000 -89.999280  179.998560  90.000000\n",
       "3 -180.00000 -89.999280  179.998560  90.000000\n",
       "4   11.72168 -46.962891   50.482715   5.312109"
      ]
     },
     "execution_count": 93,
     "metadata": {},
     "output_type": "execute_result"
    }
   ],
   "source": [
    "bounds = list()\n",
    "for name in pca_data_names:\n",
    "    bounds.append(list(pca_data.loc[name,'raster'].bounds))\n",
    "bounds.append(list(border_box.bounds.iloc[0,:]))\n",
    "bounds = pd.DataFrame(bounds, columns = ('minx','miny','maxx','maxy'))\n",
    "bounds"
   ]
  },
  {
   "cell_type": "code",
   "execution_count": 100,
   "metadata": {},
   "outputs": [
    {
     "data": {
      "text/plain": [
       "(11.7216796875, -34.833333333443996, 50.48271484375002, 5.3121093749999915)"
      ]
     },
     "execution_count": 100,
     "metadata": {},
     "output_type": "execute_result"
    }
   ],
   "source": [
    "# Find the intersection of all raster and boundary files\n",
    "# NOTE: May not work in other hemisphere quadrants\n",
    "inter_bounds = (bounds.iloc[:,0].max(),\n",
    "                bounds.iloc[:,1].max(),\n",
    "                bounds.iloc[:,2].min(),\n",
    "                bounds.iloc[:,3].min())\n",
    "inter_bounds"
   ]
  },
  {
   "cell_type": "code",
   "execution_count": 129,
   "metadata": {},
   "outputs": [
    {
     "name": "stdout",
     "output_type": "stream",
     "text": [
      "4298.244862722446 4372.501507212104\n"
     ]
    }
   ],
   "source": [
    "input_files = (pca_data['path'])\n",
    "\n",
    "# Destination CRS\n",
    "dst_crs = CRS.from_epsg(4326)\n",
    "\n",
    "# These coordiantes are in Web Mercator\n",
    "dst_bounds = inter_bounds\n",
    "\n",
    "# Output image dimensions\n",
    "\n",
    "bottom_left = (inter_bounds[0], inter_bounds[1]) \n",
    "bottom_right = (inter_bounds[2], inter_bounds[1])\n",
    "\n",
    "dst_width = geopy.distance.distance(bottom_left, bottom_right).km\n",
    "\n",
    "top_left = (inter_bounds[0],inter_bounds[3])\n",
    "\n",
    "dst_height = geopy.distance.distance(top_left, bottom_left).km\n",
    "\n",
    "print(dst_width, dst_height)\n",
    "\n",
    "# Output image transform\n",
    "left, bottom, right, top = dst_bounds\n",
    "xres = (right - left) / dst_width\n",
    "yres = (top - bottom) / dst_height\n",
    "dst_transform = affine.Affine(xres, 0.0, left,\n",
    "                              0.0, -yres, top)\n",
    "\n",
    "vrt_options = {\n",
    "    'resampling': Resampling.cubic,\n",
    "    'crs': dst_crs,\n",
    "    'transform': dst_transform,\n",
    "    'height': dst_height,\n",
    "    'width': dst_width,\n",
    "}\n",
    "\n",
    "for path in input_files:\n",
    "\n",
    "    with rasterio.open(path) as src:\n",
    "\n",
    "        with WarpedVRT(src, **vrt_options) as vrt:\n",
    "\n",
    "            # At this point 'vrt' is a full dataset with dimensions,\n",
    "            # CRS, and spatial extent matching 'vrt_options'.\n",
    "\n",
    "            # Read all data into memory.\n",
    "            data = vrt.read()\n",
    "\n",
    "            # Process the dataset in chunks.  Likely not very efficient.\n",
    "            for _, window in vrt.block_windows():\n",
    "                data = vrt.read(window=window)\n",
    "\n",
    "            # Dump the aligned data into a new file.  A VRT representing\n",
    "            # this transformation can also be produced by switching\n",
    "            # to the VRT driver.\n",
    "            directory, name = os.path.split(path)\n",
    "            outfile = os.path.join(directory, 'aligned-{}'.format(name))\n",
    "            rio_shutil.copy(vrt, outfile, driver='GTiff')"
   ]
  },
  {
   "cell_type": "code",
   "execution_count": 134,
   "metadata": {},
   "outputs": [],
   "source": [
    "for file in pca_data_names:\n",
    "    directory, name = os.path.split(pca_data.loc[file,'path'])\n",
    "    pca_data.loc[file,'aligned_path'] = os.path.join(directory, 'aligned-{}'.format(name))"
   ]
  },
  {
   "cell_type": "code",
   "execution_count": 135,
   "metadata": {},
   "outputs": [
    {
     "data": {
      "text/plain": [
       "<open DatasetReader name='data/raw_data/TravelTime_50k\\aligned-Traveltime_50k.tif' mode='r'>"
      ]
     },
     "execution_count": 135,
     "metadata": {},
     "output_type": "execute_result"
    }
   ],
   "source": [
    "# Create a list with raster data\n",
    "al_rasters = list()\n",
    "for name in pca_data_names:\n",
    "    al_rasters.append(rasterio.open(pca_data.loc[name,'aligned_path']))\n",
    "\n",
    "# add as a column to the pca dataframe\n",
    "pca_data['al_raster'] = al_rasters\n",
    "\n",
    "pca_data.loc['travel_time','al_raster']"
   ]
  },
  {
   "cell_type": "code",
   "execution_count": 138,
   "metadata": {},
   "outputs": [
    {
     "name": "stdout",
     "output_type": "stream",
     "text": [
      "BoundingBox(left=11.7216796875, bottom=-34.82872882295539, right=50.48050670231176, top=5.3121093749999915)\n",
      "BoundingBox(left=11.7216796875, bottom=-34.82872882295539, right=50.48050670231176, top=5.3121093749999915)\n",
      "BoundingBox(left=11.7216796875, bottom=-34.82872882295539, right=50.48050670231176, top=5.3121093749999915)\n",
      "BoundingBox(left=11.7216796875, bottom=-34.82872882295539, right=50.48050670231176, top=5.3121093749999915)\n"
     ]
    }
   ],
   "source": [
    "for name in pca_data_names:\n",
    "    print(pca_data.loc[name,'al_raster'].bounds)"
   ]
  },
  {
   "cell_type": "code",
   "execution_count": 137,
   "metadata": {},
   "outputs": [
    {
     "name": "stdout",
     "output_type": "stream",
     "text": [
      "travel_time\n",
      "infant_mort\n",
      "val_prod\n",
      "val_prod_per_ha\n"
     ]
    },
    {
     "data": {
      "image/png": "[encoded data removed]",
      "text/plain": [
       "<Figure size 432x288 with 1 Axes>"
      ]
     },
     "metadata": {
      "needs_background": "light"
     },
     "output_type": "display_data"
    }
   ],
   "source": [
    "for name in pca_data_names:\n",
    "    print(name)\n",
    "    pyplot.imshow(pca_data.loc[name,'al_raster'].read(1), cmap='pink')\n",
    "    pyplot.savefig(name+'_aligned.png')\n",
    "#    pyplot.show()"
   ]
  },
  {
   "cell_type": "markdown",
   "metadata": {},
   "source": [
    "### Masking the Outline of Southern Africa from Raster files using Shapefile Boundaries"
   ]
  },
  {
   "cell_type": "markdown",
   "metadata": {},
   "source": [
    "Code Source: \n",
    "Clipping Shapefile Vectors - https://www.earthdatascience.org/courses/earth-analytics-python/spatial-data-vector-shapefiles/clip-vector-data-in-python-geopandas-shapely/\n",
    "\n",
    "Masking Rasters using Vector Geometry - https://rasterio.readthedocs.io/en/stable/topics/masking-by-shapefile.html"
   ]
  },
  {
   "cell_type": "code",
   "execution_count": 103,
   "metadata": {},
   "outputs": [],
   "source": [
    "# for raster in raster_data_paths:\n",
    "for raster in pca_data['path']:\n",
    "\n",
    "    with fiona.open(\"data/raw_data/border_box.shp\", \"r\") as shapefile:\n",
    "        shapes = [feature[\"geometry\"] for feature in shapefile]\n",
    "\n",
    "    with rasterio.open(raster) as src:\n",
    "        out_image, out_transform = rasterio.mask.mask(src, shapes, crop=True)\n",
    "        out_meta = src.meta\n",
    "    \n",
    "    out_meta.update({\"driver\": \"GTiff\",\n",
    "                     \"height\": out_image.shape[1],\n",
    "                     \"width\": out_image.shape[2],\n",
    "                     \"transform\": out_transform})\n",
    "\n",
    "    with rasterio.open(str(raster[:-4]) + '_mask.tif', \"w\", **out_meta) as dest:\n",
    "        dest.write(out_image)"
   ]
  },
  {
   "cell_type": "code",
   "execution_count": 104,
   "metadata": {},
   "outputs": [],
   "source": [
    "# create list of masked data\n",
    "Masked = list()\n",
    "for name in pca_data_names:\n",
    "    Masked.append(rasterio.open(\n",
    "        pca_data.loc[name,'path'][:-4] + '_mask.tif'))\n",
    "\n",
    "# add column for masked data to dataframe\n",
    "pca_data['masked'] = Masked"
   ]
  },
  {
   "cell_type": "code",
   "execution_count": 105,
   "metadata": {},
   "outputs": [
    {
     "data": {
      "image/png": "[encoded data removed]",
      "text/plain": [
       "<Figure size 432x288 with 1 Axes>"
      ]
     },
     "metadata": {},
     "output_type": "display_data"
    },
    {
     "data": {
      "text/plain": [
       "<matplotlib.collections.PatchCollection at 0x1a1c1c07f0>"
      ]
     },
     "execution_count": 105,
     "metadata": {},
     "output_type": "execute_result"
    },
    {
     "data": {
      "image/png": "[encoded data removed]",
      "text/plain": [
       "<Figure size 432x288 with 1 Axes>"
      ]
     },
     "metadata": {},
     "output_type": "display_data"
    }
   ],
   "source": [
    "src = rasterio.open(pca_data.loc['val_prod','path'])\n",
    "\n",
    "with fiona.open('data/raw_data/border_box.shp', \"r\") as shapefile:\n",
    "    features = [feature[\"geometry\"] for feature in shapefile]\n",
    "\n",
    "rasterio.plot.show((src, 1))\n",
    "ax = mpl.pyplot.gca()\n",
    "\n",
    "patches = [PolygonPatch(feature, edgecolor=\"red\", facecolor=\"none\", linewidth=2) for feature in features]\n",
    "ax.add_collection(mpl.collections.PatchCollection(patches, match_original=True))"
   ]
  },
  {
   "cell_type": "code",
   "execution_count": 106,
   "metadata": {},
   "outputs": [
    {
     "data": {
      "text/plain": [
       "(628, 466)"
      ]
     },
     "execution_count": 106,
     "metadata": {},
     "output_type": "execute_result"
    }
   ],
   "source": [
    "pca_data.loc['val_prod','masked'].shape"
   ]
  },
  {
   "cell_type": "code",
   "execution_count": 107,
   "metadata": {},
   "outputs": [],
   "source": [
    "# create list of band data\n",
    "raster_bands = list()\n",
    "for name in pca_data_names:\n",
    "    raster_bands.append(pca_data.loc[name,'masked'].read(1))\n",
    "\n",
    "# add column for band data to dataframe\n",
    "pca_data['band'] = raster_bands"
   ]
  },
  {
   "cell_type": "code",
   "execution_count": 108,
   "metadata": {},
   "outputs": [],
   "source": [
    "# create list of dataframes\n",
    "raster_dfs = list()\n",
    "for name in pca_data_names:\n",
    "    raster_dfs.append(pd.DataFrame(pca_data.loc[name,'band']))\n",
    "\n",
    "# add column for dfs to pca_data\n",
    "pca_data['df'] = raster_dfs"
   ]
  },
  {
   "cell_type": "code",
   "execution_count": 109,
   "metadata": {},
   "outputs": [
    {
     "data": {
      "text/plain": [
       "(628, 466)"
      ]
     },
     "execution_count": 109,
     "metadata": {},
     "output_type": "execute_result"
    }
   ],
   "source": [
    "pca_data.loc['val_prod','df'].shape"
   ]
  },
  {
   "cell_type": "code",
   "execution_count": 47,
   "metadata": {},
   "outputs": [
    {
     "data": {
      "text/plain": [
       "False"
      ]
     },
     "execution_count": 47,
     "metadata": {},
     "output_type": "execute_result"
    }
   ],
   "source": [
    "# Check that top left cell is identical for all transformed rasters\n",
    "top_left = list()\n",
    "for name in pca_data_names:\n",
    "    top_left.append(pca_data.loc[name,'raster'].transform * (0,0))\n",
    "\n",
    "# Confirm that top left pixel is the same for all rasters\n",
    "top_left=np.array(top_left)\n",
    "len(np.unique(top_left)) == 2"
   ]
  },
  {
   "cell_type": "markdown",
   "metadata": {},
   "source": [
    "Note: Which of the data forms do we need to save and access? If there's ones that are just an intermediate step and we won't use later, we don't have to add them as columns to the data frame (or we can delete the column after we use it)\n",
    "\n",
    "AS: Response: I think the DataFrame version of the first band is the only thing we will need for PCA. Keeping the raster files and bands could be helpful for plotting later though. So we should only have one column per variable type for the final PCA dataframe.\n",
    "\n",
    "We still need to figure out how to convert the PCA-ready dataframe back into a map though so we can visualize the end result.\n",
    "\n",
    "KW: Ok I'll keep the raster, masked, and df in the pca_data dataframe for us to reference. the df version is the only one I'll put into the actual PCA dataframe"
   ]
  },
  {
   "cell_type": "markdown",
   "metadata": {},
   "source": [
    "### Address missing and placeholder values"
   ]
  },
  {
   "cell_type": "markdown",
   "metadata": {},
   "source": [
    "Use each dataset's README file to standardize treatment of missing and placeholder (ie. ocean) values across datasets. Replace all missing values with NaN."
   ]
  },
  {
   "cell_type": "code",
   "execution_count": 110,
   "metadata": {},
   "outputs": [],
   "source": [
    "def explore_codevals(dataset_name):\n",
    "    df = pca_data.loc[dataset_name,'df']\n",
    "    min_val = df.min().min()\n",
    "    max_val = df.max().max()\n",
    "    count_na = np.count_nonzero(df.isna())\n",
    "    count_neg = np.count_nonzero(df < 0)\n",
    "    count_min = np.count_nonzero(df == min_val)\n",
    "    pct_neg = round(100*count_neg / df.size)\n",
    "    \n",
    "    return pd.DataFrame([[dataset_name, min_val, max_val, \n",
    "                         count_na, count_neg, count_min, pct_neg]],\n",
    "        columns=['data','min','max','count_na',\n",
    "                 'count_neg','count_min','pct_neg'],)"
   ]
  },
  {
   "cell_type": "code",
   "execution_count": 111,
   "metadata": {},
   "outputs": [],
   "source": [
    "codeval_df = pd.DataFrame()\n",
    "for name in pca_data_names:\n",
    "    codeval_df = pd.concat([codeval_df, \n",
    "                           explore_codevals(name)],\n",
    "                          ignore_index=True)\n",
    "codeval_df = codeval_df.set_index('data')"
   ]
  },
  {
   "cell_type": "code",
   "execution_count": 112,
   "metadata": {},
   "outputs": [
    {
     "data": {
      "text/html": [
       "<div>\n",
       "<style scoped>\n",
       "    .dataframe tbody tr th:only-of-type {\n",
       "        vertical-align: middle;\n",
       "    }\n",
       "\n",
       "    .dataframe tbody tr th {\n",
       "        vertical-align: top;\n",
       "    }\n",
       "\n",
       "    .dataframe thead th {\n",
       "        text-align: right;\n",
       "    }\n",
       "</style>\n",
       "<table border=\"1\" class=\"dataframe\">\n",
       "  <thead>\n",
       "    <tr style=\"text-align: right;\">\n",
       "      <th></th>\n",
       "      <th>min</th>\n",
       "      <th>max</th>\n",
       "      <th>count_na</th>\n",
       "      <th>count_neg</th>\n",
       "      <th>count_min</th>\n",
       "      <th>pct_neg</th>\n",
       "    </tr>\n",
       "    <tr>\n",
       "      <th>data</th>\n",
       "      <th></th>\n",
       "      <th></th>\n",
       "      <th></th>\n",
       "      <th></th>\n",
       "      <th></th>\n",
       "      <th></th>\n",
       "    </tr>\n",
       "  </thead>\n",
       "  <tbody>\n",
       "    <tr>\n",
       "      <th>travel_time</th>\n",
       "      <td>-3.402823e+38</td>\n",
       "      <td>6.087360e+01</td>\n",
       "      <td>0</td>\n",
       "      <td>80233</td>\n",
       "      <td>80233</td>\n",
       "      <td>36.0</td>\n",
       "    </tr>\n",
       "    <tr>\n",
       "      <th>val_prod</th>\n",
       "      <td>-1.000000e+00</td>\n",
       "      <td>5.302616e+07</td>\n",
       "      <td>0</td>\n",
       "      <td>211507</td>\n",
       "      <td>211507</td>\n",
       "      <td>72.0</td>\n",
       "    </tr>\n",
       "    <tr>\n",
       "      <th>val_prod_per_ha</th>\n",
       "      <td>-1.000000e+00</td>\n",
       "      <td>1.871790e+04</td>\n",
       "      <td>0</td>\n",
       "      <td>211507</td>\n",
       "      <td>211507</td>\n",
       "      <td>72.0</td>\n",
       "    </tr>\n",
       "  </tbody>\n",
       "</table>\n",
       "</div>"
      ],
      "text/plain": [
       "                          min           max  count_na  count_neg  count_min  \\\n",
       "data                                                                          \n",
       "travel_time     -3.402823e+38  6.087360e+01         0      80233      80233   \n",
       "val_prod        -1.000000e+00  5.302616e+07         0     211507     211507   \n",
       "val_prod_per_ha -1.000000e+00  1.871790e+04         0     211507     211507   \n",
       "\n",
       "                 pct_neg  \n",
       "data                      \n",
       "travel_time         36.0  \n",
       "val_prod            72.0  \n",
       "val_prod_per_ha     72.0  "
      ]
     },
     "execution_count": 112,
     "metadata": {},
     "output_type": "execute_result"
    }
   ],
   "source": [
    "codeval_df"
   ]
  },
  {
   "cell_type": "markdown",
   "metadata": {},
   "source": [
    "Notes about file-specific value coding:\n",
    "- So far, no datasets have NA values\n",
    "- For every dataset, there are no other negative values besides the minimum\n",
    "- Datasets should definitely be normalized before PCA (there is a big range in the max values).\n",
    "\n",
    "In each dataset, we will probably be able to just replace all of the negative values with whatever missing placeholder we want to use. \n",
    "\n",
    "The difference in number of negative values is not just due to granularity/pixel size - the percentage of negative values is different, so datasets are missing data for different areas."
   ]
  },
  {
   "cell_type": "code",
   "execution_count": 113,
   "metadata": {},
   "outputs": [],
   "source": [
    "# add column with cleaned dfs\n",
    "cleaned_dfs = list()\n",
    "\n",
    "# replace all negative values with NaN\n",
    "for name in pca_data_names:\n",
    "    df = pca_data.loc[name,'df']\n",
    "    df = df.replace(codeval_df.loc[name,'min'], np.nan)\n",
    "    cleaned_dfs.append(df)\n",
    "\n",
    "# add to pca_data\n",
    "pca_data['cleaned_df'] = cleaned_dfs"
   ]
  },
  {
   "cell_type": "code",
   "execution_count": 114,
   "metadata": {},
   "outputs": [
    {
     "data": {
      "text/html": [
       "<div>\n",
       "<style scoped>\n",
       "    .dataframe tbody tr th:only-of-type {\n",
       "        vertical-align: middle;\n",
       "    }\n",
       "\n",
       "    .dataframe tbody tr th {\n",
       "        vertical-align: top;\n",
       "    }\n",
       "\n",
       "    .dataframe thead th {\n",
       "        text-align: right;\n",
       "    }\n",
       "</style>\n",
       "<table border=\"1\" class=\"dataframe\">\n",
       "  <thead>\n",
       "    <tr style=\"text-align: right;\">\n",
       "      <th></th>\n",
       "      <th>0</th>\n",
       "      <th>1</th>\n",
       "      <th>2</th>\n",
       "      <th>3</th>\n",
       "      <th>4</th>\n",
       "    </tr>\n",
       "  </thead>\n",
       "  <tbody>\n",
       "    <tr>\n",
       "      <th>0</th>\n",
       "      <td>NaN</td>\n",
       "      <td>3.221790</td>\n",
       "      <td>2.78043</td>\n",
       "      <td>3.99326</td>\n",
       "      <td>7.14690</td>\n",
       "    </tr>\n",
       "    <tr>\n",
       "      <th>1</th>\n",
       "      <td>NaN</td>\n",
       "      <td>9.353820</td>\n",
       "      <td>7.52226</td>\n",
       "      <td>3.38793</td>\n",
       "      <td>3.39831</td>\n",
       "    </tr>\n",
       "    <tr>\n",
       "      <th>2</th>\n",
       "      <td>NaN</td>\n",
       "      <td>16.249701</td>\n",
       "      <td>11.27520</td>\n",
       "      <td>4.18312</td>\n",
       "      <td>2.23873</td>\n",
       "    </tr>\n",
       "    <tr>\n",
       "      <th>3</th>\n",
       "      <td>NaN</td>\n",
       "      <td>18.621700</td>\n",
       "      <td>12.04660</td>\n",
       "      <td>5.35937</td>\n",
       "      <td>2.04451</td>\n",
       "    </tr>\n",
       "    <tr>\n",
       "      <th>4</th>\n",
       "      <td>NaN</td>\n",
       "      <td>15.377000</td>\n",
       "      <td>12.07890</td>\n",
       "      <td>5.58107</td>\n",
       "      <td>2.02104</td>\n",
       "    </tr>\n",
       "  </tbody>\n",
       "</table>\n",
       "</div>"
      ],
      "text/plain": [
       "    0          1         2        3        4\n",
       "0 NaN   3.221790   2.78043  3.99326  7.14690\n",
       "1 NaN   9.353820   7.52226  3.38793  3.39831\n",
       "2 NaN  16.249701  11.27520  4.18312  2.23873\n",
       "3 NaN  18.621700  12.04660  5.35937  2.04451\n",
       "4 NaN  15.377000  12.07890  5.58107  2.02104"
      ]
     },
     "execution_count": 114,
     "metadata": {},
     "output_type": "execute_result"
    }
   ],
   "source": [
    "# check that it worked\n",
    "name = 'travel_time'\n",
    "pca_data.loc[name,'cleaned_df'].loc[0:4,0:4]"
   ]
  },
  {
   "cell_type": "code",
   "execution_count": 115,
   "metadata": {
    "scrolled": true
   },
   "outputs": [
    {
     "data": {
      "text/html": [
       "<div>\n",
       "<style scoped>\n",
       "    .dataframe tbody tr th:only-of-type {\n",
       "        vertical-align: middle;\n",
       "    }\n",
       "\n",
       "    .dataframe tbody tr th {\n",
       "        vertical-align: top;\n",
       "    }\n",
       "\n",
       "    .dataframe thead th {\n",
       "        text-align: right;\n",
       "    }\n",
       "</style>\n",
       "<table border=\"1\" class=\"dataframe\">\n",
       "  <thead>\n",
       "    <tr style=\"text-align: right;\">\n",
       "      <th></th>\n",
       "      <th>0</th>\n",
       "      <th>1</th>\n",
       "      <th>2</th>\n",
       "      <th>3</th>\n",
       "      <th>4</th>\n",
       "    </tr>\n",
       "  </thead>\n",
       "  <tbody>\n",
       "    <tr>\n",
       "      <th>0</th>\n",
       "      <td>-3.402823e+38</td>\n",
       "      <td>3.221790</td>\n",
       "      <td>2.78043</td>\n",
       "      <td>3.99326</td>\n",
       "      <td>7.14690</td>\n",
       "    </tr>\n",
       "    <tr>\n",
       "      <th>1</th>\n",
       "      <td>-3.402823e+38</td>\n",
       "      <td>9.353820</td>\n",
       "      <td>7.52226</td>\n",
       "      <td>3.38793</td>\n",
       "      <td>3.39831</td>\n",
       "    </tr>\n",
       "    <tr>\n",
       "      <th>2</th>\n",
       "      <td>-3.402823e+38</td>\n",
       "      <td>16.249701</td>\n",
       "      <td>11.27520</td>\n",
       "      <td>4.18312</td>\n",
       "      <td>2.23873</td>\n",
       "    </tr>\n",
       "    <tr>\n",
       "      <th>3</th>\n",
       "      <td>-3.402823e+38</td>\n",
       "      <td>18.621700</td>\n",
       "      <td>12.04660</td>\n",
       "      <td>5.35937</td>\n",
       "      <td>2.04451</td>\n",
       "    </tr>\n",
       "    <tr>\n",
       "      <th>4</th>\n",
       "      <td>-3.402823e+38</td>\n",
       "      <td>15.377000</td>\n",
       "      <td>12.07890</td>\n",
       "      <td>5.58107</td>\n",
       "      <td>2.02104</td>\n",
       "    </tr>\n",
       "  </tbody>\n",
       "</table>\n",
       "</div>"
      ],
      "text/plain": [
       "              0          1         2        3        4\n",
       "0 -3.402823e+38   3.221790   2.78043  3.99326  7.14690\n",
       "1 -3.402823e+38   9.353820   7.52226  3.38793  3.39831\n",
       "2 -3.402823e+38  16.249701  11.27520  4.18312  2.23873\n",
       "3 -3.402823e+38  18.621700  12.04660  5.35937  2.04451\n",
       "4 -3.402823e+38  15.377000  12.07890  5.58107  2.02104"
      ]
     },
     "execution_count": 115,
     "metadata": {},
     "output_type": "execute_result"
    }
   ],
   "source": [
    "pca_data.loc[name,'df'].loc[0:4,0:4]"
   ]
  },
  {
   "cell_type": "markdown",
   "metadata": {},
   "source": [
    "## Write New Raster Files with Processed Data"
   ]
  },
  {
   "cell_type": "code",
   "execution_count": 116,
   "metadata": {},
   "outputs": [],
   "source": [
    "for name in pca_data_names:\n",
    "    with fiona.open(\"data/raw_data/border_box.shp\", \"r\") as shapefile:\n",
    "        shapes = [feature[\"geometry\"] for feature in shapefile]\n",
    "\n",
    "    with rasterio.open(pca_data.loc[name,'path']) as src:\n",
    "        out_image, out_transform = rasterio.mask.mask(src, shapes, crop=True)\n",
    "        out_meta = src.meta\n",
    "    \n",
    "    out_meta.update({\"driver\": \"GTiff\",\n",
    "                     \"height\": out_image.shape[1],\n",
    "                     \"width\": out_image.shape[2],\n",
    "                     \"transform\": out_transform})\n",
    " \n",
    "    with rasterio.open(pca_data.loc[name,'path'][:-4]+'_proc.tif', 'w', **out_meta) as dst:\n",
    "        dst.write(np.array(pca_data.loc[name,'cleaned_df']), 1)"
   ]
  },
  {
   "cell_type": "code",
   "execution_count": 117,
   "metadata": {},
   "outputs": [],
   "source": [
    "# create list of processed raster data\n",
    "processed = list()\n",
    "for name in pca_data_names:\n",
    "    processed.append(rasterio.open(\n",
    "        pca_data.loc[name,'path'][:-4] + '_proc.tif'))\n",
    "\n",
    "# add column for masked data to dataframe\n",
    "pca_data['processed'] = processed"
   ]
  },
  {
   "cell_type": "code",
   "execution_count": 118,
   "metadata": {},
   "outputs": [
    {
     "name": "stdout",
     "output_type": "stream",
     "text": [
      "travel_time\n"
     ]
    },
    {
     "data": {
      "image/png": "[encoded data removed]",
      "text/plain": [
       "<Figure size 432x288 with 1 Axes>"
      ]
     },
     "metadata": {},
     "output_type": "display_data"
    },
    {
     "name": "stdout",
     "output_type": "stream",
     "text": [
      "val_prod\n"
     ]
    },
    {
     "data": {
      "image/png": "[encoded data removed]",
      "text/plain": [
       "<Figure size 432x288 with 1 Axes>"
      ]
     },
     "metadata": {},
     "output_type": "display_data"
    },
    {
     "name": "stdout",
     "output_type": "stream",
     "text": [
      "val_prod_per_ha\n"
     ]
    },
    {
     "data": {
      "image/png": "[encoded data removed]",
      "text/plain": [
       "<Figure size 432x288 with 1 Axes>"
      ]
     },
     "metadata": {},
     "output_type": "display_data"
    }
   ],
   "source": [
    "for name in pca_data_names:\n",
    "    print(name)\n",
    "    pyplot.imshow(pca_data.loc[name,'processed'].read(1), cmap='pink')\n",
    "    pyplot.savefig(name+'_proc.png')\n",
    "    pyplot.show()"
   ]
  },
  {
   "cell_type": "markdown",
   "metadata": {},
   "source": [
    "### Flag: Need to coerce dataframes and processed rasters to same shape, then standardize before PCA"
   ]
  },
  {
   "cell_type": "markdown",
   "metadata": {},
   "source": [
    "## Create PCA dataframe"
   ]
  },
  {
   "cell_type": "markdown",
   "metadata": {},
   "source": [
    "Merge all PCA variables into one dataframe with full coordinates as index"
   ]
  },
  {
   "cell_type": "code",
   "execution_count": 119,
   "metadata": {},
   "outputs": [],
   "source": [
    "# Define functions for reshaping banded data df into PCA format\n",
    "def pca_melt(dataset_name):\n",
    "    # preps the dataframe to be melted by adding columns for x and y\n",
    "    df = pca_data.loc[dataset_name,'cleaned_df']\n",
    "    \n",
    "    # argument: dataframe with x coord as index as y coords as columns\n",
    "    nrows, ncols = df.shape\n",
    "    nrows -= 1; ncols -= 1\n",
    "\n",
    "    # convert index to a column to melt\n",
    "    re_df = df.reset_index().rename(columns={'index':'x'})\n",
    "    re_df = pd.melt(re_df, id_vars=['x'],\n",
    "                    value_vars=range(0,ncols),\n",
    "                    var_name='y',\n",
    "                    value_name = dataset_name)\n",
    "    \n",
    "    # turn x and y columns into a coordinate index\n",
    "    re_df['coords'] = re_df['x'].astype(str)+','+re_df['y'].astype(str)\n",
    "    re_df = re_df.set_index('coords')\n",
    "    \n",
    "    return re_df\n",
    "\n",
    "def save_coord_ranges(coord_ranges_dataframe,pca_df,dataset_name):\n",
    "    # ARGS: dataframe with rows min x, max y, min y, max y,\n",
    "        # melted dataframe for PCA with columns labeled 'x' and 'y'\n",
    "    # adds a column to coord_ranges with info for the given pca dataframe\n",
    "    coord_ranges_dataframe[dataset_name]=[min(pca_df['x']),\n",
    "                                     max(pca_df['x']),\n",
    "                                     min(pca_df['y']),\n",
    "                                     max(pca_df['y'])]\n",
    "    \n",
    "    return coord_ranges\n",
    "\n",
    "def check_pca_reshape(re_df, n=15):\n",
    "    # check that the raw and reshaped dfs have the same values \n",
    "    # for a random set of n coordinates\n",
    "    df = pca_data.loc[dataset_name,'cleaned_df']\n",
    "    check = True\n",
    "    for i in range(0,n):\n",
    "        x = randint(0, df.shape[0]-1); y = randint(0, df.shape[1]-1)\n",
    "        raw_val = df.loc[x][y]\n",
    "        new_val = re_df.loc[str(x)+','+str(y)][dataset_name]\n",
    "        if (raw_val != new_val) & (not math.isnan(new_val)):\n",
    "            check = False\n",
    "            print('Error for coordinate: (',x,',',y,\n",
    "                  ')\\nraw:',raw_val,'\\nnew:',new_val)\n",
    "    return check"
   ]
  },
  {
   "cell_type": "markdown",
   "metadata": {},
   "source": [
    "Process all of the datasets for PCA using the functions defined above:"
   ]
  },
  {
   "cell_type": "code",
   "execution_count": 120,
   "metadata": {},
   "outputs": [],
   "source": [
    "pca_dfs = list()\n",
    "\n",
    "# create dataframe to save coordinate ranges\n",
    "coord_ranges = pd.DataFrame(index=['minx','maxx','miny','maxy'])\n",
    "\n",
    "# iterate through datasets and reshape for PCA\n",
    "for dataset_name in pca_data_names:\n",
    "    # melt dataframe\n",
    "    pca_df = pca_melt(dataset_name)\n",
    "    # save the coordinate ranges\n",
    "    coord_ranges = save_coord_ranges(coord_ranges, pca_df, dataset_name)\n",
    "    # check that the resulting dataframe is correct\n",
    "    check = check_pca_reshape(pca_df)\n",
    "    if not check:\n",
    "        print('Error in PCA reshape')\n",
    "    # add the pca dataframe to the list\n",
    "    pca_dfs.append(pca_df)\n",
    "\n",
    "pca_data['pca_df'] = pca_dfs"
   ]
  },
  {
   "cell_type": "code",
   "execution_count": 121,
   "metadata": {},
   "outputs": [
    {
     "data": {
      "text/html": [
       "<div>\n",
       "<style scoped>\n",
       "    .dataframe tbody tr th:only-of-type {\n",
       "        vertical-align: middle;\n",
       "    }\n",
       "\n",
       "    .dataframe tbody tr th {\n",
       "        vertical-align: top;\n",
       "    }\n",
       "\n",
       "    .dataframe thead th {\n",
       "        text-align: right;\n",
       "    }\n",
       "</style>\n",
       "<table border=\"1\" class=\"dataframe\">\n",
       "  <thead>\n",
       "    <tr style=\"text-align: right;\">\n",
       "      <th></th>\n",
       "      <th>travel_time</th>\n",
       "      <th>val_prod</th>\n",
       "      <th>val_prod_per_ha</th>\n",
       "    </tr>\n",
       "  </thead>\n",
       "  <tbody>\n",
       "    <tr>\n",
       "      <th>minx</th>\n",
       "      <td>0</td>\n",
       "      <td>0</td>\n",
       "      <td>0</td>\n",
       "    </tr>\n",
       "    <tr>\n",
       "      <th>maxx</th>\n",
       "      <td>481</td>\n",
       "      <td>627</td>\n",
       "      <td>627</td>\n",
       "    </tr>\n",
       "    <tr>\n",
       "      <th>miny</th>\n",
       "      <td>0</td>\n",
       "      <td>0</td>\n",
       "      <td>0</td>\n",
       "    </tr>\n",
       "    <tr>\n",
       "      <th>maxy</th>\n",
       "      <td>464</td>\n",
       "      <td>464</td>\n",
       "      <td>464</td>\n",
       "    </tr>\n",
       "  </tbody>\n",
       "</table>\n",
       "</div>"
      ],
      "text/plain": [
       "      travel_time  val_prod  val_prod_per_ha\n",
       "minx            0         0                0\n",
       "maxx          481       627              627\n",
       "miny            0         0                0\n",
       "maxy          464       464              464"
      ]
     },
     "execution_count": 121,
     "metadata": {},
     "output_type": "execute_result"
    }
   ],
   "source": [
    "coord_ranges"
   ]
  },
  {
   "cell_type": "code",
   "execution_count": 122,
   "metadata": {},
   "outputs": [
    {
     "data": {
      "text/html": [
       "<div>\n",
       "<style scoped>\n",
       "    .dataframe tbody tr th:only-of-type {\n",
       "        vertical-align: middle;\n",
       "    }\n",
       "\n",
       "    .dataframe tbody tr th {\n",
       "        vertical-align: top;\n",
       "    }\n",
       "\n",
       "    .dataframe thead th {\n",
       "        text-align: right;\n",
       "    }\n",
       "</style>\n",
       "<table border=\"1\" class=\"dataframe\">\n",
       "  <thead>\n",
       "    <tr style=\"text-align: right;\">\n",
       "      <th></th>\n",
       "      <th>x</th>\n",
       "      <th>y</th>\n",
       "      <th>travel_time</th>\n",
       "    </tr>\n",
       "    <tr>\n",
       "      <th>coords</th>\n",
       "      <th></th>\n",
       "      <th></th>\n",
       "      <th></th>\n",
       "    </tr>\n",
       "  </thead>\n",
       "  <tbody>\n",
       "    <tr>\n",
       "      <th>0,1</th>\n",
       "      <td>0</td>\n",
       "      <td>1</td>\n",
       "      <td>3.221790</td>\n",
       "    </tr>\n",
       "    <tr>\n",
       "      <th>1,1</th>\n",
       "      <td>1</td>\n",
       "      <td>1</td>\n",
       "      <td>9.353820</td>\n",
       "    </tr>\n",
       "    <tr>\n",
       "      <th>2,1</th>\n",
       "      <td>2</td>\n",
       "      <td>1</td>\n",
       "      <td>16.249701</td>\n",
       "    </tr>\n",
       "    <tr>\n",
       "      <th>3,1</th>\n",
       "      <td>3</td>\n",
       "      <td>1</td>\n",
       "      <td>18.621700</td>\n",
       "    </tr>\n",
       "    <tr>\n",
       "      <th>4,1</th>\n",
       "      <td>4</td>\n",
       "      <td>1</td>\n",
       "      <td>15.377000</td>\n",
       "    </tr>\n",
       "  </tbody>\n",
       "</table>\n",
       "</div>"
      ],
      "text/plain": [
       "        x  y  travel_time\n",
       "coords                   \n",
       "0,1     0  1     3.221790\n",
       "1,1     1  1     9.353820\n",
       "2,1     2  1    16.249701\n",
       "3,1     3  1    18.621700\n",
       "4,1     4  1    15.377000"
      ]
     },
     "execution_count": 122,
     "metadata": {},
     "output_type": "execute_result"
    }
   ],
   "source": [
    "# check that it worked\n",
    "name = 'travel_time'\n",
    "pca_data.loc[name,'pca_df'].loc['0,1':'4,1']"
   ]
  },
  {
   "cell_type": "code",
   "execution_count": 123,
   "metadata": {},
   "outputs": [
    {
     "data": {
      "text/html": [
       "<div>\n",
       "<style scoped>\n",
       "    .dataframe tbody tr th:only-of-type {\n",
       "        vertical-align: middle;\n",
       "    }\n",
       "\n",
       "    .dataframe tbody tr th {\n",
       "        vertical-align: top;\n",
       "    }\n",
       "\n",
       "    .dataframe thead th {\n",
       "        text-align: right;\n",
       "    }\n",
       "</style>\n",
       "<table border=\"1\" class=\"dataframe\">\n",
       "  <thead>\n",
       "    <tr style=\"text-align: right;\">\n",
       "      <th></th>\n",
       "      <th>1</th>\n",
       "    </tr>\n",
       "  </thead>\n",
       "  <tbody>\n",
       "    <tr>\n",
       "      <th>0</th>\n",
       "      <td>3.221790</td>\n",
       "    </tr>\n",
       "    <tr>\n",
       "      <th>1</th>\n",
       "      <td>9.353820</td>\n",
       "    </tr>\n",
       "    <tr>\n",
       "      <th>2</th>\n",
       "      <td>16.249701</td>\n",
       "    </tr>\n",
       "    <tr>\n",
       "      <th>3</th>\n",
       "      <td>18.621700</td>\n",
       "    </tr>\n",
       "    <tr>\n",
       "      <th>4</th>\n",
       "      <td>15.377000</td>\n",
       "    </tr>\n",
       "  </tbody>\n",
       "</table>\n",
       "</div>"
      ],
      "text/plain": [
       "           1\n",
       "0   3.221790\n",
       "1   9.353820\n",
       "2  16.249701\n",
       "3  18.621700\n",
       "4  15.377000"
      ]
     },
     "execution_count": 123,
     "metadata": {},
     "output_type": "execute_result"
    }
   ],
   "source": [
    "pca_data.loc[name,'cleaned_df'].loc[0:4,[1]]"
   ]
  },
  {
   "cell_type": "markdown",
   "metadata": {},
   "source": [
    "#### Use the x and y coordinate columns to crop datasets to same shape"
   ]
  },
  {
   "cell_type": "code",
   "execution_count": 124,
   "metadata": {},
   "outputs": [
    {
     "name": "stdout",
     "output_type": "stream",
     "text": [
      "x range: 0 481 \n",
      "y range: 0 464\n"
     ]
    }
   ],
   "source": [
    "# determine minimum and maximum for x and y\n",
    "all_minx = max(coord_ranges.loc['minx'])\n",
    "all_maxx = min(coord_ranges.loc['maxx'])\n",
    "all_miny = max(coord_ranges.loc['miny'])\n",
    "all_maxy = min(coord_ranges.loc['maxy'])\n",
    "\n",
    "print('x range:',all_minx,all_maxx,\n",
    "      '\\ny range:',all_miny,all_maxy)\n",
    "\n",
    "if (all_minx != 0) | (all_miny != 0):\n",
    "    warnings.warn('One of the minimum coordinates is not zero')"
   ]
  },
  {
   "cell_type": "code",
   "execution_count": 253,
   "metadata": {},
   "outputs": [],
   "source": [
    "# crop all datasets\n",
    "new_coord_ranges = pd.DataFrame(index=['minx','maxx','miny','maxy'])\n",
    "cropped_pca_dfs = list()\n",
    "\n",
    "for name in pca_data_names:\n",
    "    df = pca_data.loc[name,'pca_df']\n",
    "    df = df[(df['x']<=all_maxx) & (df['y']<=all_maxy)]\n",
    "    new_coord_ranges = save_coord_ranges(coord_ranges, df, name)\n",
    "    cropped_pca_dfs.append(df)\n",
    "\n",
    "pca_data['cropped_pca_df'] = cropped_pca_dfs"
   ]
  },
  {
   "cell_type": "code",
   "execution_count": 126,
   "metadata": {},
   "outputs": [
    {
     "data": {
      "text/html": [
       "<div>\n",
       "<style scoped>\n",
       "    .dataframe tbody tr th:only-of-type {\n",
       "        vertical-align: middle;\n",
       "    }\n",
       "\n",
       "    .dataframe tbody tr th {\n",
       "        vertical-align: top;\n",
       "    }\n",
       "\n",
       "    .dataframe thead th {\n",
       "        text-align: right;\n",
       "    }\n",
       "</style>\n",
       "<table border=\"1\" class=\"dataframe\">\n",
       "  <thead>\n",
       "    <tr style=\"text-align: right;\">\n",
       "      <th></th>\n",
       "      <th>travel_time</th>\n",
       "      <th>val_prod</th>\n",
       "      <th>val_prod_per_ha</th>\n",
       "    </tr>\n",
       "  </thead>\n",
       "  <tbody>\n",
       "    <tr>\n",
       "      <th>minx</th>\n",
       "      <td>0</td>\n",
       "      <td>0</td>\n",
       "      <td>0</td>\n",
       "    </tr>\n",
       "    <tr>\n",
       "      <th>maxx</th>\n",
       "      <td>481</td>\n",
       "      <td>481</td>\n",
       "      <td>481</td>\n",
       "    </tr>\n",
       "    <tr>\n",
       "      <th>miny</th>\n",
       "      <td>0</td>\n",
       "      <td>0</td>\n",
       "      <td>0</td>\n",
       "    </tr>\n",
       "    <tr>\n",
       "      <th>maxy</th>\n",
       "      <td>464</td>\n",
       "      <td>464</td>\n",
       "      <td>464</td>\n",
       "    </tr>\n",
       "  </tbody>\n",
       "</table>\n",
       "</div>"
      ],
      "text/plain": [
       "      travel_time  val_prod  val_prod_per_ha\n",
       "minx            0         0                0\n",
       "maxx          481       481              481\n",
       "miny            0         0                0\n",
       "maxy          464       464              464"
      ]
     },
     "execution_count": 126,
     "metadata": {},
     "output_type": "execute_result"
    }
   ],
   "source": [
    "new_coord_ranges"
   ]
  },
  {
   "cell_type": "markdown",
   "metadata": {},
   "source": [
    "#### Account for the direction of vulnerability:\n",
    "Change the values so that in each dataset, higher number indicates higher vulnerability. \n",
    "\n",
    "FLAG: could we do this by multiplying the numbers by -1 if the direction of vulnerbility is opposite? or do all of the values have to be positive? Currently approaching as a reflection around the median or average of the dataset instead of around 0 (making negative), because then the magnitude varies in the same direction for all datasets.\n",
    "\n",
    "FLAG: are we sure we need to do this? I think we might not - PCA operates based on the direction of the greatest variation. "
   ]
  },
  {
   "cell_type": "markdown",
   "metadata": {},
   "source": [
    "#### Merge individual dataframes into one PCA dataset"
   ]
  },
  {
   "cell_type": "code",
   "execution_count": 269,
   "metadata": {},
   "outputs": [],
   "source": [
    "all_pca_data=pd.DataFrame()\n",
    "for name in pca_data_names:\n",
    "    df = pca_data.loc[name,'cropped_pca_df'][[name]]\n",
    "    all_pca_data=all_pca_data.merge(df,how='outer',\n",
    "                                    left_index=True,right_index=True,\n",
    "                                   validate='one_to_one')"
   ]
  },
  {
   "cell_type": "code",
   "execution_count": 270,
   "metadata": {},
   "outputs": [
    {
     "data": {
      "text/html": [
       "<div>\n",
       "<style scoped>\n",
       "    .dataframe tbody tr th:only-of-type {\n",
       "        vertical-align: middle;\n",
       "    }\n",
       "\n",
       "    .dataframe tbody tr th {\n",
       "        vertical-align: top;\n",
       "    }\n",
       "\n",
       "    .dataframe thead th {\n",
       "        text-align: right;\n",
       "    }\n",
       "</style>\n",
       "<table border=\"1\" class=\"dataframe\">\n",
       "  <thead>\n",
       "    <tr style=\"text-align: right;\">\n",
       "      <th></th>\n",
       "      <th>travel_time</th>\n",
       "      <th>val_prod</th>\n",
       "      <th>val_prod_per_ha</th>\n",
       "    </tr>\n",
       "    <tr>\n",
       "      <th>coords</th>\n",
       "      <th></th>\n",
       "      <th></th>\n",
       "      <th></th>\n",
       "    </tr>\n",
       "  </thead>\n",
       "  <tbody>\n",
       "    <tr>\n",
       "      <th>0,1</th>\n",
       "      <td>3.221790</td>\n",
       "      <td>3.242249e+05</td>\n",
       "      <td>899.599976</td>\n",
       "    </tr>\n",
       "    <tr>\n",
       "      <th>1,1</th>\n",
       "      <td>9.353820</td>\n",
       "      <td>8.547186e+05</td>\n",
       "      <td>876.299988</td>\n",
       "    </tr>\n",
       "    <tr>\n",
       "      <th>2,1</th>\n",
       "      <td>16.249701</td>\n",
       "      <td>4.546943e+05</td>\n",
       "      <td>844.200012</td>\n",
       "    </tr>\n",
       "    <tr>\n",
       "      <th>3,1</th>\n",
       "      <td>18.621700</td>\n",
       "      <td>1.053548e+06</td>\n",
       "      <td>855.599976</td>\n",
       "    </tr>\n",
       "    <tr>\n",
       "      <th>4,1</th>\n",
       "      <td>15.377000</td>\n",
       "      <td>8.320733e+05</td>\n",
       "      <td>839.099976</td>\n",
       "    </tr>\n",
       "    <tr>\n",
       "      <th>5,1</th>\n",
       "      <td>7.952100</td>\n",
       "      <td>1.488400e+06</td>\n",
       "      <td>835.099976</td>\n",
       "    </tr>\n",
       "  </tbody>\n",
       "</table>\n",
       "</div>"
      ],
      "text/plain": [
       "        travel_time      val_prod  val_prod_per_ha\n",
       "coords                                            \n",
       "0,1        3.221790  3.242249e+05       899.599976\n",
       "1,1        9.353820  8.547186e+05       876.299988\n",
       "2,1       16.249701  4.546943e+05       844.200012\n",
       "3,1       18.621700  1.053548e+06       855.599976\n",
       "4,1       15.377000  8.320733e+05       839.099976\n",
       "5,1        7.952100  1.488400e+06       835.099976"
      ]
     },
     "execution_count": 270,
     "metadata": {},
     "output_type": "execute_result"
    }
   ],
   "source": [
    "# check for correctness\n",
    "all_pca_data.loc['0,1':'5,1']"
   ]
  },
  {
   "cell_type": "code",
   "execution_count": 271,
   "metadata": {},
   "outputs": [
    {
     "data": {
      "text/html": [
       "<div>\n",
       "<style scoped>\n",
       "    .dataframe tbody tr th:only-of-type {\n",
       "        vertical-align: middle;\n",
       "    }\n",
       "\n",
       "    .dataframe tbody tr th {\n",
       "        vertical-align: top;\n",
       "    }\n",
       "\n",
       "    .dataframe thead th {\n",
       "        text-align: right;\n",
       "    }\n",
       "</style>\n",
       "<table border=\"1\" class=\"dataframe\">\n",
       "  <thead>\n",
       "    <tr style=\"text-align: right;\">\n",
       "      <th></th>\n",
       "      <th>x</th>\n",
       "      <th>y</th>\n",
       "      <th>val_prod_per_ha</th>\n",
       "    </tr>\n",
       "    <tr>\n",
       "      <th>coords</th>\n",
       "      <th></th>\n",
       "      <th></th>\n",
       "      <th></th>\n",
       "    </tr>\n",
       "  </thead>\n",
       "  <tbody>\n",
       "    <tr>\n",
       "      <th>0,1</th>\n",
       "      <td>0</td>\n",
       "      <td>1</td>\n",
       "      <td>899.599976</td>\n",
       "    </tr>\n",
       "    <tr>\n",
       "      <th>1,1</th>\n",
       "      <td>1</td>\n",
       "      <td>1</td>\n",
       "      <td>876.299988</td>\n",
       "    </tr>\n",
       "    <tr>\n",
       "      <th>2,1</th>\n",
       "      <td>2</td>\n",
       "      <td>1</td>\n",
       "      <td>844.200012</td>\n",
       "    </tr>\n",
       "    <tr>\n",
       "      <th>3,1</th>\n",
       "      <td>3</td>\n",
       "      <td>1</td>\n",
       "      <td>855.599976</td>\n",
       "    </tr>\n",
       "    <tr>\n",
       "      <th>4,1</th>\n",
       "      <td>4</td>\n",
       "      <td>1</td>\n",
       "      <td>839.099976</td>\n",
       "    </tr>\n",
       "    <tr>\n",
       "      <th>5,1</th>\n",
       "      <td>5</td>\n",
       "      <td>1</td>\n",
       "      <td>835.099976</td>\n",
       "    </tr>\n",
       "  </tbody>\n",
       "</table>\n",
       "</div>"
      ],
      "text/plain": [
       "        x  y  val_prod_per_ha\n",
       "coords                       \n",
       "0,1     0  1       899.599976\n",
       "1,1     1  1       876.299988\n",
       "2,1     2  1       844.200012\n",
       "3,1     3  1       855.599976\n",
       "4,1     4  1       839.099976\n",
       "5,1     5  1       835.099976"
      ]
     },
     "execution_count": 271,
     "metadata": {},
     "output_type": "execute_result"
    }
   ],
   "source": [
    "name='val_prod_per_ha'\n",
    "pca_data.loc[name,'cropped_pca_df'].loc['0,1':'5,1']"
   ]
  },
  {
   "cell_type": "code",
   "execution_count": 272,
   "metadata": {},
   "outputs": [
    {
     "data": {
      "text/plain": [
       "(224130, 3)"
      ]
     },
     "execution_count": 272,
     "metadata": {},
     "output_type": "execute_result"
    }
   ],
   "source": [
    "all_pca_data.shape"
   ]
  },
  {
   "cell_type": "markdown",
   "metadata": {},
   "source": [
    "## Conduct PCA"
   ]
  },
  {
   "cell_type": "markdown",
   "metadata": {},
   "source": [
    "Normalize the values in the PCA dataframe"
   ]
  },
  {
   "cell_type": "markdown",
   "metadata": {},
   "source": [
    "FLAG: can't have NA values when normalizing, but will count as data if we fill it with zeros. I solved this by getting rid of any rows with NA data. "
   ]
  },
  {
   "cell_type": "code",
   "execution_count": 266,
   "metadata": {},
   "outputs": [
    {
     "name": "stdout",
     "output_type": "stream",
     "text": [
      "(80606, 3)\n"
     ]
    },
    {
     "data": {
      "text/html": [
       "<div>\n",
       "<style scoped>\n",
       "    .dataframe tbody tr th:only-of-type {\n",
       "        vertical-align: middle;\n",
       "    }\n",
       "\n",
       "    .dataframe tbody tr th {\n",
       "        vertical-align: top;\n",
       "    }\n",
       "\n",
       "    .dataframe thead th {\n",
       "        text-align: right;\n",
       "    }\n",
       "</style>\n",
       "<table border=\"1\" class=\"dataframe\">\n",
       "  <thead>\n",
       "    <tr style=\"text-align: right;\">\n",
       "      <th></th>\n",
       "      <th>travel_time</th>\n",
       "      <th>val_prod</th>\n",
       "      <th>val_prod_per_ha</th>\n",
       "    </tr>\n",
       "    <tr>\n",
       "      <th>coords</th>\n",
       "      <th></th>\n",
       "      <th></th>\n",
       "      <th></th>\n",
       "    </tr>\n",
       "  </thead>\n",
       "  <tbody>\n",
       "    <tr>\n",
       "      <th>0,1</th>\n",
       "      <td>3.221790</td>\n",
       "      <td>3.242249e+05</td>\n",
       "      <td>899.599976</td>\n",
       "    </tr>\n",
       "    <tr>\n",
       "      <th>1,1</th>\n",
       "      <td>9.353820</td>\n",
       "      <td>8.547186e+05</td>\n",
       "      <td>876.299988</td>\n",
       "    </tr>\n",
       "    <tr>\n",
       "      <th>2,1</th>\n",
       "      <td>16.249701</td>\n",
       "      <td>4.546943e+05</td>\n",
       "      <td>844.200012</td>\n",
       "    </tr>\n",
       "    <tr>\n",
       "      <th>3,1</th>\n",
       "      <td>18.621700</td>\n",
       "      <td>1.053548e+06</td>\n",
       "      <td>855.599976</td>\n",
       "    </tr>\n",
       "    <tr>\n",
       "      <th>4,1</th>\n",
       "      <td>15.377000</td>\n",
       "      <td>8.320733e+05</td>\n",
       "      <td>839.099976</td>\n",
       "    </tr>\n",
       "  </tbody>\n",
       "</table>\n",
       "</div>"
      ],
      "text/plain": [
       "        travel_time      val_prod  val_prod_per_ha\n",
       "coords                                            \n",
       "0,1        3.221790  3.242249e+05       899.599976\n",
       "1,1        9.353820  8.547186e+05       876.299988\n",
       "2,1       16.249701  4.546943e+05       844.200012\n",
       "3,1       18.621700  1.053548e+06       855.599976\n",
       "4,1       15.377000  8.320733e+05       839.099976"
      ]
     },
     "execution_count": 266,
     "metadata": {},
     "output_type": "execute_result"
    }
   ],
   "source": [
    "# remove all rows with NA data\n",
    "all_pca_data = all_pca_data.dropna(axis=0)\n",
    "print(all_pca_data.shape)\n",
    "coords_included = all_pca_data.index.tolist()\n",
    "# FLAG: visualize all of the coordinates still included. what's the best \n",
    "# format for me to save them in for them to be visualized?\n",
    "all_pca_data.head()"
   ]
  },
  {
   "cell_type": "code",
   "execution_count": 260,
   "metadata": {},
   "outputs": [
    {
     "data": {
      "text/plain": [
       "array([[-0.3958822 , -0.15512812,  0.1753141 ],\n",
       "       [ 1.1513493 ,  0.24256676,  0.15003414],\n",
       "       [ 2.8913155 , -0.05731921,  0.1152064 ],\n",
       "       [ 3.4898174 ,  0.3916227 ,  0.1275751 ],\n",
       "       [ 2.6711159 ,  0.22559027,  0.10967298]], dtype=float32)"
      ]
     },
     "execution_count": 260,
     "metadata": {},
     "output_type": "execute_result"
    }
   ],
   "source": [
    "# normalize columns of the dataframe\n",
    "pca_matrix = np.matrix(all_pca_data)\n",
    "scaler = sklearn.preprocessing.StandardScaler()\n",
    "scaler.fit(pca_matrix)\n",
    "all_pca_data_norm = scaler.transform(pca_matrix)\n",
    "\n",
    "all_pca_data_norm[0:5]"
   ]
  },
  {
   "cell_type": "markdown",
   "metadata": {},
   "source": [
    "Perform PCA calculation"
   ]
  },
  {
   "cell_type": "code",
   "execution_count": 279,
   "metadata": {},
   "outputs": [],
   "source": [
    "u,s,vt = np.linalg.svd(all_pca_data_norm, full_matrices=False)"
   ]
  },
  {
   "cell_type": "markdown",
   "metadata": {},
   "source": [
    "## Analyze PCA Results"
   ]
  },
  {
   "cell_type": "code",
   "execution_count": 295,
   "metadata": {},
   "outputs": [],
   "source": [
    "def variance_captured(s, i):\n",
    "    # returns the proportion of variance captured by pc i\n",
    "    return s[i-1]**2 / np.sum(s**2)\n",
    "\n",
    "def variance_captured_first_k(s, k):\n",
    "    # returns the proportion of variance captured by pcs 1 through k\n",
    "    return sum([variance_captured(s, ki) for ki in range(1, k+1)])"
   ]
  },
  {
   "cell_type": "markdown",
   "metadata": {},
   "source": [
    "Scree plot"
   ]
  },
  {
   "cell_type": "code",
   "execution_count": 296,
   "metadata": {},
   "outputs": [
    {
     "data": {
      "image/png": "[encoded data removed]",
      "text/plain": [
       "<Figure size 432x288 with 1 Axes>"
      ]
     },
     "metadata": {},
     "output_type": "display_data"
    }
   ],
   "source": [
    "x = np.arange(1,all_pca_data.shape[1]+1)\n",
    "var = [variance_captured(s, xi) for xi in x]\n",
    "plt.plot(x, var);\n",
    "plt.xlabel('Principal Component');\n",
    "plt.ylabel('Proportion of Total Variance Captured');"
   ]
  },
  {
   "cell_type": "code",
   "execution_count": 306,
   "metadata": {},
   "outputs": [
    {
     "name": "stdout",
     "output_type": "stream",
     "text": [
      "Number of PCs\tVariance captured\n",
      "1 \t\t 0.4609\n",
      "2 \t\t 0.7619\n",
      "3 \t\t 1.0\n"
     ]
    }
   ],
   "source": [
    "print('Number of PCs\\tVariance captured')\n",
    "for i in range(1, all_pca_data.shape[1]+1):\n",
    "    print(i,'\\t\\t',round(variance_captured_first_k(s,i),4))"
   ]
  },
  {
   "cell_type": "markdown",
   "metadata": {},
   "source": [
    "Examine the weights of the PCs"
   ]
  },
  {
   "cell_type": "code",
   "execution_count": 310,
   "metadata": {},
   "outputs": [
    {
     "data": {
      "text/html": [
       "<div>\n",
       "<style scoped>\n",
       "    .dataframe tbody tr th:only-of-type {\n",
       "        vertical-align: middle;\n",
       "    }\n",
       "\n",
       "    .dataframe tbody tr th {\n",
       "        vertical-align: top;\n",
       "    }\n",
       "\n",
       "    .dataframe thead th {\n",
       "        text-align: right;\n",
       "    }\n",
       "</style>\n",
       "<table border=\"1\" class=\"dataframe\">\n",
       "  <thead>\n",
       "    <tr style=\"text-align: right;\">\n",
       "      <th></th>\n",
       "      <th>PC1 weights</th>\n",
       "      <th>PC2 weights</th>\n",
       "    </tr>\n",
       "    <tr>\n",
       "      <th>Var</th>\n",
       "      <th></th>\n",
       "      <th></th>\n",
       "    </tr>\n",
       "  </thead>\n",
       "  <tbody>\n",
       "    <tr>\n",
       "      <th>travel_time</th>\n",
       "      <td>0.486145</td>\n",
       "      <td>0.822904</td>\n",
       "    </tr>\n",
       "    <tr>\n",
       "      <th>val_prod</th>\n",
       "      <td>0.486145</td>\n",
       "      <td>0.822904</td>\n",
       "    </tr>\n",
       "    <tr>\n",
       "      <th>val_prod_per_ha</th>\n",
       "      <td>0.486145</td>\n",
       "      <td>0.822904</td>\n",
       "    </tr>\n",
       "  </tbody>\n",
       "</table>\n",
       "</div>"
      ],
      "text/plain": [
       "                 PC1 weights  PC2 weights\n",
       "Var                                      \n",
       "travel_time         0.486145     0.822904\n",
       "val_prod            0.486145     0.822904\n",
       "val_prod_per_ha     0.486145     0.822904"
      ]
     },
     "execution_count": 310,
     "metadata": {},
     "output_type": "execute_result"
    }
   ],
   "source": [
    "weights = pd.DataFrame({'Var':all_pca_data.columns,\n",
    "                       'PC1 weights':np.array(vt[0,:])[0],\n",
    "                       'PC2 weights':np.array(vt[1,:])[0]\n",
    "                       }).set_index('Var')\n",
    "weights.sort_values('PC1 weights')"
   ]
  },
  {
   "cell_type": "markdown",
   "metadata": {},
   "source": [
    "FLAG: KW fix this, these shouldn't all be the same value.."
   ]
  },
  {
   "cell_type": "markdown",
   "metadata": {},
   "source": [
    "## Visualize the Cleaned Raster Images and Data Columns"
   ]
  },
  {
   "cell_type": "code",
   "execution_count": 204,
   "metadata": {},
   "outputs": [
    {
     "data": {
      "text/html": [
       "<div>\n",
       "<style scoped>\n",
       "    .dataframe tbody tr th:only-of-type {\n",
       "        vertical-align: middle;\n",
       "    }\n",
       "\n",
       "    .dataframe tbody tr th {\n",
       "        vertical-align: top;\n",
       "    }\n",
       "\n",
       "    .dataframe thead th {\n",
       "        text-align: right;\n",
       "    }\n",
       "</style>\n",
       "<table border=\"1\" class=\"dataframe\">\n",
       "  <thead>\n",
       "    <tr style=\"text-align: right;\">\n",
       "      <th></th>\n",
       "      <th>path</th>\n",
       "      <th>raster</th>\n",
       "      <th>metadata</th>\n",
       "      <th>masked</th>\n",
       "      <th>band</th>\n",
       "      <th>df</th>\n",
       "      <th>cleaned_df</th>\n",
       "      <th>processed</th>\n",
       "      <th>pca_df</th>\n",
       "    </tr>\n",
       "  </thead>\n",
       "  <tbody>\n",
       "    <tr>\n",
       "      <th>travel_time</th>\n",
       "      <td>data/raw_data/TravelTime_50k/Traveltime_50k.tif</td>\n",
       "      <td>&lt;open DatasetReader name='data/raw_data/Travel...</td>\n",
       "      <td>[driver, dtype, nodata, width, height, count, ...</td>\n",
       "      <td>&lt;open DatasetReader name='data/raw_data/Travel...</td>\n",
       "      <td>[[-3.4028235e+38, -3.4028235e+38, -3.4028235e+...</td>\n",
       "      <td>0             1             2   ...</td>\n",
       "      <td>0    1    2    3    4    5    6    7    8...</td>\n",
       "      <td>&lt;open DatasetReader name='data/raw_data/Travel...</td>\n",
       "      <td>travel_time\n",
       "coords              \n",
       "0,0 ...</td>\n",
       "    </tr>\n",
       "    <tr>\n",
       "      <th>val_prod</th>\n",
       "      <td>data/raw_data/val_prod.tif</td>\n",
       "      <td>&lt;open DatasetReader name='data/raw_data/val_pr...</td>\n",
       "      <td>[driver, dtype, nodata, width, height, count, ...</td>\n",
       "      <td>&lt;open DatasetReader name='data/raw_data/val_pr...</td>\n",
       "      <td>[[-1.0, -1.0, -1.0, -1.0, -1.0, -1.0, -1.0, -1...</td>\n",
       "      <td>0    1    2    3    4    5    6    7    8...</td>\n",
       "      <td>0    1    2    3    4    5    6    7    8...</td>\n",
       "      <td>&lt;open DatasetReader name='data/raw_data/val_pr...</td>\n",
       "      <td>val_prod\n",
       "coords           \n",
       "0,0       ...</td>\n",
       "    </tr>\n",
       "    <tr>\n",
       "      <th>val_prod_per_ha</th>\n",
       "      <td>data/raw_data/val_prod_per_ha.tif</td>\n",
       "      <td>&lt;open DatasetReader name='data/raw_data/val_pr...</td>\n",
       "      <td>[driver, dtype, nodata, width, height, count, ...</td>\n",
       "      <td>&lt;open DatasetReader name='data/raw_data/val_pr...</td>\n",
       "      <td>[[-1.0, -1.0, -1.0, -1.0, -1.0, -1.0, -1.0, -1...</td>\n",
       "      <td>0    1    2    3    4    5    6    7    8...</td>\n",
       "      <td>0    1    2    3    4    5    6    7    8...</td>\n",
       "      <td>&lt;open DatasetReader name='data/raw_data/val_pr...</td>\n",
       "      <td>val_prod_per_ha\n",
       "coords               ...</td>\n",
       "    </tr>\n",
       "  </tbody>\n",
       "</table>\n",
       "</div>"
      ],
      "text/plain": [
       "                                                            path  \\\n",
       "travel_time      data/raw_data/TravelTime_50k/Traveltime_50k.tif   \n",
       "val_prod                              data/raw_data/val_prod.tif   \n",
       "val_prod_per_ha                data/raw_data/val_prod_per_ha.tif   \n",
       "\n",
       "                                                            raster  \\\n",
       "travel_time      <open DatasetReader name='data/raw_data/Travel...   \n",
       "val_prod         <open DatasetReader name='data/raw_data/val_pr...   \n",
       "val_prod_per_ha  <open DatasetReader name='data/raw_data/val_pr...   \n",
       "\n",
       "                                                          metadata  \\\n",
       "travel_time      [driver, dtype, nodata, width, height, count, ...   \n",
       "val_prod         [driver, dtype, nodata, width, height, count, ...   \n",
       "val_prod_per_ha  [driver, dtype, nodata, width, height, count, ...   \n",
       "\n",
       "                                                            masked  \\\n",
       "travel_time      <open DatasetReader name='data/raw_data/Travel...   \n",
       "val_prod         <open DatasetReader name='data/raw_data/val_pr...   \n",
       "val_prod_per_ha  <open DatasetReader name='data/raw_data/val_pr...   \n",
       "\n",
       "                                                              band  \\\n",
       "travel_time      [[-3.4028235e+38, -3.4028235e+38, -3.4028235e+...   \n",
       "val_prod         [[-1.0, -1.0, -1.0, -1.0, -1.0, -1.0, -1.0, -1...   \n",
       "val_prod_per_ha  [[-1.0, -1.0, -1.0, -1.0, -1.0, -1.0, -1.0, -1...   \n",
       "\n",
       "                                                                df  \\\n",
       "travel_time                    0             1             2   ...   \n",
       "val_prod              0    1    2    3    4    5    6    7    8...   \n",
       "val_prod_per_ha       0    1    2    3    4    5    6    7    8...   \n",
       "\n",
       "                                                        cleaned_df  \\\n",
       "travel_time           0    1    2    3    4    5    6    7    8...   \n",
       "val_prod              0    1    2    3    4    5    6    7    8...   \n",
       "val_prod_per_ha       0    1    2    3    4    5    6    7    8...   \n",
       "\n",
       "                                                         processed  \\\n",
       "travel_time      <open DatasetReader name='data/raw_data/Travel...   \n",
       "val_prod         <open DatasetReader name='data/raw_data/val_pr...   \n",
       "val_prod_per_ha  <open DatasetReader name='data/raw_data/val_pr...   \n",
       "\n",
       "                                                            pca_df  \n",
       "travel_time               travel_time\n",
       "coords              \n",
       "0,0 ...  \n",
       "val_prod                  val_prod\n",
       "coords           \n",
       "0,0       ...  \n",
       "val_prod_per_ha           val_prod_per_ha\n",
       "coords               ...  "
      ]
     },
     "execution_count": 204,
     "metadata": {},
     "output_type": "execute_result"
    }
   ],
   "source": [
    "pca_data"
   ]
  },
  {
   "cell_type": "code",
   "execution_count": 205,
   "metadata": {},
   "outputs": [
    {
     "data": {
      "image/png": "[encoded data removed]",
      "text/plain": [
       "<Figure size 432x288 with 1 Axes>"
      ]
     },
     "metadata": {
      "needs_background": "light"
     },
     "output_type": "display_data"
    },
    {
     "data": {
      "image/png": "[encoded data removed]",
      "text/plain": [
       "<Figure size 432x288 with 1 Axes>"
      ]
     },
     "metadata": {
      "needs_background": "light"
     },
     "output_type": "display_data"
    },
    {
     "data": {
      "image/png": "[encoded data removed]",
      "text/plain": [
       "<Figure size 432x288 with 1 Axes>"
      ]
     },
     "metadata": {
      "needs_background": "light"
     },
     "output_type": "display_data"
    }
   ],
   "source": [
    "for name in pca_data_names:\n",
    "    pyplot.imshow(pca_data.loc[name,'processed'].read(1), cmap='pink')\n",
    "    pyplot.savefig(name+'_proc.png')\n",
    "    pyplot.show()"
   ]
  },
  {
   "cell_type": "code",
   "execution_count": 206,
   "metadata": {},
   "outputs": [
    {
     "data": {
      "image/png": "[encoded data removed]",
      "text/plain": [
       "<Figure size 432x288 with 1 Axes>"
      ]
     },
     "metadata": {
      "needs_background": "light"
     },
     "output_type": "display_data"
    }
   ],
   "source": [
    "for name in pca_data_names:\n",
    "    pca_data.loc[name,'pca_df'].iloc[:,0].plot.kde()\n",
    "    pyplot.savefig(name+'_kde.png')"
   ]
  },
  {
   "cell_type": "code",
   "execution_count": 158,
   "metadata": {},
   "outputs": [
    {
     "data": {
      "text/plain": [
       "<matplotlib.axes._subplots.AxesSubplot at 0x2236fc93630>"
      ]
     },
     "execution_count": 158,
     "metadata": {},
     "output_type": "execute_result"
    },
    {
     "data": {
      "image/png": "[encoded data removed]",
      "text/plain": [
       "<Figure size 432x288 with 1 Axes>"
      ]
     },
     "metadata": {
      "needs_background": "light"
     },
     "output_type": "display_data"
    }
   ],
   "source": [
    "pca_data.loc['val_prod','pca_df'].iloc[:,0].plot.kde()"
   ]
  },
  {
   "cell_type": "markdown",
   "metadata": {},
   "source": [
    "# EXTRA"
   ]
  },
  {
   "cell_type": "code",
   "execution_count": 56,
   "metadata": {},
   "outputs": [
    {
     "data": {
      "image/png": "[encoded data removed]",
      "text/plain": [
       "<Figure size 432x288 with 1 Axes>"
      ]
     },
     "metadata": {
      "needs_background": "light"
     },
     "output_type": "display_data"
    }
   ],
   "source": [
    "val_prod_band = val_prod_masked.read(1)\n",
    "\n",
    "pyplot.show()"
   ]
  },
  {
   "cell_type": "code",
   "execution_count": 57,
   "metadata": {},
   "outputs": [
    {
     "data": {
      "image/png": "[encoded data removed]",
      "text/plain": [
       "<Figure size 432x288 with 1 Axes>"
      ]
     },
     "metadata": {
      "needs_background": "light"
     },
     "output_type": "display_data"
    }
   ],
   "source": [
    "pyplot.imshow(val_prod_per_hect_masked.read(1), cmap='pink')\n",
    "\n",
    "pyplot.show()"
   ]
  },
  {
   "cell_type": "code",
   "execution_count": 81,
   "metadata": {},
   "outputs": [
    {
     "data": {
      "text/plain": [
       "(628, 466)"
      ]
     },
     "execution_count": 81,
     "metadata": {},
     "output_type": "execute_result"
    }
   ],
   "source": [
    "val_prod_per_hect_band = val_prod_per_hect_masked.read(1)\n",
    "pd.DataFrame(val_prod_per_hect_band).shape"
   ]
  },
  {
   "cell_type": "code",
   "execution_count": 116,
   "metadata": {},
   "outputs": [
    {
     "ename": "AttributeError",
     "evalue": "'DataFrame' object has no attribute 'pyplot'",
     "output_type": "error",
     "traceback": [
      "\u001b[1;31m---------------------------------------------------------------------------\u001b[0m",
      "\u001b[1;31mAttributeError\u001b[0m                            Traceback (most recent call last)",
      "\u001b[1;32m<ipython-input-116-90a9d86669a7>\u001b[0m in \u001b[0;36m<module>\u001b[1;34m\u001b[0m\n\u001b[1;32m----> 1\u001b[1;33m \u001b[0mtravel_time_df_sub\u001b[0m\u001b[1;33m.\u001b[0m\u001b[0mpyplot\u001b[0m\u001b[1;33m.\u001b[0m\u001b[0mscatter\u001b[0m\u001b[1;33m(\u001b[0m\u001b[1;33m)\u001b[0m\u001b[1;33m\u001b[0m\u001b[1;33m\u001b[0m\u001b[0m\n\u001b[0m",
      "\u001b[1;32m~\\AppData\\Local\\Continuum\\anaconda3\\lib\\site-packages\\pandas\\core\\generic.py\u001b[0m in \u001b[0;36m__getattr__\u001b[1;34m(self, name)\u001b[0m\n\u001b[0;32m   5065\u001b[0m             \u001b[1;32mif\u001b[0m \u001b[0mself\u001b[0m\u001b[1;33m.\u001b[0m\u001b[0m_info_axis\u001b[0m\u001b[1;33m.\u001b[0m\u001b[0m_can_hold_identifiers_and_holds_name\u001b[0m\u001b[1;33m(\u001b[0m\u001b[0mname\u001b[0m\u001b[1;33m)\u001b[0m\u001b[1;33m:\u001b[0m\u001b[1;33m\u001b[0m\u001b[1;33m\u001b[0m\u001b[0m\n\u001b[0;32m   5066\u001b[0m                 \u001b[1;32mreturn\u001b[0m \u001b[0mself\u001b[0m\u001b[1;33m[\u001b[0m\u001b[0mname\u001b[0m\u001b[1;33m]\u001b[0m\u001b[1;33m\u001b[0m\u001b[1;33m\u001b[0m\u001b[0m\n\u001b[1;32m-> 5067\u001b[1;33m             \u001b[1;32mreturn\u001b[0m \u001b[0mobject\u001b[0m\u001b[1;33m.\u001b[0m\u001b[0m__getattribute__\u001b[0m\u001b[1;33m(\u001b[0m\u001b[0mself\u001b[0m\u001b[1;33m,\u001b[0m \u001b[0mname\u001b[0m\u001b[1;33m)\u001b[0m\u001b[1;33m\u001b[0m\u001b[1;33m\u001b[0m\u001b[0m\n\u001b[0m\u001b[0;32m   5068\u001b[0m \u001b[1;33m\u001b[0m\u001b[0m\n\u001b[0;32m   5069\u001b[0m     \u001b[1;32mdef\u001b[0m \u001b[0m__setattr__\u001b[0m\u001b[1;33m(\u001b[0m\u001b[0mself\u001b[0m\u001b[1;33m,\u001b[0m \u001b[0mname\u001b[0m\u001b[1;33m,\u001b[0m \u001b[0mvalue\u001b[0m\u001b[1;33m)\u001b[0m\u001b[1;33m:\u001b[0m\u001b[1;33m\u001b[0m\u001b[1;33m\u001b[0m\u001b[0m\n",
      "\u001b[1;31mAttributeError\u001b[0m: 'DataFrame' object has no attribute 'pyplot'"
     ]
    }
   ],
   "source": [
    "travel_time_df_sub.pyplot.scatter()"
   ]
  },
  {
   "cell_type": "code",
   "execution_count": 118,
   "metadata": {},
   "outputs": [
    {
     "data": {
      "image/png": "[encoded data removed]",
      "text/plain": [
       "<Figure size 432x288 with 1 Axes>"
      ]
     },
     "metadata": {
      "needs_background": "light"
     },
     "output_type": "display_data"
    }
   ],
   "source": [
    "pyplot.imshow(val_prod_per_hect_df_sub, cmap='pink')\n",
    "\n",
    "pyplot.show()"
   ]
  },
  {
   "cell_type": "code",
   "execution_count": 108,
   "metadata": {},
   "outputs": [
    {
     "data": {
      "text/plain": [
       "(482, 466)"
      ]
     },
     "execution_count": 108,
     "metadata": {},
     "output_type": "execute_result"
    }
   ],
   "source": [
    "val_prod_df_sub.shape"
   ]
  },
  {
   "cell_type": "code",
   "execution_count": 58,
   "metadata": {},
   "outputs": [
    {
     "name": "stdout",
     "output_type": "stream",
     "text": [
      "data/raw_data/TravelTime_50k/Traveltime_50k_mask.tif\n",
      "(11.666666666988416, 5.3333333332066)\n",
      "(50.5000000003062, -34.833333333444)\n",
      "data/raw_data/PovMap_Global_Infant_Mortality/povmap_global_subnational_infant_mortality_rates_v2_mask.tif\n",
      "(11.716666666666612, 5.318778284000032)\n",
      "(50.48333333333326, -46.96455504933328)\n",
      "data/raw_data/val_prod_mask.tif\n",
      "(11.665900000000022, 5.333671999999993)\n",
      "(50.499078000000026, -46.99945200000001)\n",
      "data/raw_data/val_prod_per_ha_mask.tif\n",
      "(11.665900000000022, 5.333671999999993)\n",
      "(50.499078000000026, -46.99945200000001)\n"
     ]
    }
   ],
   "source": [
    "# check each dataset's upper left and lower right coordinates\n",
    "# these coordinates are meters from the origin of the coordinate system\n",
    "for dataset in raster_data_masked:\n",
    "    print(str(dataset.name))\n",
    "    print(dataset.transform*(0,0))\n",
    "    print(dataset.transform*(dataset.width, dataset.height))\n",
    "# FLAG: the bounds are not the same for each dataset. "
   ]
  }
 ],
 "metadata": {
  "kernelspec": {
   "display_name": "Python 3",
   "language": "python",
   "name": "python3"
  },
  "language_info": {
   "codemirror_mode": {
    "name": "ipython",
    "version": 3
   },
   "file_extension": ".py",
   "mimetype": "text/x-python",
   "name": "python",
   "nbconvert_exporter": "python",
   "pygments_lexer": "ipython3",
   "version": "3.7.3"
  }
 },
 "nbformat": 4,
 "nbformat_minor": 2
}
