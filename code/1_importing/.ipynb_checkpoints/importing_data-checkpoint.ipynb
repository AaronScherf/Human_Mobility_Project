{
 "cells": [
  {
   "cell_type": "markdown",
   "metadata": {},
   "source": [
    "## Importing Data Notebook"
   ]
  },
  {
   "cell_type": "markdown",
   "metadata": {},
   "source": [
    "Code sources:\n",
    "- https://github.com/dlab-berkeley/Geospatial-Fundamentals-in-Python/blob/master/Geopandas_Intro_F2019_GC.ipynb\n",
    "- https://rasterio.readthedocs.io/en/stable/"
   ]
  },
  {
   "cell_type": "markdown",
   "metadata": {},
   "source": [
    "Install libraries"
   ]
  },
  {
   "cell_type": "code",
   "execution_count": 2,
   "metadata": {},
   "outputs": [
    {
     "name": "stdout",
     "output_type": "stream",
     "text": [
      "Collecting rasterio\n",
      "  Downloading https://files.pythonhosted.org/packages/1a/6d/ee8b15e0d45dd7e9e7f2559e37f91915a19155cf8403948ff2082903ee30/rasterio-1.1.0.tar.gz (2.1MB)\n",
      "  Installing build dependencies: started\n",
      "  Installing build dependencies: finished with status 'error'\n",
      "  Complete output from command C:\\Users\\theaa\\AppData\\Local\\Continuum\\anaconda3\\python.exe C:\\Users\\theaa\\AppData\\Local\\Continuum\\anaconda3\\lib\\site-packages\\pip install --ignore-installed --no-user --prefix C:\\Users\\theaa\\AppData\\Local\\Temp\\pip-build-env-qh_gcsgn\\overlay --no-warn-script-location --no-binary :none: --only-binary :none: -i https://pypi.org/simple -- setuptools wheel cython numpy:\n",
      "  Traceback (most recent call last):\n",
      "    File \"C:\\Users\\theaa\\AppData\\Local\\Continuum\\anaconda3\\lib\\runpy.py\", line 193, in _run_module_as_main\n",
      "      \"__main__\", mod_spec)\n",
      "    File \"C:\\Users\\theaa\\AppData\\Local\\Continuum\\anaconda3\\lib\\runpy.py\", line 85, in _run_code\n",
      "      exec(code, run_globals)\n",
      "    File \"C:\\Users\\theaa\\AppData\\Local\\Continuum\\anaconda3\\lib\\site-packages\\pip\\__main__.py\", line 16, in <module>\n",
      "      from pip._internal import main as _main  # isort:skip # noqa\n",
      "    File \"C:\\Users\\theaa\\AppData\\Local\\Continuum\\anaconda3\\lib\\site-packages\\pip\\_internal\\__init__.py\", line 4, in <module>\n",
      "      import locale\n",
      "    File \"C:\\Users\\theaa\\AppData\\Local\\Continuum\\anaconda3\\lib\\locale.py\", line 16, in <module>\n",
      "      import re\n",
      "    File \"C:\\Users\\theaa\\AppData\\Local\\Continuum\\anaconda3\\lib\\re.py\", line 143, in <module>\n",
      "      class RegexFlag(enum.IntFlag):\n",
      "  AttributeError: module 'enum' has no attribute 'IntFlag'\n",
      "  \n",
      "  ----------------------------------------\n"
     ]
    },
    {
     "name": "stderr",
     "output_type": "stream",
     "text": [
      "Command \"C:\\Users\\theaa\\AppData\\Local\\Continuum\\anaconda3\\python.exe C:\\Users\\theaa\\AppData\\Local\\Continuum\\anaconda3\\lib\\site-packages\\pip install --ignore-installed --no-user --prefix C:\\Users\\theaa\\AppData\\Local\\Temp\\pip-build-env-qh_gcsgn\\overlay --no-warn-script-location --no-binary :none: --only-binary :none: -i https://pypi.org/simple -- setuptools wheel cython numpy\" failed with error code 1 in None\n"
     ]
    }
   ],
   "source": [
    "# Install rasteria\n",
    "!pip install rasterio"
   ]
  },
  {
   "cell_type": "code",
   "execution_count": 3,
   "metadata": {},
   "outputs": [
    {
     "name": "stdout",
     "output_type": "stream",
     "text": [
      "Collecting pysal\n",
      "  Using cached https://files.pythonhosted.org/packages/8e/c6/ed0ca4fd0a72c4cfa629e2e88b8f6f77b2d32ae6cf1678ecf6ef392320ab/pysal-2.1.0.tar.gz\n",
      "Requirement already satisfied: scipy in c:\\users\\theaa\\appdata\\local\\continuum\\anaconda3\\lib\\site-packages (from pysal) (1.2.1)\n",
      "Requirement already satisfied: pandas in c:\\users\\theaa\\appdata\\local\\continuum\\anaconda3\\lib\\site-packages (from pysal) (0.24.2)\n",
      "Requirement already satisfied: seaborn in c:\\users\\theaa\\appdata\\local\\continuum\\anaconda3\\lib\\site-packages (from pysal) (0.9.0)\n",
      "Requirement already satisfied: matplotlib in c:\\users\\theaa\\appdata\\local\\continuum\\anaconda3\\lib\\site-packages (from pysal) (3.0.3)\n",
      "Collecting descartes (from pysal)\n",
      "  Using cached https://files.pythonhosted.org/packages/e5/b6/1ed2eb03989ae574584664985367ba70cd9cf8b32ee8cad0e8aaeac819f3/descartes-1.1.0-py3-none-any.whl\n",
      "Collecting palettable (from pysal)\n",
      "  Using cached https://files.pythonhosted.org/packages/ca/46/5198aa24e61bb7eef28d06cb69e56bfa1942f4b6807d95a0b5ce361fe09b/palettable-3.3.0-py2.py3-none-any.whl\n",
      "Requirement already satisfied: scikit-learn in c:\\users\\theaa\\appdata\\local\\continuum\\anaconda3\\lib\\site-packages (from pysal) (0.20.3)\n",
      "Requirement already satisfied: geopandas in c:\\users\\theaa\\appdata\\local\\continuum\\anaconda3\\lib\\site-packages (from pysal) (0.6.1)\n",
      "Requirement already satisfied: deprecated in c:\\users\\theaa\\appdata\\local\\continuum\\anaconda3\\lib\\site-packages (from pysal) (1.2.6)\n",
      "Requirement already satisfied: rtree in c:\\users\\theaa\\appdata\\local\\continuum\\anaconda3\\lib\\site-packages (from pysal) (0.8.3)\n",
      "Requirement already satisfied: tqdm in c:\\users\\theaa\\appdata\\local\\continuum\\anaconda3\\lib\\site-packages (from pysal) (4.31.1)\n",
      "Requirement already satisfied: numpy>=1.12.0 in c:\\users\\theaa\\appdata\\local\\continuum\\anaconda3\\lib\\site-packages (from pandas->pysal) (1.16.2)\n",
      "Requirement already satisfied: pytz>=2011k in c:\\users\\theaa\\appdata\\local\\continuum\\anaconda3\\lib\\site-packages (from pandas->pysal) (2018.9)\n",
      "Requirement already satisfied: python-dateutil>=2.5.0 in c:\\users\\theaa\\appdata\\local\\continuum\\anaconda3\\lib\\site-packages (from pandas->pysal) (2.8.0)\n",
      "Requirement already satisfied: cycler>=0.10 in c:\\users\\theaa\\appdata\\local\\continuum\\anaconda3\\lib\\site-packages (from matplotlib->pysal) (0.10.0)\n",
      "Requirement already satisfied: kiwisolver>=1.0.1 in c:\\users\\theaa\\appdata\\local\\continuum\\anaconda3\\lib\\site-packages (from matplotlib->pysal) (1.0.1)\n",
      "Requirement already satisfied: pyparsing!=2.0.4,!=2.1.2,!=2.1.6,>=2.0.1 in c:\\users\\theaa\\appdata\\local\\continuum\\anaconda3\\lib\\site-packages (from matplotlib->pysal) (2.3.1)\n",
      "Requirement already satisfied: fiona in c:\\users\\theaa\\appdata\\local\\continuum\\anaconda3\\lib\\site-packages (from geopandas->pysal) (1.8.4)\n",
      "Requirement already satisfied: shapely in c:\\users\\theaa\\appdata\\local\\continuum\\anaconda3\\lib\\site-packages (from geopandas->pysal) (1.6.4.post2)\n",
      "Requirement already satisfied: pyproj in c:\\users\\theaa\\appdata\\local\\continuum\\anaconda3\\lib\\site-packages (from geopandas->pysal) (1.9.6)\n",
      "Requirement already satisfied: wrapt<2,>=1.10 in c:\\users\\theaa\\appdata\\local\\continuum\\anaconda3\\lib\\site-packages (from deprecated->pysal) (1.11.1)\n",
      "Requirement already satisfied: setuptools in c:\\users\\theaa\\appdata\\local\\continuum\\anaconda3\\lib\\site-packages (from rtree->pysal) (40.8.0)\n",
      "Requirement already satisfied: six>=1.5 in c:\\users\\theaa\\appdata\\local\\continuum\\anaconda3\\lib\\site-packages (from python-dateutil>=2.5.0->pandas->pysal) (1.12.0)\n",
      "Requirement already satisfied: attrs>=17 in c:\\users\\theaa\\appdata\\local\\continuum\\anaconda3\\lib\\site-packages (from fiona->geopandas->pysal) (19.1.0)\n",
      "Requirement already satisfied: click<8,>=4.0 in c:\\users\\theaa\\appdata\\local\\continuum\\anaconda3\\lib\\site-packages (from fiona->geopandas->pysal) (7.0)\n",
      "Requirement already satisfied: cligj>=0.5 in c:\\users\\theaa\\appdata\\local\\continuum\\anaconda3\\lib\\site-packages (from fiona->geopandas->pysal) (0.5.0)\n",
      "Requirement already satisfied: click-plugins>=1.0 in c:\\users\\theaa\\appdata\\local\\continuum\\anaconda3\\lib\\site-packages (from fiona->geopandas->pysal) (1.1.1)\n",
      "Requirement already satisfied: munch in c:\\users\\theaa\\appdata\\local\\continuum\\anaconda3\\lib\\site-packages (from fiona->geopandas->pysal) (2.5.0)\n",
      "Building wheels for collected packages: pysal\n",
      "  Building wheel for pysal (setup.py): started\n",
      "  Building wheel for pysal (setup.py): finished with status 'done'\n",
      "  Stored in directory: C:\\Users\\theaa\\AppData\\Local\\pip\\Cache\\wheels\\d3\\83\\3d\\697615f4ce74486679f237d1d6a1cf70cd742fa6a34baba744\n",
      "Successfully built pysal\n",
      "Installing collected packages: descartes, palettable, pysal\n",
      "Successfully installed descartes-1.1.0 palettable-3.3.0 pysal-2.1.0\n"
     ]
    }
   ],
   "source": [
    "# Install pysal\n",
    "!pip install pysal"
   ]
  },
  {
   "cell_type": "code",
   "execution_count": 4,
   "metadata": {},
   "outputs": [
    {
     "name": "stdout",
     "output_type": "stream",
     "text": [
      "Requirement already satisfied: mapclassify in c:\\users\\theaa\\appdata\\local\\continuum\\anaconda3\\lib\\site-packages (2.1.1)\n",
      "Requirement already satisfied: scikit-learn in c:\\users\\theaa\\appdata\\local\\continuum\\anaconda3\\lib\\site-packages (from mapclassify) (0.20.3)\n",
      "Requirement already satisfied: pandas in c:\\users\\theaa\\appdata\\local\\continuum\\anaconda3\\lib\\site-packages (from mapclassify) (0.24.2)\n",
      "Requirement already satisfied: numpy>=1.3 in c:\\users\\theaa\\appdata\\local\\continuum\\anaconda3\\lib\\site-packages (from mapclassify) (1.16.2)\n",
      "Requirement already satisfied: deprecated in c:\\users\\theaa\\appdata\\local\\continuum\\anaconda3\\lib\\site-packages (from mapclassify) (1.2.6)\n",
      "Requirement already satisfied: scipy>=0.11 in c:\\users\\theaa\\appdata\\local\\continuum\\anaconda3\\lib\\site-packages (from mapclassify) (1.2.1)\n",
      "Requirement already satisfied: python-dateutil>=2.5.0 in c:\\users\\theaa\\appdata\\local\\continuum\\anaconda3\\lib\\site-packages (from pandas->mapclassify) (2.8.0)\n",
      "Requirement already satisfied: pytz>=2011k in c:\\users\\theaa\\appdata\\local\\continuum\\anaconda3\\lib\\site-packages (from pandas->mapclassify) (2018.9)\n",
      "Requirement already satisfied: wrapt<2,>=1.10 in c:\\users\\theaa\\appdata\\local\\continuum\\anaconda3\\lib\\site-packages (from deprecated->mapclassify) (1.11.1)\n",
      "Requirement already satisfied: six>=1.5 in c:\\users\\theaa\\appdata\\local\\continuum\\anaconda3\\lib\\site-packages (from python-dateutil>=2.5.0->pandas->mapclassify) (1.12.0)\n"
     ]
    }
   ],
   "source": [
    "# Install mapclassify\n",
    "!pip install mapclassify"
   ]
  },
  {
   "cell_type": "code",
   "execution_count": 1,
   "metadata": {},
   "outputs": [
    {
     "name": "stdout",
     "output_type": "stream",
     "text": [
      "Requirement already satisfied: geopandas in c:\\users\\theaa\\appdata\\local\\continuum\\anaconda3\\lib\\site-packages (0.6.1)\n",
      "Requirement already satisfied: pandas>=0.23.0 in c:\\users\\theaa\\appdata\\local\\continuum\\anaconda3\\lib\\site-packages (from geopandas) (0.24.2)\n",
      "Requirement already satisfied: shapely in c:\\users\\theaa\\appdata\\local\\continuum\\anaconda3\\lib\\site-packages (from geopandas) (1.6.4.post2)\n",
      "Requirement already satisfied: pyproj in c:\\users\\theaa\\appdata\\local\\continuum\\anaconda3\\lib\\site-packages (from geopandas) (1.9.6)\n",
      "Requirement already satisfied: fiona in c:\\users\\theaa\\appdata\\local\\continuum\\anaconda3\\lib\\site-packages (from geopandas) (1.8.4)\n",
      "Requirement already satisfied: numpy>=1.12.0 in c:\\users\\theaa\\appdata\\local\\continuum\\anaconda3\\lib\\site-packages (from pandas>=0.23.0->geopandas) (1.16.2)\n",
      "Requirement already satisfied: pytz>=2011k in c:\\users\\theaa\\appdata\\local\\continuum\\anaconda3\\lib\\site-packages (from pandas>=0.23.0->geopandas) (2018.9)\n",
      "Requirement already satisfied: python-dateutil>=2.5.0 in c:\\users\\theaa\\appdata\\local\\continuum\\anaconda3\\lib\\site-packages (from pandas>=0.23.0->geopandas) (2.8.0)\n",
      "Requirement already satisfied: attrs>=17 in c:\\users\\theaa\\appdata\\local\\continuum\\anaconda3\\lib\\site-packages (from fiona->geopandas) (19.1.0)\n",
      "Requirement already satisfied: click<8,>=4.0 in c:\\users\\theaa\\appdata\\local\\continuum\\anaconda3\\lib\\site-packages (from fiona->geopandas) (7.0)\n",
      "Requirement already satisfied: cligj>=0.5 in c:\\users\\theaa\\appdata\\local\\continuum\\anaconda3\\lib\\site-packages (from fiona->geopandas) (0.5.0)\n",
      "Requirement already satisfied: click-plugins>=1.0 in c:\\users\\theaa\\appdata\\local\\continuum\\anaconda3\\lib\\site-packages (from fiona->geopandas) (1.1.1)\n",
      "Requirement already satisfied: six>=1.7 in c:\\users\\theaa\\appdata\\local\\continuum\\anaconda3\\lib\\site-packages (from fiona->geopandas) (1.12.0)\n",
      "Requirement already satisfied: munch in c:\\users\\theaa\\appdata\\local\\continuum\\anaconda3\\lib\\site-packages (from fiona->geopandas) (2.5.0)\n"
     ]
    }
   ],
   "source": [
    "# Install Geopandas\n",
    "!pip install geopandas"
   ]
  },
  {
   "cell_type": "code",
   "execution_count": null,
   "metadata": {},
   "outputs": [],
   "source": [
    "# Install descartes - Geopandas requirment\n",
    "!pip install descartes"
   ]
  },
  {
   "cell_type": "markdown",
   "metadata": {},
   "source": [
    "Import libraries"
   ]
  },
  {
   "cell_type": "code",
   "execution_count": null,
   "metadata": {},
   "outputs": [],
   "source": [
    "import pandas as pd\n",
    "import geopandas as gpd\n",
    "import mapclassify\n",
    "import matplotlib.pyplot as plt\n",
    "from shapely.geometry import Point"
   ]
  },
  {
   "cell_type": "markdown",
   "metadata": {},
   "source": [
    "Set directory"
   ]
  },
  {
   "cell_type": "code",
   "execution_count": null,
   "metadata": {},
   "outputs": [],
   "source": [
    "import os"
   ]
  },
  {
   "cell_type": "code",
   "execution_count": null,
   "metadata": {},
   "outputs": [],
   "source": [
    "path = 'C:\\\\Users\\\\theaa\\\\Desktop\\\\Data Science Pedagogy Resources\\\\Python\\\\Human_Mobility_Project\\\\Human_Mobility_Project'\n",
    "os.chdir(path)"
   ]
  },
  {
   "cell_type": "markdown",
   "metadata": {},
   "source": [
    "Save the files as an object list `myfiles`"
   ]
  },
  {
   "cell_type": "code",
   "execution_count": null,
   "metadata": {},
   "outputs": [],
   "source": [
    "ls"
   ]
  },
  {
   "cell_type": "code",
   "execution_count": null,
   "metadata": {},
   "outputs": [],
   "source": [
    "data_path = path + '\\\\data\\\\raw_data'\n",
    "os.chdir(data_path)"
   ]
  },
  {
   "cell_type": "markdown",
   "metadata": {},
   "source": [
    "Unzip the data files"
   ]
  },
  {
   "cell_type": "code",
   "execution_count": null,
   "metadata": {},
   "outputs": [],
   "source": [
    "# for f in myfiles:\n",
    "#  print(\"Unzipping: \", f)\n",
    "unzip {myfiles}"
   ]
  },
  {
   "cell_type": "markdown",
   "metadata": {},
   "source": [
    "Read in country borders shapefile"
   ]
  },
  {
   "cell_type": "code",
   "execution_count": null,
   "metadata": {},
   "outputs": [],
   "source": [
    "usa1810 = gpd.read_file(\"World Country Borders/ne_50m_admin_0_countries.shp\")  #US counties in 1810"
   ]
  },
  {
   "cell_type": "markdown",
   "metadata": {},
   "source": [
    "Map out borders"
   ]
  },
  {
   "cell_type": "code",
   "execution_count": null,
   "metadata": {},
   "outputs": [],
   "source": [
    "usa1810.plot()  # it's really that simple!"
   ]
  },
  {
   "cell_type": "code",
   "execution_count": null,
   "metadata": {},
   "outputs": [],
   "source": []
  },
  {
   "cell_type": "code",
   "execution_count": null,
   "metadata": {},
   "outputs": [],
   "source": []
  }
 ],
 "metadata": {
  "kernelspec": {
   "display_name": "Python 3",
   "language": "python",
   "name": "python3"
  },
  "language_info": {
   "codemirror_mode": {
    "name": "ipython",
    "version": 3
   },
   "file_extension": ".py",
   "mimetype": "text/x-python",
   "name": "python",
   "nbconvert_exporter": "python",
   "pygments_lexer": "ipython3",
   "version": "3.7.3"
  }
 },
 "nbformat": 4,
 "nbformat_minor": 2
}
