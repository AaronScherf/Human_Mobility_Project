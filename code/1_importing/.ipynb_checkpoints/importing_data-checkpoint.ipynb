{
 "cells": [
  {
   "cell_type": "markdown",
   "metadata": {},
   "source": [
    "## Importing Data Notebook"
   ]
  },
  {
   "cell_type": "markdown",
   "metadata": {},
   "source": [
    "Code sources:\n",
    "- https://github.com/dlab-berkeley/Geospatial-Fundamentals-in-Python/blob/master/Geopandas_Intro_F2019_GC.ipynb\n",
    "- https://rasterio.readthedocs.io/en/stable/"
   ]
  },
  {
   "cell_type": "markdown",
   "metadata": {},
   "source": [
    "### Working with Geopandas (Mac)"
   ]
  },
  {
   "cell_type": "markdown",
   "metadata": {},
   "source": [
    "Geopandas works for vector data. For raster data, use rasterio (see next section).\n",
    "\n",
    "First, install Homebrew so that the `!brew install spatialindex` command  works. `spatialindex` is a dependency of `rtree`, which is a dependency of `geopandas`. To install Homebrew open a new Terminal window and enter the following command:\n",
    "\n",
    "`!ruby -e \"$(curl -fsSL https://raw.githubusercontent.com/Homebrew/install/master/install)\" < /dev/null 2> /dev/null`\n",
    "\n",
    "When it prompts for your password, type in your computer's password and press Enter. Your password won't show up typed onto the screen but is still being entered."
   ]
  },
  {
   "cell_type": "markdown",
   "metadata": {},
   "source": [
    "Install libraries:"
   ]
  },
  {
   "cell_type": "code",
   "execution_count": null,
   "metadata": {},
   "outputs": [],
   "source": [
    "# Install os\n",
    "!pip install os\n",
    "# Install zipfile\n",
    "!pip install zipfile\n",
    "# Install wget\n",
    "!pip install wget\n",
    "# Install pysal\n",
    "!pip install pysal\n",
    "# Install mapclassify\n",
    "!pip install mapclassify\n",
    "\n",
    "# Install Geopandas dependencies\n",
    "!pip install fiona \n",
    "!pip install shapely \n",
    "!pip install pyproj \n",
    "!brew install spatialindex # dependency of rtree\n",
    "!pip install rtree\n",
    "\n",
    "# Install Geopandas\n",
    "!pip install geopandas\n",
    "# Install descartes - Geopandas requirement\n",
    "!pip install descartes"
   ]
  },
  {
   "cell_type": "markdown",
   "metadata": {},
   "source": [
    "Geopandas can also be installed directly from github. This still requires installing geopandas dependencies separately (`pandas fiona shapely pyproj rtree`)\n",
    "\n",
    "To install directly from github: `!pip install git+git://github.com/geopandas/geopandas.git`"
   ]
  },
  {
   "cell_type": "markdown",
   "metadata": {},
   "source": [
    "Import libraries:"
   ]
  },
  {
   "cell_type": "code",
   "execution_count": null,
   "metadata": {},
   "outputs": [],
   "source": [
    "import os\n",
    "import zipfile\n",
    "import wget\n",
    "\n",
    "# geopandas dependencies\n",
    "import pandas as pd\n",
    "import fiona \n",
    "import shapely\n",
    "import pyproj\n",
    "import rtree\n",
    "\n",
    "import geopandas as gpd\n",
    "import mapclassify\n",
    "import matplotlib.pyplot as plt\n",
    "from shapely.geometry import Point\n",
    "from matplotlib import pyplot"
   ]
  },
  {
   "cell_type": "markdown",
   "metadata": {},
   "source": [
    "Fetch data files with `wget`"
   ]
  },
  {
   "cell_type": "code",
   "execution_count": null,
   "metadata": {},
   "outputs": [],
   "source": [
    "master = 'C:\\\\Users\\\\theaa\\\\Desktop\\\\Data Science Pedagogy Resources\\\\Python\\\\Human_Mobility_Project\\\\Human_Mobility_Project'\n",
    "\n",
    "os.chdir(master)"
   ]
  },
  {
   "cell_type": "code",
   "execution_count": null,
   "metadata": {},
   "outputs": [],
   "source": [
    "myfiles = ('TravelTime_50k.zip', \n",
    "           'World_Country_Borders.zip', \n",
    "           'PovMap_Global_Infant_Mortality.zip', \n",
    "           'val_prod.zip')"
   ]
  },
  {
   "cell_type": "code",
   "execution_count": null,
   "metadata": {},
   "outputs": [],
   "source": [
    "data_path = 'data/raw_data'"
   ]
  },
  {
   "cell_type": "code",
   "execution_count": null,
   "metadata": {},
   "outputs": [],
   "source": [
    "prefix = 'https://github.com/AaronScherf/Human_Mobility_Project/blob/master/data/raw_data/'\n",
    "\n",
    "for f in myfiles:\n",
    "    wget.download(prefix+f, out = data_path)"
   ]
  },
  {
   "cell_type": "markdown",
   "metadata": {},
   "source": [
    "Save the files as an object list `myfiles`"
   ]
  },
  {
   "cell_type": "markdown",
   "metadata": {},
   "source": [
    "Unzip the data files"
   ]
  },
  {
   "cell_type": "code",
   "execution_count": null,
   "metadata": {},
   "outputs": [],
   "source": [
    "# for f in myfiles: # works for Macs but not Windows\n",
    "#  print(\"Unzipping: \", f)\n",
    "#  !unzip {f}"
   ]
  },
  {
   "cell_type": "code",
   "execution_count": null,
   "metadata": {},
   "outputs": [],
   "source": [
    "for f in myfiles:\n",
    "    with zipfile.ZipFile(data_path+'/'+f, 'r') as zip_ref:\n",
    "        zip_ref.extractall(data_path)"
   ]
  },
  {
   "cell_type": "markdown",
   "metadata": {},
   "source": [
    "### Working with raster data\n",
    "\n",
    "References: \n",
    "- https://rasterio.readthedocs.io/en/stable/\n",
    "- https://rasterio.readthedocs.io/en/stable/quickstart.html#reading-raster-data\n",
    "\n",
    "Note that geopandas only works for vector data."
   ]
  },
  {
   "cell_type": "code",
   "execution_count": null,
   "metadata": {},
   "outputs": [],
   "source": [
    "# !pip install rasterio ## Works for Macs but not Windows"
   ]
  },
  {
   "cell_type": "code",
   "execution_count": null,
   "metadata": {},
   "outputs": [],
   "source": [
    "conda config --add channels conda-forge"
   ]
  },
  {
   "cell_type": "code",
   "execution_count": null,
   "metadata": {},
   "outputs": [],
   "source": [
    "conda install rasterio"
   ]
  },
  {
   "cell_type": "code",
   "execution_count": null,
   "metadata": {},
   "outputs": [],
   "source": [
    "import rasterio\n",
    "import rasterio.features\n",
    "import rasterio.warp"
   ]
  },
  {
   "cell_type": "markdown",
   "metadata": {},
   "source": [
    "## Step 1: Import our data"
   ]
  },
  {
   "cell_type": "markdown",
   "metadata": {},
   "source": [
    "Import the shapefile for country borders. Steps needed:\n",
    "1. Import shapefile (done)\n",
    "2. Change the bounds to only include southern Africa (to do)"
   ]
  },
  {
   "cell_type": "code",
   "execution_count": null,
   "metadata": {},
   "outputs": [],
   "source": [
    "# read in borders shapefile\n",
    "country_borders = gpd.read_file(data_path+'/'+\n",
    "                                'World_Country_Borders/ne_50m_admin_0_countries.shp') \n",
    "# visualize country borders\n",
    "country_borders.plot()"
   ]
  },
  {
   "cell_type": "markdown",
   "metadata": {},
   "source": [
    "Read in the data for variables to use in the principal component analysis."
   ]
  },
  {
   "cell_type": "code",
   "execution_count": null,
   "metadata": {},
   "outputs": [],
   "source": [
    "# travel time to nearest city with population of at least 50,000\n",
    "travel_time = rasterio.open(data_path+'/'+'TravelTime_50k/Traveltime_50k.tif')\n",
    "infant_mort = rasterio.open(data_path+'/'+'PovMap_Global_Infant_Mortality/povmap_global_subnational_infant_mortality_rates_v2.tif')\n",
    "val_prod = rasterio.open(data_path+'/'+'val_prod.tif')\n",
    "val_prod_per_hect = rasterio.open(data_path+'/'+'val_prod_per_ha.tif')"
   ]
  },
  {
   "cell_type": "markdown",
   "metadata": {},
   "source": [
    "Next step: use dataset.transform to map pixel locations. See https://rasterio.readthedocs.io/en/stable/quickstart.html#reading-raster-data"
   ]
  },
  {
   "cell_type": "code",
   "execution_count": null,
   "metadata": {},
   "outputs": [],
   "source": [
    "\n",
    "with rasterio.open(data_folder+'TravelTime_50k/Traveltime_50k.tif') as data_set:\n",
    "\n",
    "    # Read the dataset's valid data mask as a ndarray.\n",
    "    mask = data_set.dataset_mask()\n",
    "\n",
    "    # Extract feature shapes and values from the array.\n",
    "    for geom, val in rasterio.features.shapes(\n",
    "            mask, transform=data_set.transform):\n",
    "\n",
    "        # Transform shapes from the dataset's own coordinate\n",
    "        # reference system to CRS84 (EPSG:4326).\n",
    "        geom = rasterio.warp.transform_geom(\n",
    "            data_set.crs, 'EPSG:4326', geom, precision=6)\n",
    "\n",
    "        # Print GeoJSON shapes to stdout.\n",
    "        print(geom)"
   ]
  },
  {
   "cell_type": "code",
   "execution_count": null,
   "metadata": {},
   "outputs": [],
   "source": [
    "pyplot.imshow(travel_time.read(1), cmap='pink')\n",
    "\n",
    "pyplot.show()"
   ]
  },
  {
   "cell_type": "code",
   "execution_count": null,
   "metadata": {},
   "outputs": [],
   "source": [
    "pyplot.imshow(infant_mort.read(1), cmap='pink')\n",
    "\n",
    "pyplot.show()"
   ]
  },
  {
   "cell_type": "code",
   "execution_count": null,
   "metadata": {},
   "outputs": [],
   "source": [
    "pyplot.imshow(val_prod.read(1), cmap='pink')\n",
    "\n",
    "pyplot.show()"
   ]
  }
 ],
 "metadata": {
  "kernelspec": {
   "display_name": "Python 3",
   "language": "python",
   "name": "python3"
  },
  "language_info": {
   "codemirror_mode": {
    "name": "ipython",
    "version": 3
   },
   "file_extension": ".py",
   "mimetype": "text/x-python",
   "name": "python",
   "nbconvert_exporter": "python",
   "pygments_lexer": "ipython3",
   "version": "3.7.3"
  }
 },
 "nbformat": 4,
 "nbformat_minor": 2
}
