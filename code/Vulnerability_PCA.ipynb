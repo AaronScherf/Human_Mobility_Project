{
 "cells": [
  {
   "cell_type": "markdown",
   "metadata": {},
   "source": [
    "## Importing Data Notebook and Inputting User Metadata"
   ]
  },
  {
   "cell_type": "markdown",
   "metadata": {},
   "source": [
    "Code sources:\n",
    "- https://github.com/dlab-berkeley/Geospatial-Fundamentals-in-Python/blob/master/Geopandas_Intro_F2019_GC.ipynb\n",
    "- https://rasterio.readthedocs.io/en/stable/"
   ]
  },
  {
   "cell_type": "markdown",
   "metadata": {},
   "source": [
    "#### Metadata: operating system and directory"
   ]
  },
  {
   "cell_type": "markdown",
   "metadata": {},
   "source": [
    "Specify operating system:"
   ]
  },
  {
   "cell_type": "code",
   "execution_count": 1,
   "metadata": {},
   "outputs": [
    {
     "name": "stdout",
     "output_type": "stream",
     "text": [
      "What is your operating system?\n",
      "Enter w for Windows and m for Mac.w\n"
     ]
    }
   ],
   "source": [
    "# get operating system (Windows or Mac) from user\n",
    "op_user_input = input(\"What is your operating system?\\nEnter w for Windows and m for Mac.\")"
   ]
  },
  {
   "cell_type": "code",
   "execution_count": 2,
   "metadata": {},
   "outputs": [
    {
     "data": {
      "text/plain": [
       "'Windows'"
      ]
     },
     "execution_count": 2,
     "metadata": {},
     "output_type": "execute_result"
    }
   ],
   "source": [
    "# set operating system for workflow\n",
    "op_system_dict = {'w':'Windows', 'm':'Mac'}\n",
    "op_system = op_system_dict[op_user_input]\n",
    "op_system"
   ]
  },
  {
   "cell_type": "markdown",
   "metadata": {},
   "source": [
    "Set path to master directory:"
   ]
  },
  {
   "cell_type": "code",
   "execution_count": 3,
   "metadata": {},
   "outputs": [],
   "source": [
    "# Create an object containing the file path to a master folder with the following folders:\n",
    "    # code\n",
    "    # data\n",
    "        # raw_data\n",
    "        # processed_data\n",
    "        \n",
    "# Set the object `master` to your local file path of the master folder\n",
    "master = 'C:/Users/theaa/Desktop/Data Science Pedagogy Resources/Python/Human_Mobility_Project/Human_Mobility_Project'\n",
    "# master = '/Users/katewetstone/Desktop/CYPLAN 257 Data Science Human Mobility/Human_Mobility_Project'"
   ]
  },
  {
   "cell_type": "code",
   "execution_count": 4,
   "metadata": {},
   "outputs": [
    {
     "name": "stdout",
     "output_type": "stream",
     "text": [
      "Is this the correct master directory? Type Y or N\n",
      "C:/Users/theaa/Desktop/Data Science Pedagogy Resources/Python/Human_Mobility_Project/Human_Mobility_ProjectY\n"
     ]
    }
   ],
   "source": [
    "user_ans = input('Is this the correct master directory? Type Y or N\\n'+master)"
   ]
  },
  {
   "cell_type": "code",
   "execution_count": 5,
   "metadata": {},
   "outputs": [],
   "source": [
    "if user_ans == 'N':\n",
    "    master = input('Enter the correct path to the master directory')"
   ]
  },
  {
   "cell_type": "markdown",
   "metadata": {},
   "source": [
    "#### Metadata: PCA datasets and files"
   ]
  },
  {
   "cell_type": "markdown",
   "metadata": {},
   "source": [
    "Input metadata about datasets to be used in PCA. Specify the list of PCA datasets to be used and the direction of vulnerability for each in the form of a dictionary. Dictionary format: `{'dataset_zipfile_name':direction of vulnerability}`\n",
    "\n",
    "For direction of vulnerability\n",
    "- 1: higher value indicates higher vulnerability (eg. infant mortality)\n",
    "- -1: lower value indicates higher vulnerability (eg. median income)\n",
    "\n",
    "To get the direction of vulnerability for a given dataset:\n",
    "`pca_data_metadata['pca_data_name']` (eg. `pca_data_metadata['travel_time']` returns 1)"
   ]
  },
  {
   "cell_type": "code",
   "execution_count": 6,
   "metadata": {},
   "outputs": [
    {
     "name": "stdout",
     "output_type": "stream",
     "text": [
      "{'travel_time': 1, 'val_prod': -1, 'val_prod_per_ha': -1, 'night_lights': -1}\n",
      "['travel_time', 'val_prod', 'val_prod_per_ha', 'night_lights']\n"
     ]
    }
   ],
   "source": [
    "pca_data_metadata = {'travel_time':1,\n",
    "#                     'infant_mort':1,\n",
    "                    'val_prod':-1,\n",
    "                    'val_prod_per_ha':-1,\n",
    "                    'night_lights':-1}\n",
    "pca_data_names = list(pca_data_metadata.keys())\n",
    "\n",
    "print(pca_data_metadata)\n",
    "print(pca_data_names)"
   ]
  },
  {
   "cell_type": "markdown",
   "metadata": {},
   "source": [
    "Enter a list of zipfile names containing the data required for pca and for country borders:"
   ]
  },
  {
   "cell_type": "code",
   "execution_count": 7,
   "metadata": {},
   "outputs": [],
   "source": [
    "myfiles = ('TravelTime_50k.zip', \n",
    "           'World_Country_Borders.zip', \n",
    "#            'PovMap_Global_Infant_Mortality.zip', \n",
    "           'val_prod.zip',\n",
    "           'Black_Marble_SA_Reduced.zip')"
   ]
  },
  {
   "cell_type": "markdown",
   "metadata": {},
   "source": [
    "### Installing and Importing Necessary Packages"
   ]
  },
  {
   "cell_type": "markdown",
   "metadata": {},
   "source": [
    "Geopandas works for vector data. For raster data, use rasterio (see next section).\n",
    "\n",
    "First, install Homebrew so that the `!brew install spatialindex` command  works. `spatialindex` is a dependency of `rtree`, which is a dependency of `geopandas`. To install Homebrew open a new Terminal window and enter the following command:\n",
    "\n",
    "`!ruby -e \"$(curl -fsSL https://raw.githubusercontent.com/Homebrew/install/master/install)\" < /dev/null 2> /dev/null`\n",
    "\n",
    "When it prompts for your password, type in your computer's password and press Enter. Your password won't show up typed onto the screen but is still being entered."
   ]
  },
  {
   "cell_type": "code",
   "execution_count": 8,
   "metadata": {},
   "outputs": [],
   "source": [
    "# !ruby -e \"$(curl -fsSL https://raw.githubusercontent.com/Homebrew/install/master/install)\" < /dev/null 2> /dev/null"
   ]
  },
  {
   "cell_type": "markdown",
   "metadata": {},
   "source": [
    "Install libraries:"
   ]
  },
  {
   "cell_type": "code",
   "execution_count": null,
   "metadata": {},
   "outputs": [],
   "source": [
    "# get list of installed packages\n",
    "import pip\n",
    "installed_pkgs = !pip list --format freeze\n",
    "installed_pkgs = [pkg.split('==')[0] for pkg in installed_pkgs]"
   ]
  },
  {
   "cell_type": "markdown",
   "metadata": {},
   "source": [
    "# Flag: I get an error in Windows for the pip.main\n",
    "---------------------------------------------------------------------------\n",
    "AttributeError                            \n",
    "\n",
    "Traceback (most recent call last)\n",
    "\n",
    "<ipython-input-226-28c8830b5d34> in <module>\n",
    "     13 for pkg in required_pkgs:\n",
    "     14     if pkg not in installed_pkgs:\n",
    "---> 15         pip.main(['install','--user',pkg])\n",
    "     16     else:\n",
    "     17         already_installed.append(pkg)\n",
    "\n",
    "AttributeError: 'function' object has no attribute 'main'"
   ]
  },
  {
   "cell_type": "code",
   "execution_count": null,
   "metadata": {},
   "outputs": [],
   "source": [
    "# install any required packages that are not already installed\n",
    "required_pkgs = ['wget','pysal','mapclassify','geopy','seaborn',\n",
    "                'Fiona','Shapely','pyproj','spatialindex','Rtree',\n",
    "                'geopandas','descartes','affine','mercantile']\n",
    "if op_system == 'Windows':\n",
    "    required_pkgs.insert(0,'os')\n",
    "    required_pkgs.insert(0,'zipfile')\n",
    "if op_system == 'Mac':\n",
    "    required_pkgs.append('rasterio')\n",
    "\n",
    "from pip._internal import main as pip\n",
    "already_installed = []\n",
    "for pkg in required_pkgs:\n",
    "    if pkg not in installed_pkgs:\n",
    "        pip.main(['install','--user',pkg])\n",
    "    else:\n",
    "        already_installed.append(pkg)\n",
    "\n",
    "print('Required packages that were already installed:',\n",
    "      already_installed)"
   ]
  },
  {
   "cell_type": "markdown",
   "metadata": {},
   "source": [
    "Import libraries:"
   ]
  },
  {
   "cell_type": "code",
   "execution_count": 9,
   "metadata": {},
   "outputs": [],
   "source": [
    "from __future__ import division\n",
    "\n",
    "# Import os and zipfile for Windows\n",
    "import os\n",
    "import zipfile\n",
    "\n",
    "# Import wget    \n",
    "import wget\n",
    "\n",
    "# geopandas dependencies\n",
    "import pandas as pd\n",
    "import fiona \n",
    "import shapely\n",
    "import pyproj\n",
    "import rtree\n",
    "\n",
    "# Import geopandas, mapclassify, and matplotlib\n",
    "import geopandas as gpd\n",
    "import mapclassify\n",
    "import matplotlib.pyplot as plt\n",
    "from shapely.geometry import Point\n",
    "from shapely.geometry import Polygon\n",
    "from shapely.geometry import mapping\n",
    "\n",
    "# import packages necessary besides geopandas and rasterio\n",
    "from random import randint\n",
    "import numpy as np\n",
    "import math\n",
    "import warnings\n",
    "import sklearn\n",
    "from matplotlib import pyplot\n",
    "import matplotlib.pyplot as plt\n",
    "import matplotlib as mpl\n",
    "from descartes import PolygonPatch\n",
    "import geopy.distance\n",
    "import seaborn as sns"
   ]
  },
  {
   "cell_type": "markdown",
   "metadata": {},
   "source": [
    "### Importing Rasterio\n",
    "\n",
    "References: \n",
    "- https://rasterio.readthedocs.io/en/stable/\n",
    "- https://rasterio.readthedocs.io/en/stable/quickstart.html#reading-raster-data\n",
    "\n",
    "Note that geopandas only works for vector data."
   ]
  },
  {
   "cell_type": "code",
   "execution_count": 10,
   "metadata": {},
   "outputs": [],
   "source": [
    "#if op_system == 'Windows' :\n",
    "#    !conda config --add channels conda-forge\n",
    "#    !conda install rasterio"
   ]
  },
  {
   "cell_type": "code",
   "execution_count": 11,
   "metadata": {},
   "outputs": [
    {
     "name": "stdout",
     "output_type": "stream",
     "text": [
      "Requirement already satisfied: rasterio in c:\\users\\theaa\\appdata\\local\\continuum\\anaconda3\\lib\\site-packages (1.0.21)\n",
      "Requirement already satisfied: affine in c:\\users\\theaa\\appdata\\local\\continuum\\anaconda3\\lib\\site-packages (from rasterio) (2.3.0)\n",
      "Requirement already satisfied: attrs in c:\\users\\theaa\\appdata\\local\\continuum\\anaconda3\\lib\\site-packages (from rasterio) (19.1.0)\n",
      "Requirement already satisfied: click<8,>=4.0 in c:\\users\\theaa\\appdata\\local\\continuum\\anaconda3\\lib\\site-packages (from rasterio) (7.0)\n",
      "Requirement already satisfied: cligj>=0.5 in c:\\users\\theaa\\appdata\\local\\continuum\\anaconda3\\lib\\site-packages (from rasterio) (0.5.0)\n",
      "Requirement already satisfied: numpy in c:\\users\\theaa\\appdata\\local\\continuum\\anaconda3\\lib\\site-packages (from rasterio) (1.16.2)\n",
      "Requirement already satisfied: snuggs>=1.4.1 in c:\\users\\theaa\\appdata\\local\\continuum\\anaconda3\\lib\\site-packages (from rasterio) (1.4.7)\n",
      "Requirement already satisfied: click-plugins in c:\\users\\theaa\\appdata\\local\\continuum\\anaconda3\\lib\\site-packages (from rasterio) (1.1.1)\n",
      "Requirement already satisfied: pyparsing>=2.1.6 in c:\\users\\theaa\\appdata\\local\\continuum\\anaconda3\\lib\\site-packages (from snuggs>=1.4.1->rasterio) (2.3.1)\n"
     ]
    }
   ],
   "source": [
    "!pip install rasterio"
   ]
  },
  {
   "cell_type": "code",
   "execution_count": 12,
   "metadata": {},
   "outputs": [],
   "source": [
    "import rasterio\n",
    "import rasterio.features\n",
    "import rasterio.warp\n",
    "import rasterio.mask\n",
    "import rasterio.plot\n",
    "from rasterio.enums import Resampling\n",
    "from rasterio.vrt import WarpedVRT\n",
    "from rasterio.crs import CRS\n",
    "from rasterio import shutil as rio_shutil\n",
    "\n",
    "import affine\n",
    "from affine import Affine\n",
    "import mercantile"
   ]
  },
  {
   "cell_type": "markdown",
   "metadata": {},
   "source": [
    "## Fetch and Unzip Raw Data"
   ]
  },
  {
   "cell_type": "markdown",
   "metadata": {},
   "source": [
    "Fetch data files with `wget`"
   ]
  },
  {
   "cell_type": "code",
   "execution_count": 13,
   "metadata": {},
   "outputs": [],
   "source": [
    "# Set our current directory to the master folder\n",
    "os.chdir(master)"
   ]
  },
  {
   "cell_type": "markdown",
   "metadata": {},
   "source": [
    "See the list saved as `myfiles` in the metadata section:"
   ]
  },
  {
   "cell_type": "code",
   "execution_count": 14,
   "metadata": {},
   "outputs": [
    {
     "data": {
      "text/plain": [
       "('TravelTime_50k.zip',\n",
       " 'World_Country_Borders.zip',\n",
       " 'val_prod.zip',\n",
       " 'Black_Marble_SA_Reduced.zip')"
      ]
     },
     "execution_count": 14,
     "metadata": {},
     "output_type": "execute_result"
    }
   ],
   "source": [
    "myfiles"
   ]
  },
  {
   "cell_type": "code",
   "execution_count": 15,
   "metadata": {},
   "outputs": [],
   "source": [
    "data_path = 'data/raw_data'"
   ]
  },
  {
   "cell_type": "markdown",
   "metadata": {},
   "source": [
    "FLAG:\n",
    "- This was giving errors  because the folder for raw didn't exist. I made the data/raw_data folder and added a placeholder txt file that we may need to keep in there even when we dump all the other stuff (I think empty folders can't exist on github)\n",
    "- in the wget.download, I had to change the link (see below) for it to download correctly as a zipfile. before it wasn't able to recognize the files as zip files even after they downloaded"
   ]
  },
  {
   "cell_type": "code",
   "execution_count": 16,
   "metadata": {},
   "outputs": [],
   "source": [
    "prefix = 'https://github.com/AaronScherf/Southern_Africa_Data/blob/master/'\n",
    "\n",
    "for f in myfiles:\n",
    "    wget.download(prefix+f+'?raw=true', out = data_path)"
   ]
  },
  {
   "cell_type": "markdown",
   "metadata": {},
   "source": [
    "Unzip the data files"
   ]
  },
  {
   "cell_type": "code",
   "execution_count": 17,
   "metadata": {},
   "outputs": [],
   "source": [
    "for f in myfiles:\n",
    "    with zipfile.ZipFile(data_path+'/'+f, 'r') as zip_ref:\n",
    "        zip_ref.extractall(data_path)"
   ]
  },
  {
   "cell_type": "code",
   "execution_count": 18,
   "metadata": {},
   "outputs": [],
   "source": [
    "if 'CELL5M.zip' in myfiles:\n",
    "    dir_name = master + '/' + data_path + '/CELL5M/Raster'\n",
    "    extension = \".zip\"\n",
    "\n",
    "    os.chdir(dir_name) # change directory from working dir to dir with files\n",
    "\n",
    "    for item in os.listdir(dir_name): # loop through items in dir\n",
    "        if item.endswith(extension): # check for \".zip\" extension\n",
    "            file_name = os.path.abspath(item) # get full path of files\n",
    "            zip_ref = zipfile.ZipFile(file_name) # create zipfile object\n",
    "            zip_ref.extractall(dir_name) # extract file to dir\n",
    "            zip_ref.close() # close file\n",
    "            os.remove(file_name) # delete zipped file"
   ]
  },
  {
   "cell_type": "code",
   "execution_count": 19,
   "metadata": {},
   "outputs": [],
   "source": [
    "# Set our current directory to the master folder\n",
    "os.chdir(master)"
   ]
  },
  {
   "cell_type": "markdown",
   "metadata": {},
   "source": [
    "## Reading in Vector Data with GeoPandas"
   ]
  },
  {
   "cell_type": "markdown",
   "metadata": {},
   "source": [
    "Import the shapefile for country borders. Steps needed:\n",
    "1. Import shapefile (done)\n",
    "2. Change the bounds to only include southern Africa (to do)"
   ]
  },
  {
   "cell_type": "code",
   "execution_count": 20,
   "metadata": {
    "scrolled": true
   },
   "outputs": [
    {
     "data": {
      "text/plain": [
       "<matplotlib.axes._subplots.AxesSubplot at 0x20a0db37a20>"
      ]
     },
     "execution_count": 20,
     "metadata": {},
     "output_type": "execute_result"
    },
    {
     "data": {
      "image/png": "[encoded data removed]",
      "text/plain": [
       "<Figure size 432x288 with 1 Axes>"
      ]
     },
     "metadata": {
      "needs_background": "light"
     },
     "output_type": "display_data"
    }
   ],
   "source": [
    "# read in borders shapefile\n",
    "country_borders = gpd.read_file(data_path+'/'+\n",
    "                                'World_Country_Borders/ne_50m_admin_0_countries.shp') \n",
    "# visualize country borders\n",
    "country_borders.plot()"
   ]
  },
  {
   "cell_type": "code",
   "execution_count": 21,
   "metadata": {},
   "outputs": [
    {
     "name": "stdout",
     "output_type": "stream",
     "text": [
      "Country Borders CRS {'init': 'epsg:4326'}\n"
     ]
    }
   ],
   "source": [
    "print(\"Country Borders CRS\", country_borders.crs)"
   ]
  },
  {
   "cell_type": "code",
   "execution_count": 22,
   "metadata": {},
   "outputs": [
    {
     "data": {
      "text/plain": [
       "True"
      ]
     },
     "execution_count": 22,
     "metadata": {},
     "output_type": "execute_result"
    }
   ],
   "source": [
    "southern_africa_countries = ('South Africa', \n",
    "                             'Angola', \n",
    "                             'Botswana',\n",
    "                             'Lesotho',\n",
    "                             'eSwatini',\n",
    "                             'Namibia',\n",
    "                             'United Republic of Tanzania',\n",
    "                             'Zambia',\n",
    "                             'Zimbabwe',\n",
    "                             'Madagascar',\n",
    "                             'Democratic Republic of the Congo',\n",
    "                             'Mozambique',\n",
    "                             'Malawi'\n",
    "                            )\n",
    "\n",
    "sum(country_borders['ADMIN'].isin(southern_africa_countries)) == len(southern_africa_countries)"
   ]
  },
  {
   "cell_type": "code",
   "execution_count": 23,
   "metadata": {},
   "outputs": [],
   "source": [
    "southern_africa_borders = country_borders[country_borders['ADMIN'].isin(southern_africa_countries)]"
   ]
  },
  {
   "cell_type": "code",
   "execution_count": 24,
   "metadata": {},
   "outputs": [
    {
     "data": {
      "text/plain": [
       "<matplotlib.axes._subplots.AxesSubplot at 0x20a0db60048>"
      ]
     },
     "execution_count": 24,
     "metadata": {},
     "output_type": "execute_result"
    },
    {
     "data": {
      "image/png": "[encoded data removed]",
      "text/plain": [
       "<Figure size 432x288 with 1 Axes>"
      ]
     },
     "metadata": {
      "needs_background": "light"
     },
     "output_type": "display_data"
    }
   ],
   "source": [
    "southern_africa_borders.plot()"
   ]
  },
  {
   "cell_type": "code",
   "execution_count": 25,
   "metadata": {},
   "outputs": [],
   "source": [
    "if op_system == 'Windows':\n",
    "    # FLAG: aaron, check that this displays the same way within an if \n",
    "#     statement. also check command three chunks down\n",
    "    southern_africa_borders.unary_union.envelope\n",
    "elif op_system == 'Mac':\n",
    "    print(southern_africa_borders.bounds)"
   ]
  },
  {
   "cell_type": "code",
   "execution_count": 26,
   "metadata": {},
   "outputs": [],
   "source": [
    "max_lat = max(southern_africa_borders.bounds['maxx']) # right bound\n",
    "min_lat = min(southern_africa_borders.bounds['minx']) # left bound\n",
    "max_long = max(southern_africa_borders.bounds['maxy']) # top bound\n",
    "min_long = min(southern_africa_borders.bounds['miny']) # bottom bound"
   ]
  },
  {
   "cell_type": "code",
   "execution_count": 27,
   "metadata": {},
   "outputs": [],
   "source": [
    "upper_left = [min_lat,max_long]\n",
    "upper_right = [max_lat,max_long]\n",
    "lower_right = [max_lat,min_long]\n",
    "lower_left = [min_lat,min_long]"
   ]
  },
  {
   "cell_type": "code",
   "execution_count": 28,
   "metadata": {},
   "outputs": [],
   "source": [
    "if op_system == 'Windows':\n",
    "    southern_africa_borders.unary_union[1] | southern_africa_borders.unary_union[7]"
   ]
  },
  {
   "cell_type": "code",
   "execution_count": 29,
   "metadata": {},
   "outputs": [],
   "source": [
    "if op_system == 'Mac':\n",
    "    southern_africa_box = shapely.geometry.box(\n",
    "        min_lat, min_long, max_lat, max_long, ccw=True)\n",
    "elif op_system == 'Windows':\n",
    "    southern_africa_box = southern_africa_borders.unary_union.envelope"
   ]
  },
  {
   "cell_type": "markdown",
   "metadata": {},
   "source": [
    "FLAG: I changed the code for windows as well so both save the necessary object as 'southern_africa_box', so there are fewer places where we need to split mac and windows for the workflow. before, the object for windows was saved as southern_africa_box.union and border_box.union. I changed it both above and when writing to a new shapefile below.\n",
    "\n",
    "I saved a checkpoint before making the changes so they should still be accessible if it stops working for you."
   ]
  },
  {
   "cell_type": "code",
   "execution_count": 30,
   "metadata": {},
   "outputs": [],
   "source": [
    "# Define a polygon feature geometry with one attribute\n",
    "schema = {\n",
    "    'geometry': 'Polygon',\n",
    "    'properties': {'id': 'int'},\n",
    "}\n",
    "\n",
    "# Write a new Shapefile of the boundary box\n",
    "with fiona.open('data/raw_data/border_box.shp', 'w', 'ESRI Shapefile', schema) as c:\n",
    "  ## If there are multiple geometries, put the \\\"for\\\" loop here\\n\",\n",
    "    c.write({\n",
    "        'geometry': mapping(southern_africa_box),\n",
    "        'properties': {'id': 123},\n",
    "    })"
   ]
  },
  {
   "cell_type": "code",
   "execution_count": 31,
   "metadata": {},
   "outputs": [
    {
     "data": {
      "text/plain": [
       "<matplotlib.axes._subplots.AxesSubplot at 0x20a0dc785c0>"
      ]
     },
     "execution_count": 31,
     "metadata": {},
     "output_type": "execute_result"
    },
    {
     "data": {
      "image/png": "[encoded data removed]",
      "text/plain": [
       "<Figure size 432x288 with 1 Axes>"
      ]
     },
     "metadata": {
      "needs_background": "light"
     },
     "output_type": "display_data"
    }
   ],
   "source": [
    "# read in borders shapefile\n",
    "border_box = gpd.read_file(data_path+'/'+\n",
    "                                'border_box.shp') \n",
    "# visualize country borders\n",
    "border_box.plot()"
   ]
  },
  {
   "cell_type": "markdown",
   "metadata": {},
   "source": [
    "FLAG: for me, this doesn't give an outline of the countries, it just gives a rectangle. was that the case before / is that a problem?\n",
    "\n",
    "No that's the goal."
   ]
  },
  {
   "cell_type": "markdown",
   "metadata": {},
   "source": [
    "## Read in Raster Data with Rasterio"
   ]
  },
  {
   "cell_type": "markdown",
   "metadata": {},
   "source": [
    "Read in the data for variables to use in the principal component analysis."
   ]
  },
  {
   "cell_type": "markdown",
   "metadata": {},
   "source": [
    "FLAG: change the name of the zipfile to the name we want to save the saved version as (will be easier for when we incorporate data processing pipeline)"
   ]
  },
  {
   "cell_type": "code",
   "execution_count": 32,
   "metadata": {},
   "outputs": [
    {
     "data": {
      "text/plain": [
       "['travel_time', 'val_prod', 'val_prod_per_ha', 'night_lights']"
      ]
     },
     "execution_count": 32,
     "metadata": {},
     "output_type": "execute_result"
    }
   ],
   "source": [
    "# display list of datasets\n",
    "pca_data_names"
   ]
  },
  {
   "cell_type": "code",
   "execution_count": 33,
   "metadata": {},
   "outputs": [
    {
     "data": {
      "text/html": [
       "<div>\n",
       "<style scoped>\n",
       "    .dataframe tbody tr th:only-of-type {\n",
       "        vertical-align: middle;\n",
       "    }\n",
       "\n",
       "    .dataframe tbody tr th {\n",
       "        vertical-align: top;\n",
       "    }\n",
       "\n",
       "    .dataframe thead th {\n",
       "        text-align: right;\n",
       "    }\n",
       "</style>\n",
       "<table border=\"1\" class=\"dataframe\">\n",
       "  <thead>\n",
       "    <tr style=\"text-align: right;\">\n",
       "      <th></th>\n",
       "      <th>path</th>\n",
       "    </tr>\n",
       "  </thead>\n",
       "  <tbody>\n",
       "    <tr>\n",
       "      <th>travel_time</th>\n",
       "      <td>data/raw_data/TravelTime_50k/Traveltime_50k.tif</td>\n",
       "    </tr>\n",
       "    <tr>\n",
       "      <th>val_prod</th>\n",
       "      <td>data/raw_data/val_prod.tif</td>\n",
       "    </tr>\n",
       "    <tr>\n",
       "      <th>val_prod_per_ha</th>\n",
       "      <td>data/raw_data/val_prod_per_ha.tif</td>\n",
       "    </tr>\n",
       "    <tr>\n",
       "      <th>night_lights</th>\n",
       "      <td>data/raw_data/Black_Marble_SA_Reduced.tif</td>\n",
       "    </tr>\n",
       "  </tbody>\n",
       "</table>\n",
       "</div>"
      ],
      "text/plain": [
       "                                                            path\n",
       "travel_time      data/raw_data/TravelTime_50k/Traveltime_50k.tif\n",
       "val_prod                              data/raw_data/val_prod.tif\n",
       "val_prod_per_ha                data/raw_data/val_prod_per_ha.tif\n",
       "night_lights           data/raw_data/Black_Marble_SA_Reduced.tif"
      ]
     },
     "execution_count": 33,
     "metadata": {},
     "output_type": "execute_result"
    }
   ],
   "source": [
    "# Save paths for all datasets\n",
    "# FLAG: turn into a for loop once the names of paths matches \n",
    "#                   what we want them to be saved as\n",
    "Paths = list()\n",
    "Paths.append(data_path+'/'+'TravelTime_50k/Traveltime_50k.tif')\n",
    "# Paths.append(data_path+'/'+\n",
    "#             'PovMap_Global_Infant_Mortality/povmap_global_subnational_infant_mortality_rates_v2.tif')\n",
    "Paths.append(data_path+'/'+'val_prod.tif')\n",
    "Paths.append(data_path+'/'+'val_prod_per_ha.tif')\n",
    "Paths.append(data_path+'/'+'Black_Marble_SA_Reduced.tif')\n",
    "\n",
    "# Create a dataframe to store pca data through pipeline\n",
    "pca_data = pd.DataFrame({'path':Paths},\n",
    "                       index = pca_data_names)\n",
    "pca_data"
   ]
  },
  {
   "cell_type": "code",
   "execution_count": 34,
   "metadata": {},
   "outputs": [
    {
     "data": {
      "text/plain": [
       "<open DatasetReader name='data/raw_data/TravelTime_50k/Traveltime_50k.tif' mode='r'>"
      ]
     },
     "execution_count": 34,
     "metadata": {},
     "output_type": "execute_result"
    }
   ],
   "source": [
    "# Create a list with raster data\n",
    "rasters = list()\n",
    "for name in pca_data_names:\n",
    "    rasters.append(rasterio.open(pca_data.loc[name,'path']))\n",
    "\n",
    "# add as a column to the pca dataframe\n",
    "pca_data['raster'] = rasters\n",
    "\n",
    "# To access one raster data file\n",
    "pca_data.loc['travel_time','raster']"
   ]
  },
  {
   "cell_type": "code",
   "execution_count": 35,
   "metadata": {},
   "outputs": [
    {
     "data": {
      "text/plain": [
       "{'driver': 'GTiff', 'dtype': 'float32', 'nodata': -3.4028234663852886e+38, 'width': 828, 'height': 742, 'count': 1, 'crs': CRS.from_dict(init='epsg:4326'), 'transform': Affine(0.08333333333329998, 0.0, -17.499999999666578,\n",
       "       0.0, -0.0833333333333, 26.9999999998646), 'blockxsize': 128, 'blockysize': 128, 'tiled': True, 'interleave': 'band'}"
      ]
     },
     "execution_count": 35,
     "metadata": {},
     "output_type": "execute_result"
    }
   ],
   "source": [
    "# Create a list with raster metadata\n",
    "metadata = list()\n",
    "for name in pca_data_names:\n",
    "    metadata.append(pca_data.loc[name,'raster'].profile)\n",
    "    \n",
    "# add as a column to pca dataframe\n",
    "pca_data['metadata'] = metadata\n",
    "\n",
    "# To access one raster metadata file\n",
    "pca_data.loc['travel_time','metadata']"
   ]
  },
  {
   "cell_type": "code",
   "execution_count": 36,
   "metadata": {},
   "outputs": [
    {
     "data": {
      "text/plain": [
       "{'driver': 'GTiff',\n",
       " 'dtype': 'float32',\n",
       " 'nodata': -1.0,\n",
       " 'width': 4320,\n",
       " 'height': 2160,\n",
       " 'count': 1,\n",
       " 'crs': CRS.from_dict(init='epsg:4326'),\n",
       " 'transform': Affine(0.083333, 0.0, -180.0,\n",
       "        0.0, -0.083333, 90.0)}"
      ]
     },
     "execution_count": 36,
     "metadata": {},
     "output_type": "execute_result"
    }
   ],
   "source": [
    "pca_data.loc['val_prod','raster'].meta"
   ]
  },
  {
   "cell_type": "markdown",
   "metadata": {},
   "source": [
    "All datasets for PCA should use the same coordinate reference system, `EPSG:4326`."
   ]
  },
  {
   "cell_type": "code",
   "execution_count": 37,
   "metadata": {},
   "outputs": [
    {
     "data": {
      "text/plain": [
       "True"
      ]
     },
     "execution_count": 37,
     "metadata": {},
     "output_type": "execute_result"
    }
   ],
   "source": [
    "def check_crs(datasets, crs='EPSG:4326'):\n",
    "    # Checks that all datasets use the same coordinate reference system\n",
    "    # Returns true if all datasets use the crs specified\n",
    "    check = True\n",
    "    for dataset in datasets:\n",
    "        if dataset.crs != crs:\n",
    "            print(dataset.name)\n",
    "            print(dataset.crs)\n",
    "            check = False\n",
    "    return check\n",
    "\n",
    "check_crs(pca_data['raster'])"
   ]
  },
  {
   "cell_type": "code",
   "execution_count": 38,
   "metadata": {
    "scrolled": true
   },
   "outputs": [
    {
     "name": "stdout",
     "output_type": "stream",
     "text": [
      "travel_time\n"
     ]
    },
    {
     "data": {
      "image/png": "[encoded data removed]",
      "text/plain": [
       "<Figure size 432x288 with 1 Axes>"
      ]
     },
     "metadata": {
      "needs_background": "light"
     },
     "output_type": "display_data"
    },
    {
     "name": "stdout",
     "output_type": "stream",
     "text": [
      "val_prod\n"
     ]
    },
    {
     "data": {
      "image/png": "[encoded data removed]",
      "text/plain": [
       "<Figure size 432x288 with 1 Axes>"
      ]
     },
     "metadata": {
      "needs_background": "light"
     },
     "output_type": "display_data"
    },
    {
     "name": "stdout",
     "output_type": "stream",
     "text": [
      "val_prod_per_ha\n"
     ]
    },
    {
     "data": {
      "image/png": "[encoded data removed]",
      "text/plain": [
       "<Figure size 432x288 with 1 Axes>"
      ]
     },
     "metadata": {
      "needs_background": "light"
     },
     "output_type": "display_data"
    },
    {
     "name": "stdout",
     "output_type": "stream",
     "text": [
      "night_lights\n"
     ]
    },
    {
     "data": {
      "image/png": "[encoded data removed]",
      "text/plain": [
       "<Figure size 432x288 with 1 Axes>"
      ]
     },
     "metadata": {
      "needs_background": "light"
     },
     "output_type": "display_data"
    }
   ],
   "source": [
    "for name in pca_data_names:\n",
    "    print(name)\n",
    "    pyplot.imshow(pca_data.loc[name,'raster'].read(1), cmap='pink')\n",
    "    pyplot.savefig(name+'_raw.png')\n",
    "    pyplot.show()"
   ]
  },
  {
   "cell_type": "code",
   "execution_count": 39,
   "metadata": {},
   "outputs": [],
   "source": [
    "def explore_codevals(dataset_name, df):\n",
    "    df = pca_data.loc[dataset_name,df]\n",
    "    n = df.size\n",
    "    form = df.loc[:,1].dtype\n",
    "    df_mean = df.values.mean()\n",
    "    df_std = df.values.std(ddof=1)\n",
    "    min_val = df.min().min()\n",
    "    max_val = df.max().max()\n",
    "    count_na = np.count_nonzero(df.isna())\n",
    "    perc_na = round(100 * count_na / n)\n",
    "    nodata = pca_data.loc[dataset_name,'metadata']['nodata']\n",
    "    if nodata == None:\n",
    "        count_nodata = None\n",
    "        perc_nodata = None\n",
    "    else:\n",
    "        count_nodata = np.count_nonzero(df == nodata)\n",
    "        perc_nodata = round(100 * count_nodata / n)\n",
    "    count_neg = np.count_nonzero(df < 0)\n",
    "    perc_neg = round(100 * count_neg / n)\n",
    "    count_min = np.count_nonzero(df == min_val)\n",
    "    perc_min = round(100 * count_min / n)\n",
    "    \n",
    "    return pd.DataFrame([[dataset_name, form, n, df_mean, df_std, min_val, max_val, \n",
    "                         count_na, perc_na,nodata,count_nodata, perc_nodata,\n",
    "                          count_neg, perc_neg, count_min, perc_min]],\n",
    "        columns=['data','format','n','mean', 'std','min','max','count_na', 'perc_na',\n",
    "                 'nodata_code','count_nodata','perc_nodata',\n",
    "                 'count_neg','perc_neg','count_min','perc_min'])"
   ]
  },
  {
   "cell_type": "code",
   "execution_count": 69,
   "metadata": {},
   "outputs": [],
   "source": [
    "# create list of dataframes\n",
    "raw_raster_dfs = list()\n",
    "for name in pca_data_names:\n",
    "    raw_raster_dfs.append(pd.DataFrame(pca_data.loc[name,'raster'].read(1)))\n",
    "\n",
    "# add column for dfs to pca_data\n",
    "pca_data['raw_df'] = raw_raster_dfs"
   ]
  },
  {
   "cell_type": "code",
   "execution_count": 70,
   "metadata": {
    "scrolled": true
   },
   "outputs": [
    {
     "data": {
      "text/html": [
       "<div>\n",
       "<style scoped>\n",
       "    .dataframe tbody tr th:only-of-type {\n",
       "        vertical-align: middle;\n",
       "    }\n",
       "\n",
       "    .dataframe tbody tr th {\n",
       "        vertical-align: top;\n",
       "    }\n",
       "\n",
       "    .dataframe thead th {\n",
       "        text-align: right;\n",
       "    }\n",
       "</style>\n",
       "<table border=\"1\" class=\"dataframe\">\n",
       "  <thead>\n",
       "    <tr style=\"text-align: right;\">\n",
       "      <th></th>\n",
       "      <th>format</th>\n",
       "      <th>n</th>\n",
       "      <th>mean</th>\n",
       "      <th>std</th>\n",
       "      <th>min</th>\n",
       "      <th>max</th>\n",
       "      <th>count_na</th>\n",
       "      <th>perc_na</th>\n",
       "      <th>nodata_code</th>\n",
       "      <th>count_nodata</th>\n",
       "      <th>perc_nodata</th>\n",
       "      <th>count_neg</th>\n",
       "      <th>perc_neg</th>\n",
       "      <th>count_min</th>\n",
       "      <th>perc_min</th>\n",
       "    </tr>\n",
       "    <tr>\n",
       "      <th>data</th>\n",
       "      <th></th>\n",
       "      <th></th>\n",
       "      <th></th>\n",
       "      <th></th>\n",
       "      <th></th>\n",
       "      <th></th>\n",
       "      <th></th>\n",
       "      <th></th>\n",
       "      <th></th>\n",
       "      <th></th>\n",
       "      <th></th>\n",
       "      <th></th>\n",
       "      <th></th>\n",
       "      <th></th>\n",
       "      <th></th>\n",
       "    </tr>\n",
       "  </thead>\n",
       "  <tbody>\n",
       "    <tr>\n",
       "      <th>travel_time</th>\n",
       "      <td>float32</td>\n",
       "      <td>614376</td>\n",
       "      <td>-inf</td>\n",
       "      <td>inf</td>\n",
       "      <td>-3.402823e+38</td>\n",
       "      <td>8.663690e+01</td>\n",
       "      <td>0</td>\n",
       "      <td>0.0</td>\n",
       "      <td>-3.40282e+38</td>\n",
       "      <td>324039</td>\n",
       "      <td>53</td>\n",
       "      <td>324039</td>\n",
       "      <td>53.0</td>\n",
       "      <td>324039</td>\n",
       "      <td>53.0</td>\n",
       "    </tr>\n",
       "    <tr>\n",
       "      <th>val_prod</th>\n",
       "      <td>float32</td>\n",
       "      <td>9331200</td>\n",
       "      <td>1.520092e+05</td>\n",
       "      <td>1.170874e+06</td>\n",
       "      <td>-1.000000e+00</td>\n",
       "      <td>1.298283e+08</td>\n",
       "      <td>0</td>\n",
       "      <td>0.0</td>\n",
       "      <td>-1</td>\n",
       "      <td>8498296</td>\n",
       "      <td>91</td>\n",
       "      <td>8498296</td>\n",
       "      <td>91.0</td>\n",
       "      <td>8498296</td>\n",
       "      <td>91.0</td>\n",
       "    </tr>\n",
       "    <tr>\n",
       "      <th>val_prod_per_ha</th>\n",
       "      <td>float32</td>\n",
       "      <td>9331200</td>\n",
       "      <td>1.121518e+02</td>\n",
       "      <td>7.538065e+02</td>\n",
       "      <td>-1.000000e+00</td>\n",
       "      <td>3.955032e+05</td>\n",
       "      <td>0</td>\n",
       "      <td>0.0</td>\n",
       "      <td>-1</td>\n",
       "      <td>8498296</td>\n",
       "      <td>91</td>\n",
       "      <td>8498296</td>\n",
       "      <td>91.0</td>\n",
       "      <td>8498296</td>\n",
       "      <td>91.0</td>\n",
       "    </tr>\n",
       "    <tr>\n",
       "      <th>night_lights</th>\n",
       "      <td>uint8</td>\n",
       "      <td>24465315</td>\n",
       "      <td>1.159479e+01</td>\n",
       "      <td>1.645861e+01</td>\n",
       "      <td>0.000000e+00</td>\n",
       "      <td>2.500000e+02</td>\n",
       "      <td>0</td>\n",
       "      <td>0.0</td>\n",
       "      <td>None</td>\n",
       "      <td>None</td>\n",
       "      <td>None</td>\n",
       "      <td>0</td>\n",
       "      <td>0.0</td>\n",
       "      <td>12456512</td>\n",
       "      <td>51.0</td>\n",
       "    </tr>\n",
       "  </tbody>\n",
       "</table>\n",
       "</div>"
      ],
      "text/plain": [
       "                  format         n          mean           std           min  \\\n",
       "data                                                                           \n",
       "travel_time      float32    614376          -inf           inf -3.402823e+38   \n",
       "val_prod         float32   9331200  1.520092e+05  1.170874e+06 -1.000000e+00   \n",
       "val_prod_per_ha  float32   9331200  1.121518e+02  7.538065e+02 -1.000000e+00   \n",
       "night_lights       uint8  24465315  1.159479e+01  1.645861e+01  0.000000e+00   \n",
       "\n",
       "                          max  count_na  perc_na  nodata_code count_nodata  \\\n",
       "data                                                                         \n",
       "travel_time      8.663690e+01         0      0.0 -3.40282e+38       324039   \n",
       "val_prod         1.298283e+08         0      0.0           -1      8498296   \n",
       "val_prod_per_ha  3.955032e+05         0      0.0           -1      8498296   \n",
       "night_lights     2.500000e+02         0      0.0         None         None   \n",
       "\n",
       "                perc_nodata  count_neg  perc_neg  count_min  perc_min  \n",
       "data                                                                   \n",
       "travel_time              53     324039      53.0     324039      53.0  \n",
       "val_prod                 91    8498296      91.0    8498296      91.0  \n",
       "val_prod_per_ha          91    8498296      91.0    8498296      91.0  \n",
       "night_lights           None          0       0.0   12456512      51.0  "
      ]
     },
     "execution_count": 70,
     "metadata": {},
     "output_type": "execute_result"
    }
   ],
   "source": [
    "# check that it worked\n",
    "codeval_raw_df = pd.DataFrame()\n",
    "for name in pca_data_names:\n",
    "    codeval_raw_df = pd.concat([codeval_raw_df, \n",
    "                           explore_codevals(name, 'raw_df')],\n",
    "                          ignore_index=True)\n",
    "codeval_raw_df = codeval_raw_df.set_index('data')\n",
    "codeval_raw_df\n",
    "\n",
    "# Note: I get a RuntimeWarning"
   ]
  },
  {
   "cell_type": "code",
   "execution_count": 76,
   "metadata": {},
   "outputs": [],
   "source": [
    "# add column with cleaned dfs\n",
    "new_nodata_dfs = list()\n",
    "\n",
    "# replace all nodata values with -1\n",
    "for name in pca_data_names:\n",
    "    df = pca_data.loc[name,'raw_df']\n",
    "    df[df == pca_data.loc[name,'metadata']['nodata']] = -1\n",
    "    df = df.astype('float32')\n",
    "    new_nodata_dfs.append(df)\n",
    "\n",
    "# add to pca_data\n",
    "pca_data['new_nodata_dfs'] = new_nodata_dfs"
   ]
  },
  {
   "cell_type": "code",
   "execution_count": 77,
   "metadata": {},
   "outputs": [
    {
     "data": {
      "text/html": [
       "<div>\n",
       "<style scoped>\n",
       "    .dataframe tbody tr th:only-of-type {\n",
       "        vertical-align: middle;\n",
       "    }\n",
       "\n",
       "    .dataframe tbody tr th {\n",
       "        vertical-align: top;\n",
       "    }\n",
       "\n",
       "    .dataframe thead th {\n",
       "        text-align: right;\n",
       "    }\n",
       "</style>\n",
       "<table border=\"1\" class=\"dataframe\">\n",
       "  <thead>\n",
       "    <tr style=\"text-align: right;\">\n",
       "      <th></th>\n",
       "      <th>format</th>\n",
       "      <th>n</th>\n",
       "      <th>mean</th>\n",
       "      <th>std</th>\n",
       "      <th>min</th>\n",
       "      <th>max</th>\n",
       "      <th>count_na</th>\n",
       "      <th>perc_na</th>\n",
       "      <th>nodata_code</th>\n",
       "      <th>count_nodata</th>\n",
       "      <th>perc_nodata</th>\n",
       "      <th>count_neg</th>\n",
       "      <th>perc_neg</th>\n",
       "      <th>count_min</th>\n",
       "      <th>perc_min</th>\n",
       "    </tr>\n",
       "    <tr>\n",
       "      <th>data</th>\n",
       "      <th></th>\n",
       "      <th></th>\n",
       "      <th></th>\n",
       "      <th></th>\n",
       "      <th></th>\n",
       "      <th></th>\n",
       "      <th></th>\n",
       "      <th></th>\n",
       "      <th></th>\n",
       "      <th></th>\n",
       "      <th></th>\n",
       "      <th></th>\n",
       "      <th></th>\n",
       "      <th></th>\n",
       "      <th></th>\n",
       "    </tr>\n",
       "  </thead>\n",
       "  <tbody>\n",
       "    <tr>\n",
       "      <th>travel_time</th>\n",
       "      <td>float32</td>\n",
       "      <td>614376</td>\n",
       "      <td>3.446313</td>\n",
       "      <td>8.137124e+00</td>\n",
       "      <td>-1.0</td>\n",
       "      <td>8.663690e+01</td>\n",
       "      <td>0</td>\n",
       "      <td>0.0</td>\n",
       "      <td>-3.40282e+38</td>\n",
       "      <td>0</td>\n",
       "      <td>0</td>\n",
       "      <td>324039</td>\n",
       "      <td>53.0</td>\n",
       "      <td>324039</td>\n",
       "      <td>53.0</td>\n",
       "    </tr>\n",
       "    <tr>\n",
       "      <th>val_prod</th>\n",
       "      <td>float32</td>\n",
       "      <td>9331200</td>\n",
       "      <td>152009.000000</td>\n",
       "      <td>1.170877e+06</td>\n",
       "      <td>-1.0</td>\n",
       "      <td>1.298283e+08</td>\n",
       "      <td>0</td>\n",
       "      <td>0.0</td>\n",
       "      <td>-1</td>\n",
       "      <td>8498296</td>\n",
       "      <td>91</td>\n",
       "      <td>8498296</td>\n",
       "      <td>91.0</td>\n",
       "      <td>8498296</td>\n",
       "      <td>91.0</td>\n",
       "    </tr>\n",
       "    <tr>\n",
       "      <th>val_prod_per_ha</th>\n",
       "      <td>float32</td>\n",
       "      <td>9331200</td>\n",
       "      <td>112.151840</td>\n",
       "      <td>7.538068e+02</td>\n",
       "      <td>-1.0</td>\n",
       "      <td>3.955032e+05</td>\n",
       "      <td>0</td>\n",
       "      <td>0.0</td>\n",
       "      <td>-1</td>\n",
       "      <td>8498296</td>\n",
       "      <td>91</td>\n",
       "      <td>8498296</td>\n",
       "      <td>91.0</td>\n",
       "      <td>8498296</td>\n",
       "      <td>91.0</td>\n",
       "    </tr>\n",
       "    <tr>\n",
       "      <th>night_lights</th>\n",
       "      <td>float32</td>\n",
       "      <td>24465315</td>\n",
       "      <td>11.594801</td>\n",
       "      <td>1.645862e+01</td>\n",
       "      <td>0.0</td>\n",
       "      <td>2.500000e+02</td>\n",
       "      <td>0</td>\n",
       "      <td>0.0</td>\n",
       "      <td>None</td>\n",
       "      <td>None</td>\n",
       "      <td>None</td>\n",
       "      <td>0</td>\n",
       "      <td>0.0</td>\n",
       "      <td>12456512</td>\n",
       "      <td>51.0</td>\n",
       "    </tr>\n",
       "  </tbody>\n",
       "</table>\n",
       "</div>"
      ],
      "text/plain": [
       "                  format         n           mean           std  min  \\\n",
       "data                                                                   \n",
       "travel_time      float32    614376       3.446313  8.137124e+00 -1.0   \n",
       "val_prod         float32   9331200  152009.000000  1.170877e+06 -1.0   \n",
       "val_prod_per_ha  float32   9331200     112.151840  7.538068e+02 -1.0   \n",
       "night_lights     float32  24465315      11.594801  1.645862e+01  0.0   \n",
       "\n",
       "                          max  count_na  perc_na  nodata_code count_nodata  \\\n",
       "data                                                                         \n",
       "travel_time      8.663690e+01         0      0.0 -3.40282e+38            0   \n",
       "val_prod         1.298283e+08         0      0.0           -1      8498296   \n",
       "val_prod_per_ha  3.955032e+05         0      0.0           -1      8498296   \n",
       "night_lights     2.500000e+02         0      0.0         None         None   \n",
       "\n",
       "                perc_nodata  count_neg  perc_neg  count_min  perc_min  \n",
       "data                                                                   \n",
       "travel_time               0     324039      53.0     324039      53.0  \n",
       "val_prod                 91    8498296      91.0    8498296      91.0  \n",
       "val_prod_per_ha          91    8498296      91.0    8498296      91.0  \n",
       "night_lights           None          0       0.0   12456512      51.0  "
      ]
     },
     "execution_count": 77,
     "metadata": {},
     "output_type": "execute_result"
    }
   ],
   "source": [
    "# check that it worked\n",
    "codeval_nodata_df = pd.DataFrame()\n",
    "for name in pca_data_names:\n",
    "    codeval_nodata_df = pd.concat([codeval_nodata_df, \n",
    "                           explore_codevals(name, 'new_nodata_dfs')],\n",
    "                          ignore_index=True)\n",
    "codeval_nodata_df = codeval_nodata_df.set_index('data')\n",
    "codeval_nodata_df"
   ]
  },
  {
   "cell_type": "code",
   "execution_count": 78,
   "metadata": {},
   "outputs": [],
   "source": [
    "# Write new raster files with a 'nodata' metadata value of -1\n",
    "for name in pca_data_names:\n",
    "\n",
    "    with rasterio.open(pca_data.loc[name,'path']) as src:\n",
    "        out_meta = src.meta\n",
    "    \n",
    "    out_meta.update({\"driver\": \"GTiff\",\n",
    "                     \"height\": pca_data.loc[name,'metadata']['height'],\n",
    "                     \"width\": pca_data.loc[name,'metadata']['width'],\n",
    "                     \"transform\": pca_data.loc[name,'metadata']['transform'],\n",
    "                     \"dtype\": 'float32',\n",
    "                     \"nodata\": -1})\n",
    " \n",
    "    with rasterio.open(pca_data.loc[name,'path'][:-4]+'_nodata.tif', 'w', **out_meta) as dst:\n",
    "        dst.write(np.array(pca_data.loc[name,'new_nodata_dfs']), 1)"
   ]
  },
  {
   "cell_type": "code",
   "execution_count": 79,
   "metadata": {},
   "outputs": [],
   "source": [
    "# create list of processed raster data\n",
    "new_nodata_raster = list()\n",
    "for name in pca_data_names:\n",
    "    new_nodata_raster.append(rasterio.open(\n",
    "        pca_data.loc[name,'path'][:-4] + '_nodata.tif'))\n",
    "\n",
    "# add column for masked data to dataframe\n",
    "pca_data['new_nodata_raster'] = new_nodata_raster"
   ]
  },
  {
   "cell_type": "code",
   "execution_count": 80,
   "metadata": {},
   "outputs": [],
   "source": [
    "for name in pca_data_names:\n",
    "    pca_data.loc[name,'new_nodata_path'] = pca_data.loc[name,'path'][:-4] + '_nodata.tif'"
   ]
  },
  {
   "cell_type": "code",
   "execution_count": 82,
   "metadata": {},
   "outputs": [
    {
     "data": {
      "text/plain": [
       "{'driver': 'GTiff',\n",
       " 'dtype': 'uint8',\n",
       " 'nodata': 0.0,\n",
       " 'width': 5683,\n",
       " 'height': 4305,\n",
       " 'count': 4,\n",
       " 'crs': CRS.from_dict(init='epsg:4326'),\n",
       " 'transform': Affine(0.00833333333327468, 0.0, 6.279166667,\n",
       "        0.0, -0.008333333333333333, 0.0625)}"
      ]
     },
     "execution_count": 82,
     "metadata": {},
     "output_type": "execute_result"
    }
   ],
   "source": [
    "# To access one raster data file\n",
    "pca_data.loc['night_lights','new_nodata_raster'].meta"
   ]
  },
  {
   "cell_type": "code",
   "execution_count": 83,
   "metadata": {},
   "outputs": [
    {
     "name": "stdout",
     "output_type": "stream",
     "text": [
      "travel_time\n"
     ]
    },
    {
     "data": {
      "image/png": "[encoded data removed]",
      "text/plain": [
       "<Figure size 432x288 with 1 Axes>"
      ]
     },
     "metadata": {
      "needs_background": "light"
     },
     "output_type": "display_data"
    },
    {
     "name": "stdout",
     "output_type": "stream",
     "text": [
      "val_prod\n"
     ]
    },
    {
     "data": {
      "image/png": "[encoded data removed]",
      "text/plain": [
       "<Figure size 432x288 with 1 Axes>"
      ]
     },
     "metadata": {
      "needs_background": "light"
     },
     "output_type": "display_data"
    },
    {
     "name": "stdout",
     "output_type": "stream",
     "text": [
      "val_prod_per_ha\n"
     ]
    },
    {
     "data": {
      "image/png": "[encoded data removed]",
      "text/plain": [
       "<Figure size 432x288 with 1 Axes>"
      ]
     },
     "metadata": {
      "needs_background": "light"
     },
     "output_type": "display_data"
    },
    {
     "name": "stdout",
     "output_type": "stream",
     "text": [
      "night_lights\n"
     ]
    },
    {
     "data": {
      "image/png": "[encoded data removed]",
      "text/plain": [
       "<Figure size 432x288 with 1 Axes>"
      ]
     },
     "metadata": {
      "needs_background": "light"
     },
     "output_type": "display_data"
    }
   ],
   "source": [
    "for name in pca_data_names:\n",
    "    print(name)\n",
    "    pyplot.imshow(pca_data.loc[name,'new_nodata_raster'].read(1), cmap='pink')\n",
    "    pyplot.savefig(name+'_new_nodata.png')\n",
    "    pyplot.show()"
   ]
  },
  {
   "cell_type": "markdown",
   "metadata": {},
   "source": [
    "## Warping Rasters into the Same Resolution and CRS"
   ]
  },
  {
   "cell_type": "code",
   "execution_count": 84,
   "metadata": {},
   "outputs": [
    {
     "data": {
      "text/html": [
       "<div>\n",
       "<style scoped>\n",
       "    .dataframe tbody tr th:only-of-type {\n",
       "        vertical-align: middle;\n",
       "    }\n",
       "\n",
       "    .dataframe tbody tr th {\n",
       "        vertical-align: top;\n",
       "    }\n",
       "\n",
       "    .dataframe thead th {\n",
       "        text-align: right;\n",
       "    }\n",
       "</style>\n",
       "<table border=\"1\" class=\"dataframe\">\n",
       "  <thead>\n",
       "    <tr style=\"text-align: right;\">\n",
       "      <th></th>\n",
       "      <th>minx</th>\n",
       "      <th>miny</th>\n",
       "      <th>maxx</th>\n",
       "      <th>maxy</th>\n",
       "    </tr>\n",
       "  </thead>\n",
       "  <tbody>\n",
       "    <tr>\n",
       "      <th>0</th>\n",
       "      <td>-17.500000</td>\n",
       "      <td>-34.833333</td>\n",
       "      <td>51.500000</td>\n",
       "      <td>27.000000</td>\n",
       "    </tr>\n",
       "    <tr>\n",
       "      <th>1</th>\n",
       "      <td>-180.000000</td>\n",
       "      <td>-89.999280</td>\n",
       "      <td>179.998560</td>\n",
       "      <td>90.000000</td>\n",
       "    </tr>\n",
       "    <tr>\n",
       "      <th>2</th>\n",
       "      <td>-180.000000</td>\n",
       "      <td>-89.999280</td>\n",
       "      <td>179.998560</td>\n",
       "      <td>90.000000</td>\n",
       "    </tr>\n",
       "    <tr>\n",
       "      <th>3</th>\n",
       "      <td>6.279167</td>\n",
       "      <td>-35.812500</td>\n",
       "      <td>53.637500</td>\n",
       "      <td>0.062500</td>\n",
       "    </tr>\n",
       "    <tr>\n",
       "      <th>4</th>\n",
       "      <td>11.721680</td>\n",
       "      <td>-46.962891</td>\n",
       "      <td>50.482715</td>\n",
       "      <td>5.312109</td>\n",
       "    </tr>\n",
       "  </tbody>\n",
       "</table>\n",
       "</div>"
      ],
      "text/plain": [
       "         minx       miny        maxx       maxy\n",
       "0  -17.500000 -34.833333   51.500000  27.000000\n",
       "1 -180.000000 -89.999280  179.998560  90.000000\n",
       "2 -180.000000 -89.999280  179.998560  90.000000\n",
       "3    6.279167 -35.812500   53.637500   0.062500\n",
       "4   11.721680 -46.962891   50.482715   5.312109"
      ]
     },
     "execution_count": 84,
     "metadata": {},
     "output_type": "execute_result"
    }
   ],
   "source": [
    "bounds = list()\n",
    "for name in pca_data_names:\n",
    "    bounds.append(list(pca_data.loc[name,'raster'].bounds))\n",
    "bounds.append(list(border_box.bounds.iloc[0,:]))\n",
    "bounds = pd.DataFrame(bounds, columns = ('minx','miny','maxx','maxy'))\n",
    "bounds"
   ]
  },
  {
   "cell_type": "code",
   "execution_count": 85,
   "metadata": {},
   "outputs": [
    {
     "data": {
      "text/plain": [
       "(11.7216796875, -34.833333333443996, 50.48271484375002, 0.0625)"
      ]
     },
     "execution_count": 85,
     "metadata": {},
     "output_type": "execute_result"
    }
   ],
   "source": [
    "# Find the intersection of all raster and boundary files\n",
    "# NOTE: May not work in other hemisphere quadrants\n",
    "inter_bounds = (bounds.iloc[:,0].max(),\n",
    "                bounds.iloc[:,1].max(),\n",
    "                bounds.iloc[:,2].min(),\n",
    "                bounds.iloc[:,3].min())\n",
    "inter_bounds"
   ]
  },
  {
   "cell_type": "code",
   "execution_count": 86,
   "metadata": {},
   "outputs": [
    {
     "name": "stdout",
     "output_type": "stream",
     "text": [
      "4298.244862722446 3801.5866129953497\n"
     ]
    }
   ],
   "source": [
    "input_files = (pca_data['new_nodata_path'])\n",
    "\n",
    "# Destination CRS\n",
    "dst_crs = CRS.from_epsg(4326)\n",
    "\n",
    "# These coordiantes are in Web Mercator\n",
    "dst_bounds = inter_bounds\n",
    "\n",
    "# Output image dimensions\n",
    "\n",
    "bottom_left = (inter_bounds[0], inter_bounds[1]) \n",
    "bottom_right = (inter_bounds[2], inter_bounds[1])\n",
    "\n",
    "dst_width = geopy.distance.distance(bottom_left, bottom_right).km\n",
    "\n",
    "top_left = (inter_bounds[0],inter_bounds[3])\n",
    "\n",
    "dst_height = geopy.distance.distance(top_left, bottom_left).km\n",
    "\n",
    "print(dst_width, dst_height)\n",
    "\n",
    "# Output image transform\n",
    "left, bottom, right, top = dst_bounds\n",
    "xres = (right - left) / dst_width\n",
    "yres = (top - bottom) / dst_height\n",
    "dst_transform = affine.Affine(xres, 0.0, left,\n",
    "                              0.0, -yres, top)\n",
    "\n",
    "vrt_options = {\n",
    "    'resampling': Resampling.cubic,\n",
    "    'crs': dst_crs,\n",
    "    'transform': dst_transform,\n",
    "    'height': dst_height,\n",
    "    'width': dst_width,\n",
    "    'nodata': -1,\n",
    "    'dtype': 'float32'\n",
    "}\n",
    "\n",
    "for path in input_files:\n",
    "\n",
    "    with rasterio.open(path) as src:\n",
    "\n",
    "        with WarpedVRT(src, **vrt_options) as vrt:\n",
    "\n",
    "            # At this point 'vrt' is a full dataset with dimensions,\n",
    "            # CRS, and spatial extent matching 'vrt_options'.\n",
    "\n",
    "            # Read all data into memory.\n",
    "            data = vrt.read()\n",
    "\n",
    "            # Process the dataset in chunks.  Likely not very efficient.\n",
    "            for _, window in vrt.block_windows():\n",
    "                data = vrt.read(window=window)\n",
    "\n",
    "            # Dump the aligned data into a new file.  A VRT representing\n",
    "            # this transformation can also be produced by switching\n",
    "            # to the VRT driver.\n",
    "            directory, name = os.path.split(path)\n",
    "            outfile = os.path.join(directory, 'aligned_{}'.format(name))\n",
    "            rio_shutil.copy(vrt, outfile, driver='GTiff')"
   ]
  },
  {
   "cell_type": "code",
   "execution_count": 87,
   "metadata": {},
   "outputs": [],
   "source": [
    "for file in pca_data_names:\n",
    "    directory, name = os.path.split(pca_data.loc[file,'new_nodata_path'])\n",
    "    pca_data.loc[file,'aligned_path'] = os.path.join(directory, 'aligned_{}'.format(name))"
   ]
  },
  {
   "cell_type": "code",
   "execution_count": 88,
   "metadata": {},
   "outputs": [
    {
     "data": {
      "text/plain": [
       "<open DatasetReader name='data/raw_data/TravelTime_50k\\aligned_Traveltime_50k_nodata.tif' mode='r'>"
      ]
     },
     "execution_count": 88,
     "metadata": {},
     "output_type": "execute_result"
    }
   ],
   "source": [
    "# Create a list with raster data\n",
    "al_rasters = list()\n",
    "for name in pca_data_names:\n",
    "    al_rasters.append(rasterio.open(pca_data.loc[name,'aligned_path']))\n",
    "\n",
    "# add as a column to the pca dataframe\n",
    "pca_data['al_raster'] = al_rasters\n",
    "\n",
    "pca_data.loc['travel_time','al_raster']"
   ]
  },
  {
   "cell_type": "code",
   "execution_count": 89,
   "metadata": {},
   "outputs": [
    {
     "name": "stdout",
     "output_type": "stream",
     "text": [
      "BoundingBox(left=11.7216796875, bottom=-34.82794864767964, right=50.48050670231176, top=0.0625)\n",
      "BoundingBox(left=11.7216796875, bottom=-34.82794864767964, right=50.48050670231176, top=0.0625)\n",
      "BoundingBox(left=11.7216796875, bottom=-34.82794864767964, right=50.48050670231176, top=0.0625)\n",
      "BoundingBox(left=11.7216796875, bottom=-34.82794864767964, right=50.48050670231176, top=0.0625)\n"
     ]
    }
   ],
   "source": [
    "for name in pca_data_names:\n",
    "    print(pca_data.loc[name,'al_raster'].bounds)"
   ]
  },
  {
   "cell_type": "code",
   "execution_count": 91,
   "metadata": {},
   "outputs": [
    {
     "data": {
      "text/plain": [
       "{'driver': 'GTiff',\n",
       " 'dtype': 'uint8',\n",
       " 'nodata': 0.0,\n",
       " 'width': 4298,\n",
       " 'height': 3801,\n",
       " 'count': 4,\n",
       " 'crs': CRS.from_dict(init='epsg:4326'),\n",
       " 'transform': Affine(0.009017875061612786, 0.0, 11.7216796875,\n",
       "        0.0, -0.009179281412175649, 0.0625)}"
      ]
     },
     "execution_count": 91,
     "metadata": {},
     "output_type": "execute_result"
    }
   ],
   "source": [
    "pca_data.loc['night_lights','al_raster'].meta"
   ]
  },
  {
   "cell_type": "code",
   "execution_count": 90,
   "metadata": {},
   "outputs": [
    {
     "name": "stdout",
     "output_type": "stream",
     "text": [
      "travel_time\n"
     ]
    },
    {
     "data": {
      "image/png": "[encoded data removed]",
      "text/plain": [
       "<Figure size 432x288 with 1 Axes>"
      ]
     },
     "metadata": {
      "needs_background": "light"
     },
     "output_type": "display_data"
    },
    {
     "name": "stdout",
     "output_type": "stream",
     "text": [
      "val_prod\n"
     ]
    },
    {
     "data": {
      "image/png": "[encoded data removed]",
      "text/plain": [
       "<Figure size 432x288 with 1 Axes>"
      ]
     },
     "metadata": {
      "needs_background": "light"
     },
     "output_type": "display_data"
    },
    {
     "name": "stdout",
     "output_type": "stream",
     "text": [
      "val_prod_per_ha\n"
     ]
    },
    {
     "data": {
      "image/png": "[encoded data removed]",
      "text/plain": [
       "<Figure size 432x288 with 1 Axes>"
      ]
     },
     "metadata": {
      "needs_background": "light"
     },
     "output_type": "display_data"
    },
    {
     "name": "stdout",
     "output_type": "stream",
     "text": [
      "night_lights\n"
     ]
    },
    {
     "data": {
      "image/png": "[encoded data removed]",
      "text/plain": [
       "<Figure size 432x288 with 1 Axes>"
      ]
     },
     "metadata": {
      "needs_background": "light"
     },
     "output_type": "display_data"
    }
   ],
   "source": [
    "for name in pca_data_names:\n",
    "    print(name)\n",
    "    pyplot.imshow(pca_data.loc[name,'al_raster'].read(1), cmap='pink')\n",
    "    pyplot.savefig(name+'_aligned.png')\n",
    "    pyplot.show()"
   ]
  },
  {
   "cell_type": "markdown",
   "metadata": {},
   "source": [
    "### Masking the Outline of Southern Africa from Raster files using Shapefile Boundaries"
   ]
  },
  {
   "cell_type": "markdown",
   "metadata": {},
   "source": [
    "Code Source: \n",
    "Clipping Shapefile Vectors - https://www.earthdatascience.org/courses/earth-analytics-python/spatial-data-vector-shapefiles/clip-vector-data-in-python-geopandas-shapely/\n",
    "\n",
    "Masking Rasters using Vector Geometry - https://rasterio.readthedocs.io/en/stable/topics/masking-by-shapefile.html"
   ]
  },
  {
   "cell_type": "code",
   "execution_count": null,
   "metadata": {},
   "outputs": [],
   "source": [
    "'''\n",
    "# for raster in raster_data_paths:\n",
    "for raster in pca_data['aligned_path']:\n",
    "\n",
    "    with fiona.open(\"data/raw_data/border_box.shp\", \"r\") as shapefile:\n",
    "        shapes = [feature[\"geometry\"] for feature in shapefile]\n",
    "\n",
    "    with rasterio.open(raster) as src:\n",
    "        out_image, out_transform = rasterio.mask.mask(src, shapes, crop=True)\n",
    "        out_meta = src.meta\n",
    "    \n",
    "    out_meta.update({\"driver\": \"GTiff\",\n",
    "                     \"height\": out_image.shape[1],\n",
    "                     \"width\": out_image.shape[2],\n",
    "                     \"transform\": out_transform})\n",
    "\n",
    "    with rasterio.open(str(raster[:-4]) + '_mask.tif', \"w\", **out_meta) as dest:\n",
    "        dest.write(out_image)\n",
    "'''"
   ]
  },
  {
   "cell_type": "code",
   "execution_count": null,
   "metadata": {},
   "outputs": [],
   "source": [
    "'''\n",
    "# create list of masked data\n",
    "Masked = list()\n",
    "for name in pca_data_names:\n",
    "    Masked.append(rasterio.open(\n",
    "        pca_data.loc[name,'aligned_path'][:-4] + '_mask.tif'))\n",
    "\n",
    "# add column for masked data to dataframe\n",
    "pca_data['masked'] = Masked\n",
    "'''"
   ]
  },
  {
   "cell_type": "code",
   "execution_count": 57,
   "metadata": {},
   "outputs": [],
   "source": [
    "# create list of dataframes\n",
    "raster_dfs = list()\n",
    "for name in pca_data_names:\n",
    "    raster_dfs.append(pd.DataFrame(pca_data.loc[name,'al_raster'].read(1)))\n",
    "\n",
    "# add column for dfs to pca_data\n",
    "pca_data['df'] = raster_dfs"
   ]
  },
  {
   "cell_type": "code",
   "execution_count": 58,
   "metadata": {},
   "outputs": [
    {
     "data": {
      "text/plain": [
       "True"
      ]
     },
     "execution_count": 58,
     "metadata": {},
     "output_type": "execute_result"
    }
   ],
   "source": [
    "# Check that all raster masks have same shape\n",
    "shapes = list()\n",
    "for name in pca_data_names:\n",
    "    shapes.append(list(pca_data.loc[name,'df'].shape))\n",
    "\n",
    "len(np.unique(shapes)) == 2"
   ]
  },
  {
   "cell_type": "code",
   "execution_count": 60,
   "metadata": {},
   "outputs": [
    {
     "data": {
      "text/plain": [
       "True"
      ]
     },
     "execution_count": 60,
     "metadata": {},
     "output_type": "execute_result"
    }
   ],
   "source": [
    "# Check that top left cell is identical for all transformed rasters\n",
    "top_left = list()\n",
    "for name in pca_data_names:\n",
    "    top_left.append(pca_data.loc[name,'al_raster'].transform * (0,0))\n",
    "\n",
    "# Confirm that top left pixel is the same for all rasters\n",
    "top_left=np.array(top_left)\n",
    "len(np.unique(top_left)) == 2"
   ]
  },
  {
   "cell_type": "markdown",
   "metadata": {},
   "source": [
    "Note: Which of the data forms do we need to save and access? If there's ones that are just an intermediate step and we won't use later, we don't have to add them as columns to the data frame (or we can delete the column after we use it)\n",
    "\n",
    "AS: Response: I think the DataFrame version of the first band is the only thing we will need for PCA. Keeping the raster files and bands could be helpful for plotting later though. So we should only have one column per variable type for the final PCA dataframe.\n",
    "\n",
    "We still need to figure out how to convert the PCA-ready dataframe back into a map though so we can visualize the end result.\n",
    "\n",
    "KW: Ok I'll keep the raster, masked, and df in the pca_data dataframe for us to reference. the df version is the only one I'll put into the actual PCA dataframe"
   ]
  },
  {
   "cell_type": "markdown",
   "metadata": {},
   "source": [
    "### Address missing and placeholder values"
   ]
  },
  {
   "cell_type": "markdown",
   "metadata": {},
   "source": [
    "Use each dataset's README file to standardize treatment of missing and placeholder (ie. ocean) values across datasets. Replace all missing values with NaN."
   ]
  },
  {
   "cell_type": "code",
   "execution_count": 61,
   "metadata": {},
   "outputs": [],
   "source": [
    "codeval_df = pd.DataFrame()\n",
    "for name in pca_data_names:\n",
    "    codeval_df = pd.concat([codeval_df, \n",
    "                           explore_codevals(name, 'df')],\n",
    "                          ignore_index=True)\n",
    "codeval_df = codeval_df.set_index('data')"
   ]
  },
  {
   "cell_type": "code",
   "execution_count": 62,
   "metadata": {},
   "outputs": [
    {
     "data": {
      "text/html": [
       "<div>\n",
       "<style scoped>\n",
       "    .dataframe tbody tr th:only-of-type {\n",
       "        vertical-align: middle;\n",
       "    }\n",
       "\n",
       "    .dataframe tbody tr th {\n",
       "        vertical-align: top;\n",
       "    }\n",
       "\n",
       "    .dataframe thead th {\n",
       "        text-align: right;\n",
       "    }\n",
       "</style>\n",
       "<table border=\"1\" class=\"dataframe\">\n",
       "  <thead>\n",
       "    <tr style=\"text-align: right;\">\n",
       "      <th></th>\n",
       "      <th>format</th>\n",
       "      <th>n</th>\n",
       "      <th>mean</th>\n",
       "      <th>std</th>\n",
       "      <th>min</th>\n",
       "      <th>max</th>\n",
       "      <th>count_na</th>\n",
       "      <th>perc_na</th>\n",
       "      <th>nodata_code</th>\n",
       "      <th>count_nodata</th>\n",
       "      <th>perc_nodata</th>\n",
       "      <th>count_neg</th>\n",
       "      <th>perc_neg</th>\n",
       "      <th>count_min</th>\n",
       "      <th>perc_min</th>\n",
       "    </tr>\n",
       "    <tr>\n",
       "      <th>data</th>\n",
       "      <th></th>\n",
       "      <th></th>\n",
       "      <th></th>\n",
       "      <th></th>\n",
       "      <th></th>\n",
       "      <th></th>\n",
       "      <th></th>\n",
       "      <th></th>\n",
       "      <th></th>\n",
       "      <th></th>\n",
       "      <th></th>\n",
       "      <th></th>\n",
       "      <th></th>\n",
       "      <th></th>\n",
       "      <th></th>\n",
       "    </tr>\n",
       "  </thead>\n",
       "  <tbody>\n",
       "    <tr>\n",
       "      <th>travel_time</th>\n",
       "      <td>float32</td>\n",
       "      <td>16336698</td>\n",
       "      <td>3.825561</td>\n",
       "      <td>4.970743</td>\n",
       "      <td>-1.206622e-01</td>\n",
       "      <td>5.185215e+01</td>\n",
       "      <td>0</td>\n",
       "      <td>0.0</td>\n",
       "      <td>-3.40282e+38</td>\n",
       "      <td>0</td>\n",
       "      <td>0</td>\n",
       "      <td>144</td>\n",
       "      <td>0.0</td>\n",
       "      <td>1</td>\n",
       "      <td>0.0</td>\n",
       "    </tr>\n",
       "    <tr>\n",
       "      <th>val_prod</th>\n",
       "      <td>float32</td>\n",
       "      <td>16336698</td>\n",
       "      <td>183381.500000</td>\n",
       "      <td>782545.437500</td>\n",
       "      <td>-3.228578e+06</td>\n",
       "      <td>4.961110e+07</td>\n",
       "      <td>0</td>\n",
       "      <td>0.0</td>\n",
       "      <td>-1</td>\n",
       "      <td>0</td>\n",
       "      <td>0</td>\n",
       "      <td>36084</td>\n",
       "      <td>0.0</td>\n",
       "      <td>1</td>\n",
       "      <td>0.0</td>\n",
       "    </tr>\n",
       "    <tr>\n",
       "      <th>val_prod_per_ha</th>\n",
       "      <td>float32</td>\n",
       "      <td>16336698</td>\n",
       "      <td>264.882111</td>\n",
       "      <td>646.538330</td>\n",
       "      <td>-5.680455e+02</td>\n",
       "      <td>1.831449e+04</td>\n",
       "      <td>0</td>\n",
       "      <td>0.0</td>\n",
       "      <td>-1</td>\n",
       "      <td>0</td>\n",
       "      <td>0</td>\n",
       "      <td>3281</td>\n",
       "      <td>0.0</td>\n",
       "      <td>1</td>\n",
       "      <td>0.0</td>\n",
       "    </tr>\n",
       "    <tr>\n",
       "      <th>night_lights</th>\n",
       "      <td>uint8</td>\n",
       "      <td>16336698</td>\n",
       "      <td>0.000000</td>\n",
       "      <td>0.000000</td>\n",
       "      <td>0.000000e+00</td>\n",
       "      <td>0.000000e+00</td>\n",
       "      <td>0</td>\n",
       "      <td>0.0</td>\n",
       "      <td>None</td>\n",
       "      <td>None</td>\n",
       "      <td>None</td>\n",
       "      <td>0</td>\n",
       "      <td>0.0</td>\n",
       "      <td>16336698</td>\n",
       "      <td>100.0</td>\n",
       "    </tr>\n",
       "  </tbody>\n",
       "</table>\n",
       "</div>"
      ],
      "text/plain": [
       "                  format         n           mean            std  \\\n",
       "data                                                               \n",
       "travel_time      float32  16336698       3.825561       4.970743   \n",
       "val_prod         float32  16336698  183381.500000  782545.437500   \n",
       "val_prod_per_ha  float32  16336698     264.882111     646.538330   \n",
       "night_lights       uint8  16336698       0.000000       0.000000   \n",
       "\n",
       "                          min           max  count_na  perc_na  nodata_code  \\\n",
       "data                                                                          \n",
       "travel_time     -1.206622e-01  5.185215e+01         0      0.0 -3.40282e+38   \n",
       "val_prod        -3.228578e+06  4.961110e+07         0      0.0           -1   \n",
       "val_prod_per_ha -5.680455e+02  1.831449e+04         0      0.0           -1   \n",
       "night_lights     0.000000e+00  0.000000e+00         0      0.0         None   \n",
       "\n",
       "                count_nodata perc_nodata  count_neg  perc_neg  count_min  \\\n",
       "data                                                                       \n",
       "travel_time                0           0        144       0.0          1   \n",
       "val_prod                   0           0      36084       0.0          1   \n",
       "val_prod_per_ha            0           0       3281       0.0          1   \n",
       "night_lights            None        None          0       0.0   16336698   \n",
       "\n",
       "                 perc_min  \n",
       "data                       \n",
       "travel_time           0.0  \n",
       "val_prod              0.0  \n",
       "val_prod_per_ha       0.0  \n",
       "night_lights        100.0  "
      ]
     },
     "execution_count": 62,
     "metadata": {},
     "output_type": "execute_result"
    }
   ],
   "source": [
    "codeval_df"
   ]
  },
  {
   "cell_type": "markdown",
   "metadata": {},
   "source": [
    "Explore the negative values that are not equal to the minimum or to the metadata entry for \"nodata\" "
   ]
  },
  {
   "cell_type": "code",
   "execution_count": null,
   "metadata": {},
   "outputs": [],
   "source": [
    "name = 'travel_time'\n",
    "df = pca_data.loc[name,'df']\n",
    "nodata = pca_data.loc[name,'metadata']['nodata']\n",
    "negvals = df.values # .ravel() for 1-d list\n",
    "negvals = negvals[(negvals < 0) & (negvals != nodata)]\n",
    "print(len(negvals.ravel()))\n",
    "\n",
    "# show the values for all entries that aren't the minimum / \n",
    "# code entry for no data, but are still negative\n",
    "sns.stripplot(x=negvals.ravel(), jitter=True);\n",
    "plt.title(name);"
   ]
  },
  {
   "cell_type": "code",
   "execution_count": null,
   "metadata": {},
   "outputs": [],
   "source": [
    "name = 'val_prod'\n",
    "df = pca_data.loc[name,'df']\n",
    "nodata = pca_data.loc[name,'metadata']['nodata']\n",
    "negvals = df.values # .ravel() for 1-d list\n",
    "negvals = negvals[(negvals < 0) & (negvals != nodata)]\n",
    "print(len(negvals.ravel())) # right length based on codevals_df\n",
    "print(len(df.values[df == nodata].ravel()))\n",
    "\n",
    "# show the values for all entries that aren't the minimum / \n",
    "# code entry for no data, but are still negative\n",
    "sns.stripplot(x=negvals.ravel(), jitter=True);\n",
    "plt.title(name);"
   ]
  },
  {
   "cell_type": "code",
   "execution_count": null,
   "metadata": {},
   "outputs": [],
   "source": [
    "name = 'val_prod_per_ha'\n",
    "df = pca_data.loc[name,'df']\n",
    "nodata = pca_data.loc[name,'metadata']['nodata']\n",
    "negvals = df.values # .ravel() for 1-d list\n",
    "negvals = negvals[(negvals < 0) & (negvals != nodata)]\n",
    "print(len(negvals.ravel())) # right length based on codevals_df\n",
    "print(len(df.values[df == nodata].ravel()))\n",
    "\n",
    "# show the values for all entries that aren't the minimum / \n",
    "# code entry for no data, but are still negative\n",
    "sns.stripplot(x=negvals.ravel(), jitter=True);\n",
    "plt.title(name);"
   ]
  },
  {
   "cell_type": "markdown",
   "metadata": {},
   "source": [
    "Notes about file-specific value coding:\n",
    "- So far, no datasets have NA values\n",
    "- At one point for every dataset, there were no other negative values besides the minimum. This is no longer true. However, none of the datasets included should have any negative values, so replacing all negative values with 0 is still likely to work.\n",
    "- Datasets should definitely be normalized before PCA (there is a big range in the max values).\n",
    "- `night_lights` already has 0 filled in for missing values\n",
    "- According to the metadata, the missing values for val_prod and val_prod_per_ha are coded at -1.0.\n",
    "\n",
    "In each dataset, we will probably be able to just replace all of the negative values with whatever missing placeholder we want to use. \n",
    "\n",
    "The difference in number of negative values is not just due to granularity/pixel size - the percentage of negative values is different, so datasets are missing data for different areas."
   ]
  },
  {
   "cell_type": "markdown",
   "metadata": {},
   "source": [
    "# Flag: Normalize or standardize data?\n"
   ]
  },
  {
   "cell_type": "code",
   "execution_count": null,
   "metadata": {},
   "outputs": [],
   "source": [
    "for name in pca_data_names:\n",
    "    print(name)\n",
    "    print(pca_data.loc[name,'metadata'])"
   ]
  },
  {
   "cell_type": "code",
   "execution_count": null,
   "metadata": {},
   "outputs": [],
   "source": [
    "pca_data.loc['night_lights','metadata']['dtype']"
   ]
  },
  {
   "cell_type": "code",
   "execution_count": null,
   "metadata": {},
   "outputs": [],
   "source": [
    "# add column with cleaned dfs\n",
    "cleaned_dfs = list()\n",
    "\n",
    "# replace all negative values with 0 and normalize values\n",
    "for name in pca_data_names:\n",
    "    df = pca_data.loc[name,'df']\n",
    "    df[df < 0] = 0\n",
    "#    df = df.replace(codeval_df.loc[name,'min'], 0)\n",
    "#    df = df.apply(pd.to_numeric)\n",
    "    df = df.astype(pca_data.loc[name,'metadata']['dtype'])\n",
    "    df = (df - df.values.mean()) / df.values.std(ddof=1)\n",
    "    df = df.replace(np.nan, 0)\n",
    "    df = df.astype(pca_data.loc[name,'metadata']['dtype'])\n",
    "    cleaned_dfs.append(df)\n",
    "    \n",
    "# add to pca_data\n",
    "pca_data['cleaned_df'] = cleaned_dfs"
   ]
  },
  {
   "cell_type": "code",
   "execution_count": null,
   "metadata": {},
   "outputs": [],
   "source": [
    "# check that it worked\n",
    "codeval_df = pd.DataFrame()\n",
    "for name in pca_data_names:\n",
    "    codeval_df = pd.concat([codeval_df, \n",
    "                           explore_codevals(name, 'cleaned_df')],\n",
    "                          ignore_index=True)\n",
    "codeval_df = codeval_df.set_index('data')"
   ]
  },
  {
   "cell_type": "code",
   "execution_count": null,
   "metadata": {
    "scrolled": true
   },
   "outputs": [],
   "source": [
    "codeval_df"
   ]
  },
  {
   "cell_type": "markdown",
   "metadata": {},
   "source": [
    "## Write New Raster Files with Processed Data"
   ]
  },
  {
   "cell_type": "code",
   "execution_count": null,
   "metadata": {},
   "outputs": [],
   "source": [
    "for name in pca_data_names:\n",
    "    with fiona.open(\"data/raw_data/border_box.shp\", \"r\") as shapefile:\n",
    "        shapes = [feature[\"geometry\"] for feature in shapefile]\n",
    "\n",
    "    with rasterio.open(pca_data.loc[name,'aligned_path']) as src:\n",
    "        out_image, out_transform = rasterio.mask.mask(src, shapes, crop=True)\n",
    "        out_meta = src.meta\n",
    "    \n",
    "    out_meta.update({\"driver\": \"GTiff\",\n",
    "                     \"height\": out_image.shape[1],\n",
    "                     \"width\": out_image.shape[2],\n",
    "                     \"transform\": out_transform,\n",
    "                     \"dtype\": pca_data.loc[name,'metadata']['dtype']})\n",
    " \n",
    "    with rasterio.open(pca_data.loc[name,'aligned_path'][:-4]+'_proc.tif', 'w', **out_meta) as dst:\n",
    "        dst.write(np.array(pca_data.loc[name,'cleaned_df']), 1)"
   ]
  },
  {
   "cell_type": "code",
   "execution_count": null,
   "metadata": {},
   "outputs": [],
   "source": [
    "# create list of processed raster data\n",
    "processed = list()\n",
    "for name in pca_data_names:\n",
    "    processed.append(rasterio.open(\n",
    "        pca_data.loc[name,'aligned_path'][:-4] + '_proc.tif'))\n",
    "\n",
    "# add column for masked data to dataframe\n",
    "pca_data['processed'] = processed"
   ]
  },
  {
   "cell_type": "code",
   "execution_count": null,
   "metadata": {},
   "outputs": [],
   "source": [
    "for name in pca_data_names:\n",
    "    print(name)\n",
    "    pyplot.imshow(pca_data.loc[name,'processed'].read(1), cmap='pink')\n",
    "    pyplot.savefig(name+'_proc.png')\n",
    "    pyplot.show()"
   ]
  },
  {
   "cell_type": "markdown",
   "metadata": {},
   "source": [
    "## Create PCA dataframe"
   ]
  },
  {
   "cell_type": "markdown",
   "metadata": {},
   "source": [
    "Merge all PCA variables into one dataframe with full coordinates as index"
   ]
  },
  {
   "cell_type": "code",
   "execution_count": null,
   "metadata": {},
   "outputs": [],
   "source": [
    "# Define functions for reshaping banded data df into PCA format\n",
    "def pca_melt(dataset_name):\n",
    "    # preps the dataframe to be melted by adding columns for x and y\n",
    "    df = pca_data.loc[dataset_name,'cleaned_df']\n",
    "    \n",
    "    # argument: dataframe with x coord as index as y coords as columns\n",
    "    nrows, ncols = df.shape\n",
    "    nrows -= 1; ncols -= 1\n",
    "\n",
    "    # convert index to a column to melt\n",
    "    re_df = df.reset_index().rename(columns={'index':'x'})\n",
    "    re_df = pd.melt(re_df, id_vars=['x'],\n",
    "                    value_vars=range(0,ncols),\n",
    "                    var_name='y',\n",
    "                    value_name = dataset_name)\n",
    "    \n",
    "    # turn x and y columns into a coordinate index\n",
    "    re_df['coords'] = re_df['x'].astype(str)+','+re_df['y'].astype(str)\n",
    "    re_df = re_df.set_index('coords')\n",
    "    \n",
    "    return re_df\n",
    "\n",
    "def save_coord_ranges(coord_ranges_dataframe,pca_df,dataset_name):\n",
    "    # ARGS: dataframe with rows min x, max y, min y, max y,\n",
    "        # melted dataframe for PCA with columns labeled 'x' and 'y'\n",
    "    # adds a column to coord_ranges with info for the given pca dataframe\n",
    "    coord_ranges_dataframe[dataset_name]=[min(pca_df['x']),\n",
    "                                     max(pca_df['x']),\n",
    "                                     min(pca_df['y']),\n",
    "                                     max(pca_df['y'])]\n",
    "    \n",
    "    return coord_ranges\n",
    "\n",
    "def check_pca_reshape(re_df, n=15):\n",
    "    # check that the raw and reshaped dfs have the same values \n",
    "    # for a random set of n coordinates\n",
    "    df = pca_data.loc[dataset_name,'cleaned_df']\n",
    "    check = True\n",
    "    for i in range(0,n):\n",
    "        x = randint(0, df.shape[0]-1); y = randint(0, df.shape[1]-1)\n",
    "        raw_val = df.loc[x][y]\n",
    "        new_val = re_df.loc[str(x)+','+str(y)][dataset_name]\n",
    "        if (raw_val != new_val) & (not math.isnan(new_val)):\n",
    "            check = False\n",
    "            print('Error for coordinate: (',x,',',y,\n",
    "                  ')\\nraw:',raw_val,'\\nnew:',new_val)\n",
    "    return check"
   ]
  },
  {
   "cell_type": "markdown",
   "metadata": {},
   "source": [
    "Process all of the datasets for PCA using the functions defined above:"
   ]
  },
  {
   "cell_type": "code",
   "execution_count": null,
   "metadata": {},
   "outputs": [],
   "source": [
    "pca_dfs = list()\n",
    "\n",
    "# create dataframe to save coordinate ranges\n",
    "coord_ranges = pd.DataFrame(index=['minx','maxx','miny','maxy'])\n",
    "\n",
    "# iterate through datasets and reshape for PCA\n",
    "for dataset_name in pca_data_names:\n",
    "    # melt dataframe\n",
    "    pca_df = pca_melt(dataset_name)\n",
    "    # save the coordinate ranges\n",
    "    coord_ranges = save_coord_ranges(coord_ranges, pca_df, dataset_name)\n",
    "    # check that the resulting dataframe is correct\n",
    "    check = check_pca_reshape(pca_df)\n",
    "    if not check:\n",
    "        print('Error in PCA reshape')\n",
    "    # add the pca dataframe to the list\n",
    "    pca_dfs.append(pca_df)\n",
    "\n",
    "pca_data['pca_df'] = pca_dfs"
   ]
  },
  {
   "cell_type": "code",
   "execution_count": null,
   "metadata": {},
   "outputs": [],
   "source": [
    "coord_ranges"
   ]
  },
  {
   "cell_type": "code",
   "execution_count": null,
   "metadata": {},
   "outputs": [],
   "source": [
    "# check that it worked\n",
    "name = 'travel_time'\n",
    "pca_data.loc[name,'pca_df'].loc['0,1':'4,1']"
   ]
  },
  {
   "cell_type": "code",
   "execution_count": null,
   "metadata": {},
   "outputs": [],
   "source": [
    "pca_data.loc[name,'cleaned_df'].loc[0:4,[1]]"
   ]
  },
  {
   "cell_type": "markdown",
   "metadata": {},
   "source": [
    "#### Use the x and y coordinate columns to crop datasets to same shape"
   ]
  },
  {
   "cell_type": "code",
   "execution_count": null,
   "metadata": {},
   "outputs": [],
   "source": [
    "# determine minimum and maximum for x and y\n",
    "all_minx = max(coord_ranges.loc['minx'])\n",
    "all_maxx = min(coord_ranges.loc['maxx'])\n",
    "all_miny = max(coord_ranges.loc['miny'])\n",
    "all_maxy = min(coord_ranges.loc['maxy'])\n",
    "\n",
    "print('x range:',all_minx,all_maxx,\n",
    "      '\\ny range:',all_miny,all_maxy)\n",
    "\n",
    "if (all_minx != 0) | (all_miny != 0):\n",
    "    warnings.warn('One of the minimum coordinates is not zero')"
   ]
  },
  {
   "cell_type": "code",
   "execution_count": null,
   "metadata": {},
   "outputs": [],
   "source": [
    "# crop all datasets\n",
    "new_coord_ranges = pd.DataFrame(index=['minx','maxx','miny','maxy'])\n",
    "cropped_pca_dfs = list()\n",
    "\n",
    "for name in pca_data_names:\n",
    "    df = pca_data.loc[name,'pca_df']\n",
    "    df = df[(df['x']<=all_maxx) & (df['y']<=all_maxy)]\n",
    "    new_coord_ranges = save_coord_ranges(coord_ranges, df, name)\n",
    "    cropped_pca_dfs.append(df)\n",
    "\n",
    "pca_data['cropped_pca_df'] = cropped_pca_dfs"
   ]
  },
  {
   "cell_type": "code",
   "execution_count": null,
   "metadata": {},
   "outputs": [],
   "source": [
    "new_coord_ranges"
   ]
  },
  {
   "cell_type": "markdown",
   "metadata": {},
   "source": [
    "#### Account for the direction of vulnerability:\n",
    "Change the values so that in each dataset, higher number indicates higher vulnerability. \n",
    "\n",
    "FLAG: could we do this by multiplying the numbers by -1 if the direction of vulnerbility is opposite? or do all of the values have to be positive? Currently approaching as a reflection around the median or average of the dataset instead of around 0 (making negative), because then the magnitude varies in the same direction for all datasets.\n",
    "\n",
    "FLAG: are we sure we need to do this? I think we might not - PCA operates based on the direction of the greatest variation. "
   ]
  },
  {
   "cell_type": "markdown",
   "metadata": {},
   "source": [
    "#### Merge individual dataframes into one PCA dataset"
   ]
  },
  {
   "cell_type": "code",
   "execution_count": null,
   "metadata": {},
   "outputs": [],
   "source": [
    "all_pca_data=pd.DataFrame()\n",
    "for name in pca_data_names:\n",
    "    df = pca_data.loc[name,'cropped_pca_df'][[name]]\n",
    "    all_pca_data=all_pca_data.merge(df,how='outer',\n",
    "                                    left_index=True,right_index=True,\n",
    "                                   validate='one_to_one')"
   ]
  },
  {
   "cell_type": "code",
   "execution_count": null,
   "metadata": {},
   "outputs": [],
   "source": [
    "all_pca_data.describe(percentiles = [.2, .4, .5, .6, .8])"
   ]
  },
  {
   "cell_type": "code",
   "execution_count": null,
   "metadata": {},
   "outputs": [],
   "source": [
    "name='val_prod_per_ha'\n",
    "pca_data.loc[name,'cropped_pca_df'].loc['0,1':'5,1']"
   ]
  },
  {
   "cell_type": "code",
   "execution_count": null,
   "metadata": {},
   "outputs": [],
   "source": [
    "all_pca_data.shape"
   ]
  },
  {
   "cell_type": "markdown",
   "metadata": {},
   "source": [
    "## Conduct PCA"
   ]
  },
  {
   "cell_type": "markdown",
   "metadata": {},
   "source": [
    "Normalize the values in the PCA dataframe"
   ]
  },
  {
   "cell_type": "markdown",
   "metadata": {},
   "source": [
    "FLAG: can't have NA values when normalizing, but will count as data if we fill it with zeros. I solved this by getting rid of any rows with NA data. "
   ]
  },
  {
   "cell_type": "code",
   "execution_count": null,
   "metadata": {},
   "outputs": [],
   "source": [
    "# remove all rows with NA data\n",
    "all_pca_data = all_pca_data.dropna(axis=0)\n",
    "print(all_pca_data.shape)\n",
    "coords_included = all_pca_data.index.tolist()\n",
    "# FLAG: visualize all of the coordinates still included. what's the best \n",
    "# format for me to save them in for them to be visualized?\n",
    "all_pca_data.head()"
   ]
  },
  {
   "cell_type": "code",
   "execution_count": null,
   "metadata": {},
   "outputs": [],
   "source": [
    "# normalize columns of the dataframe\n",
    "pca_matrix = np.matrix(all_pca_data)\n",
    "scaler = sklearn.preprocessing.StandardScaler()\n",
    "scaler.fit(pca_matrix)\n",
    "all_pca_data_norm = scaler.transform(pca_matrix)\n",
    "\n",
    "all_pca_data_norm[0:5]"
   ]
  },
  {
   "cell_type": "markdown",
   "metadata": {},
   "source": [
    "Perform PCA calculation"
   ]
  },
  {
   "cell_type": "code",
   "execution_count": null,
   "metadata": {},
   "outputs": [],
   "source": [
    "u,s,vt = np.linalg.svd(all_pca_data_norm, full_matrices=False)"
   ]
  },
  {
   "cell_type": "code",
   "execution_count": null,
   "metadata": {},
   "outputs": [],
   "source": [
    "pca_matrix = pd.DataFrame(u*s)\n",
    "pca_matrix.head()"
   ]
  },
  {
   "cell_type": "code",
   "execution_count": null,
   "metadata": {},
   "outputs": [],
   "source": [
    "# Set the index of the PCA results matrix to the lat-long coordinate pairs\n",
    "pca_matrix.set_index(all_pca_data.index.values, inplace = True)\n",
    "pca_matrix.head()"
   ]
  },
  {
   "cell_type": "markdown",
   "metadata": {},
   "source": [
    "### Convert back to lat-long coordinate matrix"
   ]
  },
  {
   "cell_type": "code",
   "execution_count": null,
   "metadata": {},
   "outputs": [],
   "source": [
    "# create list of x and y values\n",
    "x_coords = [int(ind.split(',')[0]) \n",
    "            for ind in list(pca_matrix.index)]\n",
    "y_coords = [int(ind.split(',')[1]) \n",
    "            for ind in list(pca_matrix.index)]"
   ]
  },
  {
   "cell_type": "code",
   "execution_count": null,
   "metadata": {},
   "outputs": [],
   "source": [
    "# check that it worked\n",
    "print(list(pca_matrix.index)[3800:3810])\n",
    "print(y_coords[3800:3810])\n",
    "print(x_coords[3800:3810])"
   ]
  },
  {
   "cell_type": "code",
   "execution_count": null,
   "metadata": {},
   "outputs": [],
   "source": [
    "# add x and y values as columns of dataframe\n",
    "pca_matrix['x'] = x_coords\n",
    "pca_matrix['y'] = y_coords\n",
    "print(pca_matrix.dtypes)\n",
    "pca_matrix.head()"
   ]
  },
  {
   "cell_type": "code",
   "execution_count": null,
   "metadata": {},
   "outputs": [],
   "source": [
    "# create list for reshaped lat_long matrix\n",
    "latlon_pcas = []\n",
    "\n",
    "# iterate through pcas and save reshaped lat_long matrix\n",
    "for pca_num in range(pca_matrix.shape[1]-2):\n",
    "    # take appropriate subset of pca_matrix\n",
    "    df = pca_matrix[[pca_num,'x','y']]    \n",
    "    # reshape using pivot\n",
    "    df = (df.pivot(index='x',columns='y')[pca_num])\n",
    "    # remove row and column names\n",
    "    df.columns.name = None\n",
    "    df.index.name = None\n",
    "    latlon_pcas.append(df)"
   ]
  },
  {
   "cell_type": "code",
   "execution_count": null,
   "metadata": {},
   "outputs": [],
   "source": [
    "# see PCA 1\n",
    "latlon_pcas[0].head()"
   ]
  },
  {
   "cell_type": "markdown",
   "metadata": {},
   "source": [
    "## Create raster map of each PCA"
   ]
  },
  {
   "cell_type": "markdown",
   "metadata": {},
   "source": [
    "Write raster files for each PCA"
   ]
  },
  {
   "cell_type": "code",
   "execution_count": null,
   "metadata": {},
   "outputs": [],
   "source": [
    "raster_pca_paths = []\n",
    "for pca_num in range(len(latlon_pcas)):\n",
    "    raster_pca_paths.append('results/raster_pca'+str(pca_num+1)+'.tif')\n",
    "raster_pca_paths"
   ]
  },
  {
   "cell_type": "code",
   "execution_count": null,
   "metadata": {},
   "outputs": [],
   "source": [
    "for pca_num in range(len(latlon_pcas)):\n",
    "    with fiona.open(\"data/raw_data/border_box.shp\", \"r\") as shapefile:\n",
    "        shapes = [feature[\"geometry\"] for feature in shapefile]\n",
    "    \n",
    "    out_meta.update({\"driver\": \"GTiff\",\n",
    "                     \"height\": out_image.shape[1],\n",
    "                     \"width\": out_image.shape[2],\n",
    "                     \"transform\": out_transform,\n",
    "                     \"dtype\": 'float32'})\n",
    " \n",
    "    with rasterio.open(raster_pca_paths[pca_num],\n",
    "                       'w', **out_meta) as dst:\n",
    "        dst.write(np.array(latlon_pcas[pca_num]), 1)"
   ]
  },
  {
   "cell_type": "code",
   "execution_count": null,
   "metadata": {},
   "outputs": [],
   "source": [
    "# create a list of processed pca rasters\n",
    "pca_rasters = list()\n",
    "for pca_num in range(len(latlon_pcas)):\n",
    "    pca_rasters.append(rasterio.open(raster_pca_paths[pca_num]))"
   ]
  },
  {
   "cell_type": "code",
   "execution_count": null,
   "metadata": {},
   "outputs": [],
   "source": [
    "# show raster images and export as png files\n",
    "for pca_num in range(len(latlon_pcas)):\n",
    "    print('PCA '+str(pca_num+1))\n",
    "    pyplot.imshow(pca_rasters[pca_num].read(1), cmap='pink')\n",
    "    pyplot.savefig('results/raster_pca'+str(pca_num+1)+'.png')\n",
    "    pyplot.show()"
   ]
  },
  {
   "cell_type": "markdown",
   "metadata": {},
   "source": [
    "## Analyze PCA Results"
   ]
  },
  {
   "cell_type": "code",
   "execution_count": null,
   "metadata": {},
   "outputs": [],
   "source": [
    "def variance_captured(s, i):\n",
    "    # returns the proportion of variance captured by pc i\n",
    "    return s[i-1]**2 / np.sum(s**2)\n",
    "\n",
    "def variance_captured_first_k(s, k):\n",
    "    # returns the proportion of variance captured by pcs 1 through k\n",
    "    return sum([variance_captured(s, ki) for ki in range(1, k+1)])"
   ]
  },
  {
   "cell_type": "markdown",
   "metadata": {},
   "source": [
    "Scree plot"
   ]
  },
  {
   "cell_type": "code",
   "execution_count": null,
   "metadata": {},
   "outputs": [],
   "source": [
    "x = np.arange(1,all_pca_data.shape[1]+1)\n",
    "var = [variance_captured(s, xi) for xi in x]\n",
    "plt.plot(x, var);\n",
    "plt.xlabel('Principal Component');\n",
    "plt.ylabel('Proportion of Total Variance Captured');\n",
    "plt.title('Skree Plot of PCA');"
   ]
  },
  {
   "cell_type": "code",
   "execution_count": null,
   "metadata": {},
   "outputs": [],
   "source": [
    "print('Number of PCs\\tVariance captured')\n",
    "for i in range(1, all_pca_data.shape[1]+1):\n",
    "    print(i,'\\t\\t',round(variance_captured_first_k(s,i),4))"
   ]
  },
  {
   "cell_type": "markdown",
   "metadata": {},
   "source": [
    "Examine the weights of the PCs"
   ]
  },
  {
   "cell_type": "code",
   "execution_count": null,
   "metadata": {},
   "outputs": [],
   "source": [
    "weights = pd.DataFrame({'Var':all_pca_data.columns,\n",
    "                       'PC1 weights':np.array(vt[0,:]),\n",
    "                       'PC2 weights':np.array(vt[1,:])\n",
    "                       }).set_index('Var')\n",
    "weights.sort_values('PC1 weights')"
   ]
  },
  {
   "cell_type": "code",
   "execution_count": null,
   "metadata": {},
   "outputs": [],
   "source": [
    "def plot_pc(col_names, vt, k):\n",
    "    plt.bar(col_names, vt[k, :], alpha=0.7)\n",
    "    plt.xticks(col_names, rotation=90)\n",
    "    plt.title('PC ' + str(k+1) + ' Loadings');"
   ]
  },
  {
   "cell_type": "code",
   "execution_count": null,
   "metadata": {},
   "outputs": [],
   "source": [
    "with plt.rc_context({\"figure.figsize\": (12, 4)}):\n",
    "    plot_pc(list(all_pca_data.columns), vt, 0);"
   ]
  },
  {
   "cell_type": "code",
   "execution_count": null,
   "metadata": {},
   "outputs": [],
   "source": [
    "with plt.rc_context({\"figure.figsize\": (12, 4)}):\n",
    "    plot_pc(list(all_pca_data.columns), vt, 1);"
   ]
  },
  {
   "cell_type": "code",
   "execution_count": null,
   "metadata": {},
   "outputs": [],
   "source": [
    "with plt.rc_context({\"figure.figsize\": (12, 4)}):\n",
    "    plot_pc(list(all_pca_data.columns), vt, 2);"
   ]
  },
  {
   "cell_type": "code",
   "execution_count": null,
   "metadata": {},
   "outputs": [],
   "source": [
    "with plt.rc_context({\"figure.figsize\": (12, 4)}):\n",
    "    plot_pc(list(all_pca_data.columns), vt, 3);"
   ]
  },
  {
   "cell_type": "code",
   "execution_count": null,
   "metadata": {},
   "outputs": [],
   "source": [
    "first_2_pcs = pd.DataFrame((u*s)[:, 0:2], columns = [\"pc1\", \"pc2\"]) # SOLUTION\n",
    "sns.scatterplot(data = first_2_pcs.sample(n=1000), x = \"pc1\", y = \"pc2\").set_title('Scatterplot of PC1 by PC2')"
   ]
  },
  {
   "cell_type": "markdown",
   "metadata": {},
   "source": [
    "## Visualize the Cleaned Raster Images and Data Columns"
   ]
  },
  {
   "cell_type": "code",
   "execution_count": null,
   "metadata": {},
   "outputs": [],
   "source": [
    "for name in pca_data_names:\n",
    "    pca_data.loc[name,'pca_df'].iloc[:,0].plot.kde()\n",
    "    pyplot.savefig(name+'_kde.png')"
   ]
  },
  {
   "cell_type": "markdown",
   "metadata": {},
   "source": [
    "# EXTRA"
   ]
  },
  {
   "cell_type": "code",
   "execution_count": null,
   "metadata": {},
   "outputs": [],
   "source": [
    "# check each dataset's upper left and lower right coordinates\n",
    "# these coordinates are meters from the origin of the coordinate system\n",
    "for dataset in raster_data_masked:\n",
    "    print(str(dataset.name))\n",
    "    print(dataset.transform*(0,0))\n",
    "    print(dataset.transform*(dataset.width, dataset.height))\n",
    "# FLAG: the bounds are not the same for each dataset. "
   ]
  }
 ],
 "metadata": {
  "kernelspec": {
   "display_name": "Python 3",
   "language": "python",
   "name": "python3"
  },
  "language_info": {
   "codemirror_mode": {
    "name": "ipython",
    "version": 3
   },
   "file_extension": ".py",
   "mimetype": "text/x-python",
   "name": "python",
   "nbconvert_exporter": "python",
   "pygments_lexer": "ipython3",
   "version": "3.7.3"
  }
 },
 "nbformat": 4,
 "nbformat_minor": 2
}
