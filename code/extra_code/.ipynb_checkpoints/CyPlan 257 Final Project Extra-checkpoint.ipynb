{
 "cells": [
  {
   "cell_type": "markdown",
   "metadata": {},
   "source": [
    "# CYPLAN 257 Extra and Resources\n",
    "## Aaron Scherf, Katie Wetstone\n",
    "## Assessing Vulnerability Indices for Southern Africa Using Principal Component Analysis"
   ]
  },
  {
   "cell_type": "markdown",
   "metadata": {},
   "source": [
    "### Useful commands:"
   ]
  },
  {
   "cell_type": "code",
   "execution_count": 1,
   "metadata": {},
   "outputs": [],
   "source": [
    "# add useful commands below"
   ]
  },
  {
   "cell_type": "markdown",
   "metadata": {},
   "source": [
    "## Resources"
   ]
  },
  {
   "cell_type": "markdown",
   "metadata": {},
   "source": [
    "Useful resources for PCA:\n",
    "\n",
    "- https://arxiv.org/pdf/1404.1100.pdf\n",
    "- DS100 coding examples: https://github.com/DS-100/sp19-public-archive/tree/master/lectures/lec10"
   ]
  },
  {
   "cell_type": "markdown",
   "metadata": {},
   "source": [
    "# Extra Code"
   ]
  },
  {
   "cell_type": "markdown",
   "metadata": {},
   "source": [
    "### Data processing without saving in a dataframe"
   ]
  },
  {
   "cell_type": "markdown",
   "metadata": {},
   "source": [
    "Doesn't include all code needed, just the code blocks that were changed"
   ]
  },
  {
   "cell_type": "code",
   "execution_count": null,
   "metadata": {},
   "outputs": [],
   "source": [
    "travel_time_path = data_path+'/'+'TravelTime_50k/Traveltime_50k.tif'\n",
    "infant_mort_path = data_path+'/'+'PovMap_Global_Infant_Mortality/povmap_global_subnational_infant_mortality_rates_v2.tif'\n",
    "val_prod_path = data_path+'/'+'val_prod.tif'\n",
    "val_prod_per_hect_path = data_path+'/'+'val_prod_per_ha.tif'\n",
    "raster_data_paths = [travel_time_path, infant_mort_path, val_prod_path, val_prod_per_hect_path]"
   ]
  },
  {
   "cell_type": "code",
   "execution_count": null,
   "metadata": {},
   "outputs": [],
   "source": [
    "travel_time = rasterio.open(travel_time_path)\n",
    "infant_mort = rasterio.open(infant_mort_path)\n",
    "val_prod = rasterio.open(val_prod_path)\n",
    "val_prod_per_hect = rasterio.open(val_prod_per_hect_path)\n",
    "raster_data = [travel_time, infant_mort, val_prod, val_prod_per_hect]"
   ]
  },
  {
   "cell_type": "code",
   "execution_count": null,
   "metadata": {},
   "outputs": [],
   "source": [
    "travel_time_masked = rasterio.open(travel_time_path[:-4] + '_mask.tif')\n",
    "infant_mort_masked = rasterio.open(infant_mort_path[:-4] + '_mask.tif')\n",
    "val_prod_masked = rasterio.open(val_prod_path[:-4] + '_mask.tif')\n",
    "val_prod_per_hect_masked = rasterio.open(val_prod_per_hect_path[:-4] + '_mask.tif')\n",
    "raster_data_masked = [travel_time_masked, infant_mort_masked, val_prod_masked, val_prod_per_hect_masked]"
   ]
  },
  {
   "cell_type": "code",
   "execution_count": null,
   "metadata": {},
   "outputs": [],
   "source": [
    "travel_time_band = travel_time_masked.read(1)\n",
    "infant_mort_band = infant_mort_masked.read(1)\n",
    "val_prod_band = val_prod_masked.read(1)\n",
    "val_prod_per_hect_band = val_prod_per_hect_masked.read(1)\n",
    "raster_bands = [travel_time_band, infant_mort_band, val_prod_band, val_prod_per_hect_band]"
   ]
  },
  {
   "cell_type": "code",
   "execution_count": null,
   "metadata": {},
   "outputs": [],
   "source": [
    "travel_time_df = pd.DataFrame(travel_time_band)\n",
    "infant_mort_df = pd.DataFrame(infant_mort_band)\n",
    "val_prod_df = pd.DataFrame(val_prod_band)\n",
    "val_prod_per_hect_df = pd.DataFrame(val_prod_per_hect_band)\n",
    "raster_dfs = [travel_time_df, infant_mort_df, val_prod_df, val_prod_per_hect_df]"
   ]
  }
 ],
 "metadata": {
  "kernelspec": {
   "display_name": "Python 3",
   "language": "python",
   "name": "python3"
  },
  "language_info": {
   "codemirror_mode": {
    "name": "ipython",
    "version": 3
   },
   "file_extension": ".py",
   "mimetype": "text/x-python",
   "name": "python",
   "nbconvert_exporter": "python",
   "pygments_lexer": "ipython3",
   "version": "3.6.5"
  }
 },
 "nbformat": 4,
 "nbformat_minor": 2
}
