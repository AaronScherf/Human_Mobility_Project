{
 "cells": [
  {
   "cell_type": "markdown",
   "metadata": {},
   "source": [
    "## Importing Data Notebook"
   ]
  },
  {
   "cell_type": "markdown",
   "metadata": {},
   "source": [
    "Code sources:\n",
    "- https://github.com/dlab-berkeley/Geospatial-Fundamentals-in-Python/blob/master/Geopandas_Intro_F2019_GC.ipynb\n",
    "- https://rasterio.readthedocs.io/en/stable/"
   ]
  },
  {
   "cell_type": "markdown",
   "metadata": {},
   "source": [
    "### Installing and importing libraries on a Mac"
   ]
  },
  {
<<<<<<< HEAD
   "cell_type": "markdown",
   "metadata": {},
   "source": [
    "First, install Homebrew so that the `!brew install spatialindex` command  works. `spatialindex` is a dependency of `rtree`, which is a dependency of `geopandas`. To install Homebrew open a new Terminal window and enter the following command:\n",
    "\n",
    "`!ruby -e \"$(curl -fsSL https://raw.githubusercontent.com/Homebrew/install/master/install)\" < /dev/null 2> /dev/null`\n",
    "\n",
    "When it prompts for your password, type in your computer's password and press Enter. Your password won't show up typed onto the screen but is still being entered."
   ]
  },
  {
   "cell_type": "markdown",
   "metadata": {},
   "source": [
    "Install libraries:"
   ]
  },
  {
   "cell_type": "code",
   "execution_count": 1,
   "metadata": {},
   "outputs": [
    {
     "name": "stdout",
     "output_type": "stream",
     "text": [
      "Requirement already satisfied: pysal in /anaconda3/lib/python3.6/site-packages (2.1.0)\n",
      "Requirement already satisfied: scikit-learn in /anaconda3/lib/python3.6/site-packages (from pysal) (0.19.1)\n",
      "Requirement already satisfied: scipy in /anaconda3/lib/python3.6/site-packages (from pysal) (1.1.0)\n",
      "Requirement already satisfied: seaborn in /anaconda3/lib/python3.6/site-packages (from pysal) (0.8.1)\n",
      "Requirement already satisfied: deprecated in /anaconda3/lib/python3.6/site-packages (from pysal) (1.2.6)\n",
      "Requirement already satisfied: descartes in /anaconda3/lib/python3.6/site-packages (from pysal) (1.1.0)\n",
      "Requirement already satisfied: geopandas in /anaconda3/lib/python3.6/site-packages (from pysal) (0.6.1+8.g1e37902)\n",
      "Requirement already satisfied: tqdm in /anaconda3/lib/python3.6/site-packages (from pysal) (4.37.0)\n",
      "Requirement already satisfied: rtree in /anaconda3/lib/python3.6/site-packages (from pysal) (0.8.3)\n",
      "Requirement already satisfied: pandas in /anaconda3/lib/python3.6/site-packages (from pysal) (0.23.0)\n",
      "Requirement already satisfied: palettable in /anaconda3/lib/python3.6/site-packages (from pysal) (3.3.0)\n",
      "Requirement already satisfied: matplotlib in /anaconda3/lib/python3.6/site-packages (from pysal) (2.2.2)\n",
      "Requirement already satisfied: numpy in /anaconda3/lib/python3.6/site-packages (from seaborn->pysal) (1.14.3)\n",
      "Requirement already satisfied: wrapt<2,>=1.10 in /anaconda3/lib/python3.6/site-packages (from deprecated->pysal) (1.10.11)\n",
      "Requirement already satisfied: shapely in /anaconda3/lib/python3.6/site-packages (from geopandas->pysal) (1.6.4.post2)\n",
      "Requirement already satisfied: pyproj in /anaconda3/lib/python3.6/site-packages (from geopandas->pysal) (2.4.1)\n",
      "Requirement already satisfied: fiona in /anaconda3/lib/python3.6/site-packages (from geopandas->pysal) (1.8.9.post2)\n",
      "Requirement already satisfied: setuptools in /anaconda3/lib/python3.6/site-packages (from rtree->pysal) (41.6.0)\n",
      "Requirement already satisfied: python-dateutil>=2.5.0 in /anaconda3/lib/python3.6/site-packages (from pandas->pysal) (2.7.3)\n",
      "Requirement already satisfied: pytz>=2011k in /anaconda3/lib/python3.6/site-packages (from pandas->pysal) (2018.4)\n",
      "Requirement already satisfied: cycler>=0.10 in /anaconda3/lib/python3.6/site-packages (from matplotlib->pysal) (0.10.0)\n",
      "Requirement already satisfied: pyparsing!=2.0.4,!=2.1.2,!=2.1.6,>=2.0.1 in /anaconda3/lib/python3.6/site-packages (from matplotlib->pysal) (2.2.0)\n",
      "Requirement already satisfied: six>=1.10 in /anaconda3/lib/python3.6/site-packages (from matplotlib->pysal) (1.11.0)\n",
      "Requirement already satisfied: kiwisolver>=1.0.1 in /anaconda3/lib/python3.6/site-packages (from matplotlib->pysal) (1.0.1)\n",
      "Requirement already satisfied: click<8,>=4.0 in /anaconda3/lib/python3.6/site-packages (from fiona->geopandas->pysal) (6.7)\n",
      "Requirement already satisfied: cligj>=0.5 in /anaconda3/lib/python3.6/site-packages (from fiona->geopandas->pysal) (0.5.0)\n",
      "Requirement already satisfied: munch in /anaconda3/lib/python3.6/site-packages (from fiona->geopandas->pysal) (2.5.0)\n",
      "Requirement already satisfied: click-plugins>=1.0 in /anaconda3/lib/python3.6/site-packages (from fiona->geopandas->pysal) (1.1.1)\n",
      "Requirement already satisfied: attrs>=17 in /anaconda3/lib/python3.6/site-packages (from fiona->geopandas->pysal) (18.1.0)\n",
      "Requirement already satisfied: mapclassify in /anaconda3/lib/python3.6/site-packages (2.1.1)\n",
      "Requirement already satisfied: scikit-learn in /anaconda3/lib/python3.6/site-packages (from mapclassify) (0.19.1)\n",
      "Requirement already satisfied: numpy>=1.3 in /anaconda3/lib/python3.6/site-packages (from mapclassify) (1.14.3)\n",
      "Requirement already satisfied: deprecated in /anaconda3/lib/python3.6/site-packages (from mapclassify) (1.2.6)\n",
      "Requirement already satisfied: pandas in /anaconda3/lib/python3.6/site-packages (from mapclassify) (0.23.0)\n",
      "Requirement already satisfied: scipy>=0.11 in /anaconda3/lib/python3.6/site-packages (from mapclassify) (1.1.0)\n",
      "Requirement already satisfied: wrapt<2,>=1.10 in /anaconda3/lib/python3.6/site-packages (from deprecated->mapclassify) (1.10.11)\n",
      "Requirement already satisfied: python-dateutil>=2.5.0 in /anaconda3/lib/python3.6/site-packages (from pandas->mapclassify) (2.7.3)\n",
      "Requirement already satisfied: pytz>=2011k in /anaconda3/lib/python3.6/site-packages (from pandas->mapclassify) (2018.4)\n",
      "Requirement already satisfied: six>=1.5 in /anaconda3/lib/python3.6/site-packages (from python-dateutil>=2.5.0->pandas->mapclassify) (1.11.0)\n",
      "Requirement already satisfied: fiona in /anaconda3/lib/python3.6/site-packages (1.8.9.post2)\n",
      "Requirement already satisfied: click<8,>=4.0 in /anaconda3/lib/python3.6/site-packages (from fiona) (6.7)\n",
      "Requirement already satisfied: attrs>=17 in /anaconda3/lib/python3.6/site-packages (from fiona) (18.1.0)\n",
      "Requirement already satisfied: click-plugins>=1.0 in /anaconda3/lib/python3.6/site-packages (from fiona) (1.1.1)\n",
      "Requirement already satisfied: cligj>=0.5 in /anaconda3/lib/python3.6/site-packages (from fiona) (0.5.0)\n",
      "Requirement already satisfied: six>=1.7 in /anaconda3/lib/python3.6/site-packages (from fiona) (1.11.0)\n",
      "Requirement already satisfied: munch in /anaconda3/lib/python3.6/site-packages (from fiona) (2.5.0)\n",
      "Requirement already satisfied: shapely in /anaconda3/lib/python3.6/site-packages (1.6.4.post2)\n",
      "Requirement already satisfied: pyproj in /anaconda3/lib/python3.6/site-packages (2.4.1)\n",
      "\u001b[33mWarning:\u001b[0m spatialindex 1.9.3 is already installed and up-to-date\n",
      "To reinstall 1.9.3, run `brew reinstall spatialindex`\n",
      "Requirement already satisfied: rtree in /anaconda3/lib/python3.6/site-packages (0.8.3)\n",
      "Requirement already satisfied: setuptools in /anaconda3/lib/python3.6/site-packages (from rtree) (41.6.0)\n",
      "Requirement already satisfied: geopandas in /anaconda3/lib/python3.6/site-packages (0.6.1+8.g1e37902)\n",
      "Requirement already satisfied: pyproj in /anaconda3/lib/python3.6/site-packages (from geopandas) (2.4.1)\n",
      "Requirement already satisfied: shapely in /anaconda3/lib/python3.6/site-packages (from geopandas) (1.6.4.post2)\n",
      "Requirement already satisfied: fiona in /anaconda3/lib/python3.6/site-packages (from geopandas) (1.8.9.post2)\n",
      "Requirement already satisfied: pandas>=0.23.0 in /anaconda3/lib/python3.6/site-packages (from geopandas) (0.23.0)\n",
      "Requirement already satisfied: cligj>=0.5 in /anaconda3/lib/python3.6/site-packages (from fiona->geopandas) (0.5.0)\n",
      "Requirement already satisfied: six>=1.7 in /anaconda3/lib/python3.6/site-packages (from fiona->geopandas) (1.11.0)\n",
      "Requirement already satisfied: click-plugins>=1.0 in /anaconda3/lib/python3.6/site-packages (from fiona->geopandas) (1.1.1)\n",
      "Requirement already satisfied: attrs>=17 in /anaconda3/lib/python3.6/site-packages (from fiona->geopandas) (18.1.0)\n",
      "Requirement already satisfied: click<8,>=4.0 in /anaconda3/lib/python3.6/site-packages (from fiona->geopandas) (6.7)\n",
      "Requirement already satisfied: munch in /anaconda3/lib/python3.6/site-packages (from fiona->geopandas) (2.5.0)\n",
      "Requirement already satisfied: python-dateutil>=2.5.0 in /anaconda3/lib/python3.6/site-packages (from pandas>=0.23.0->geopandas) (2.7.3)\n",
      "Requirement already satisfied: pytz>=2011k in /anaconda3/lib/python3.6/site-packages (from pandas>=0.23.0->geopandas) (2018.4)\n",
      "Requirement already satisfied: numpy>=1.9.0 in /anaconda3/lib/python3.6/site-packages (from pandas>=0.23.0->geopandas) (1.14.3)\n",
      "Requirement already satisfied: descartes in /anaconda3/lib/python3.6/site-packages (1.1.0)\n",
      "Requirement already satisfied: matplotlib in /anaconda3/lib/python3.6/site-packages (from descartes) (2.2.2)\n",
      "Requirement already satisfied: numpy>=1.7.1 in /anaconda3/lib/python3.6/site-packages (from matplotlib->descartes) (1.14.3)\n",
      "Requirement already satisfied: cycler>=0.10 in /anaconda3/lib/python3.6/site-packages (from matplotlib->descartes) (0.10.0)\n",
      "Requirement already satisfied: pyparsing!=2.0.4,!=2.1.2,!=2.1.6,>=2.0.1 in /anaconda3/lib/python3.6/site-packages (from matplotlib->descartes) (2.2.0)\n",
      "Requirement already satisfied: python-dateutil>=2.1 in /anaconda3/lib/python3.6/site-packages (from matplotlib->descartes) (2.7.3)\n",
      "Requirement already satisfied: pytz in /anaconda3/lib/python3.6/site-packages (from matplotlib->descartes) (2018.4)\n",
      "Requirement already satisfied: six>=1.10 in /anaconda3/lib/python3.6/site-packages (from matplotlib->descartes) (1.11.0)\n",
      "Requirement already satisfied: kiwisolver>=1.0.1 in /anaconda3/lib/python3.6/site-packages (from matplotlib->descartes) (1.0.1)\n"
     ]
    },
    {
     "name": "stdout",
     "output_type": "stream",
     "text": [
      "Requirement already satisfied: setuptools in /anaconda3/lib/python3.6/site-packages (from kiwisolver>=1.0.1->matplotlib->descartes) (41.6.0)\r\n"
     ]
    }
   ],
   "source": [
    "### Install pysal\n",
    "!pip install pysal\n",
    "# Install mapclassify\n",
    "!pip install mapclassify\n",
    "\n",
    "# Install Geopandas dependencies\n",
    "!pip install fiona \n",
    "!pip install shapely \n",
    "!pip install pyproj \n",
    "!brew install spatialindex # dependency of rtree\n",
    "!pip install rtree\n",
    "\n",
    "# Install Geopandas\n",
    "!pip install geopandas\n",
    "# Install descartes - Geopandas requirement\n",
    "!pip install descartes"
   ]
  },
  {
   "cell_type": "markdown",
   "metadata": {},
   "source": [
    "Geopandas can also be installed directly from github. This still requires installing geopandas dependencies separately (`pandas fiona shapely pyproj rtree`)\n",
    "\n",
    "To install directly from github: `!pip install git+git://github.com/geopandas/geopandas.git`\n",
    "\n",
    "Previous code to install packages using the conda package (did not work):\n",
    "\n",
    "`!conda install pysal`\n",
    "\n",
    "`!conda install mapclassify`\n",
    "\n",
    "`!conda install geopandas`\n",
    "\n",
    "`!conda install descartes`"
=======
   "cell_type": "code",
   "execution_count": null,
   "metadata": {},
   "outputs": [],
   "source": [
    "# Install pysal\n",
    "!conda install pysal\n",
    "# Install mapclassify\n",
    "!conda install mapclassify\n",
    "# Install Geopandas\n",
    "!conda install geopandas\n",
    "# Install descartes - Geopandas requirment\n",
    "!conda install descartes"
>>>>>>> parent of 5c991a8... Update data
   ]
  },
  {
   "cell_type": "markdown",
   "metadata": {},
   "source": [
    "Import libraries"
   ]
  },
  {
   "cell_type": "code",
<<<<<<< HEAD
   "execution_count": 2,
   "metadata": {},
   "outputs": [],
=======
   "execution_count": 3,
   "metadata": {},
   "outputs": [
    {
     "ename": "ModuleNotFoundError",
     "evalue": "No module named 'geopandas'",
     "output_type": "error",
     "traceback": [
      "\u001b[1;31m---------------------------------------------------------------------------\u001b[0m",
      "\u001b[1;31mModuleNotFoundError\u001b[0m                       Traceback (most recent call last)",
      "\u001b[1;32m<ipython-input-3-53b784fc4de1>\u001b[0m in \u001b[0;36m<module>\u001b[1;34m\u001b[0m\n\u001b[0;32m      1\u001b[0m \u001b[1;32mimport\u001b[0m \u001b[0mpandas\u001b[0m \u001b[1;32mas\u001b[0m \u001b[0mpd\u001b[0m\u001b[1;33m\u001b[0m\u001b[1;33m\u001b[0m\u001b[0m\n\u001b[1;32m----> 2\u001b[1;33m \u001b[1;32mimport\u001b[0m \u001b[0mgeopandas\u001b[0m \u001b[1;32mas\u001b[0m \u001b[0mgpd\u001b[0m\u001b[1;33m\u001b[0m\u001b[1;33m\u001b[0m\u001b[0m\n\u001b[0m\u001b[0;32m      3\u001b[0m \u001b[1;32mimport\u001b[0m \u001b[0mmapclassify\u001b[0m\u001b[1;33m\u001b[0m\u001b[1;33m\u001b[0m\u001b[0m\n\u001b[0;32m      4\u001b[0m \u001b[1;32mimport\u001b[0m \u001b[0mmatplotlib\u001b[0m\u001b[1;33m.\u001b[0m\u001b[0mpyplot\u001b[0m \u001b[1;32mas\u001b[0m \u001b[0mplt\u001b[0m\u001b[1;33m\u001b[0m\u001b[1;33m\u001b[0m\u001b[0m\n\u001b[0;32m      5\u001b[0m \u001b[1;32mfrom\u001b[0m \u001b[0mshapely\u001b[0m\u001b[1;33m.\u001b[0m\u001b[0mgeometry\u001b[0m \u001b[1;32mimport\u001b[0m \u001b[0mPoint\u001b[0m\u001b[1;33m\u001b[0m\u001b[1;33m\u001b[0m\u001b[0m\n",
      "\u001b[1;31mModuleNotFoundError\u001b[0m: No module named 'geopandas'"
     ]
    }
   ],
>>>>>>> parent of 5c991a8... Update data
   "source": [
    "# geopandas dependencies\n",
    "import pandas as pd\n",
    "import fiona \n",
    "import shapely\n",
    "import pyproj\n",
    "import rtree\n",
    "\n",
    "import geopandas as gpd\n",
    "import mapclassify\n",
    "import matplotlib.pyplot as plt\n",
    "from shapely.geometry import Point"
   ]
  },
  {
   "cell_type": "markdown",
   "metadata": {},
   "source": [
    "Fetch data files with `wget`"
   ]
  },
  {
   "cell_type": "code",
<<<<<<< HEAD
   "execution_count": 3,
   "metadata": {},
   "outputs": [
    {
     "name": "stdout",
     "output_type": "stream",
     "text": [
      "Requirement already satisfied: wget in /anaconda3/lib/python3.6/site-packages (3.2)\r\n"
     ]
    }
   ],
   "source": [
    "!pip install wget\n",
    "import wget"
   ]
  },
  {
   "cell_type": "code",
   "execution_count": 4,
=======
   "execution_count": null,
>>>>>>> parent of 5c991a8... Update data
   "metadata": {},
   "outputs": [
    {
     "data": {
      "text/plain": [
       "'orleans_places.csv'"
      ]
     },
     "execution_count": 4,
     "metadata": {},
     "output_type": "execute_result"
    }
   ],
   "source": [
<<<<<<< HEAD
    "prefix = 'https://raw.githubusercontent.com/dlab-geo/geopandas_intro/master/data/'\n",
    "wget.download(prefix+'us_states.zip')\n",
    "wget.download(prefix+'uscounties_1810.zip')\n",
    "wget.download(prefix+'orleans_census_data1810.csv')\n",
    "wget.download(prefix+'lsc_points.csv')\n",
    "wget.download(prefix+'orleans_places.csv')"
=======
    "!wget 'https://raw.githubusercontent.com/dlab-geo/geopandas_intro/master/data/us_states.zip'\n",
    "!wget 'https://raw.githubusercontent.com/dlab-geo/geopandas_intro/master/data/uscounties_1810.zip'\n",
    "!wget 'https://raw.githubusercontent.com/dlab-geo/geopandas_intro/master/data/orleans_census_data1810.csv'\n",
    "!wget 'https://raw.githubusercontent.com/dlab-geo/geopandas_intro/master/data/lsc_points.csv'\n",
    "!wget 'https://raw.githubusercontent.com/dlab-geo/geopandas_intro/master/data/orleans_places.csv'"
>>>>>>> parent of 5c991a8... Update data
   ]
  },
  {
   "cell_type": "markdown",
   "metadata": {},
   "source": [
    "Previous code for using `!wget`:"
   ]
  },
  {
   "cell_type": "code",
   "execution_count": null,
   "metadata": {},
   "outputs": [],
   "source": [
<<<<<<< HEAD
    "# !wget 'https://raw.githubusercontent.com/dlab-geo/geopandas_intro/master/data/us_states.zip'\n",
    "# !wget 'https://raw.githubusercontent.com/dlab-geo/geopandas_intro/master/data/uscounties_1810.zip'\n",
    "# !wget 'https://raw.githubusercontent.com/dlab-geo/geopandas_intro/master/data/orleans_census_data1810.csv'\n",
    "# !wget 'https://raw.githubusercontent.com/dlab-geo/geopandas_intro/master/data/lsc_points.csv'\n",
    "# !wget 'https://raw.githubusercontent.com/dlab-geo/geopandas_intro/master/data/orleans_places.csv'"
   ]
  },
  {
   "cell_type": "markdown",
   "metadata": {},
   "source": [
    "Save the files as an object list `myfiles`"
   ]
  },
  {
   "cell_type": "code",
   "execution_count": 5,
   "metadata": {},
   "outputs": [
    {
     "name": "stdout",
     "output_type": "stream",
     "text": [
      "['us_states.zip', 'uscounties_1810.zip']\n"
     ]
    }
   ],
   "source": [
    "myfiles = !ls *.zip\n",
=======
    "myfiles = !ls *.zip\n",
    "\n",
    "myfiles = myfiles[0].split()\n",
    "\n",
>>>>>>> parent of 5c991a8... Update data
    "print(myfiles)"
   ]
  },
  {
   "cell_type": "markdown",
   "metadata": {},
   "source": [
    "Unzip the data files"
   ]
  },
  {
   "cell_type": "code",
   "execution_count": 6,
   "metadata": {},
   "outputs": [
    {
     "name": "stdout",
     "output_type": "stream",
     "text": [
      "Unzipping:  us_states.zip\n",
      "Archive:  us_states.zip\n",
      "  inflating: us_states.dbf           \n",
      "  inflating: us_states.prj           \n",
      "  inflating: us_states.shp           \n",
      "  inflating: us_states.shx           \n",
      "Unzipping:  uscounties_1810.zip\n",
      "Archive:  uscounties_1810.zip\n",
      "  inflating: uscounties_1810.dbf     \n",
      "  inflating: uscounties_1810.prj     \n",
      "  inflating: uscounties_1810.shp     \n",
      "  inflating: uscounties_1810.shx     \n"
     ]
    }
   ],
   "source": [
    "for f in myfiles:\n",
    "  print(\"Unzipping: \", f)\n",
    "  !unzip {f}"
   ]
  },
  {
   "cell_type": "markdown",
   "metadata": {},
   "source": [
    "Read in country borders shapefile"
   ]
  },
  {
   "cell_type": "code",
<<<<<<< HEAD
   "execution_count": 7,
=======
   "execution_count": null,
>>>>>>> parent of 5c991a8... Update data
   "metadata": {},
   "outputs": [],
   "source": [
    "usa1810 = gpd.read_file(\"./uscounties_1810.shp\")  #US counties in 1810"
   ]
  },
  {
   "cell_type": "markdown",
   "metadata": {},
   "source": [
    "Map out borders"
   ]
  },
  {
   "cell_type": "code",
<<<<<<< HEAD
   "execution_count": 8,
   "metadata": {},
   "outputs": [
    {
     "data": {
      "text/plain": [
       "<matplotlib.axes._subplots.AxesSubplot at 0x10d809470>"
      ]
     },
     "execution_count": 8,
     "metadata": {},
     "output_type": "execute_result"
    },
    {
     "data": {
      "image/png": "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\n",
      "text/plain": [
       "<Figure size 432x288 with 1 Axes>"
      ]
     },
     "metadata": {},
     "output_type": "display_data"
    }
   ],
=======
   "execution_count": null,
   "metadata": {},
   "outputs": [],
>>>>>>> parent of 5c991a8... Update data
   "source": [
    "usa1810.plot()  # it's really that simple!"
   ]
  },
  {
   "cell_type": "code",
   "execution_count": null,
   "metadata": {},
   "outputs": [],
   "source": []
  },
  {
   "cell_type": "code",
   "execution_count": null,
   "metadata": {},
   "outputs": [],
   "source": []
  }
 ],
 "metadata": {
  "kernelspec": {
   "display_name": "Python 3",
   "language": "python",
   "name": "python3"
  },
  "language_info": {
   "codemirror_mode": {
    "name": "ipython",
    "version": 3
   },
   "file_extension": ".py",
   "mimetype": "text/x-python",
   "name": "python",
   "nbconvert_exporter": "python",
   "pygments_lexer": "ipython3",
   "version": "3.6.5"
  }
 },
 "nbformat": 4,
 "nbformat_minor": 2
}
